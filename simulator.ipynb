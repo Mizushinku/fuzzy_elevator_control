{
 "cells": [
  {
   "cell_type": "code",
   "execution_count": 1,
   "metadata": {},
   "outputs": [],
   "source": [
    "from random import choice\n",
    "import plotly.graph_objects as go\n",
    "from operator import add\n",
    "%run fec.ipynb"
   ]
  },
  {
   "cell_type": "code",
   "execution_count": 22,
   "metadata": {},
   "outputs": [],
   "source": [
    "MAX_FLOOR = 15\n",
    "MAX_LOAD = 15\n",
    "T_F = 2\n",
    "T_P = 5\n",
    "NUM_OF_PS = 30"
   ]
  },
  {
   "cell_type": "code",
   "execution_count": 13,
   "metadata": {},
   "outputs": [],
   "source": [
    "class elevator :\n",
    "    \n",
    "    def __init__(self) :\n",
    "        self.pos = 1\n",
    "        self.load = 0\n",
    "        self.ps = []\n",
    "        self.pps = []\n",
    "        self.direct = 'none'  # none / up / down\n",
    "        self.uti = 0\n",
    "        self.stat = 'idle'  # idle / drive / stop\n",
    "        self.totalUti = 0\n",
    "    \n",
    "    def __str__(self) :\n",
    "        return (\n",
    "            f'pos = {self.pos}, load = {self.load}, '\n",
    "            f'len(ps) = {len(self.ps)}, len(pps) = {len(self.pps)}, '\n",
    "            f'direct = {self.direct}, uti = {self.uti}, stat = {self.stat}'\n",
    "        )\n",
    "    \n",
    "    def reset(self) :\n",
    "        self.__init__()\n",
    "    \n",
    "class passenger :\n",
    "    \n",
    "    def __init__(self, s, d, l) :\n",
    "        self.src = s\n",
    "        self.dest = d\n",
    "        self.load = l\n",
    "        self.wt = 0\n",
    "        self.rt = 0\n",
    "        \n",
    "    def __str__(self) :\n",
    "        return (\n",
    "            f'(s, d, l) = ({self.src}, {self.dest}, {self.load}), '\n",
    "            f'waiting time = {self.wt}, riding time = {self.rt}'\n",
    "        )"
   ]
  },
  {
   "cell_type": "code",
   "execution_count": 23,
   "metadata": {},
   "outputs": [],
   "source": [
    "elevators = [elevator(), elevator()]\n",
    "passengers = []\n",
    "served_ps = 0\n",
    "usingFec = True\n",
    "\n",
    "def simulate(useFec = True, debug = False) :\n",
    "    #reset\n",
    "    for ele in elevators :\n",
    "        ele.reset()\n",
    "    passengers.clear()\n",
    "    global served_ps, usingFec\n",
    "    served_ps = 0\n",
    "    usingFec = useFec\n",
    "    \n",
    "    #start\n",
    "    time = 0\n",
    "    psfreq = 10\n",
    "    total_ps = 0\n",
    "    while served_ps < NUM_OF_PS and time < 999:\n",
    "        if time % psfreq == 0 and total_ps < NUM_OF_PS:\n",
    "            if not debug :\n",
    "                ps2hall()\n",
    "            else :\n",
    "                ps2hall_T(total_ps)\n",
    "            total_ps += 1\n",
    "            \n",
    "        check()\n",
    "        plusTime()\n",
    "        \n",
    "        #print(f'after chect in time {time}')\n",
    "        #print(f'elevator 0 : {elevators[0]}')\n",
    "        #print(f'elevator 1 : {elevators[1]}\\n')\n",
    "        \n",
    "        time += 1\n",
    "    \n",
    "    time += max(elevators[0].uti, elevators[1].uti)\n",
    "    \n",
    "    wt_list = []\n",
    "    rt_list = []\n",
    "    for ps in passengers :\n",
    "        wt_list.append(ps.wt)\n",
    "        rt_list.append(ps.rt)\n",
    "    meanWt = sum(wt_list) / len(wt_list)\n",
    "    meanRt = sum(rt_list) / len(rt_list)\n",
    "    lo_0 = elevators[0].totalUti / time\n",
    "    lo_1 = elevators[1].totalUti / time\n",
    "    \n",
    "    rtn = [True,[meanRt,meanWt,time,lo_0,lo_1]] if served_ps == NUM_OF_PS else [False,[]]\n",
    "    return rtn\n",
    "    #print(f'\\nsimulation complete, served {served_ps} in {time}(s)')\n",
    "    #print(f'elevator_0 total uti = {elevators[0].totalUti}')\n",
    "    #print(f'elevator_1 total uti = {elevators[1].totalUti}')\n",
    "    \n",
    "def ps2hall() :\n",
    "    #populations\n",
    "    src_pl =  list(range(1, 16)) + [1, 1, 1, 3, 4]\n",
    "    dest_pl = list(range(1, 16)) + [1, 1, 1, 1, 1, 3, 4]\n",
    "    load_pl = list(range(1, 7)) + [1, 2, 2, 2, 3, 3, 4]\n",
    "    src = choice(src_pl)\n",
    "    dest = choice(dest_pl)\n",
    "    while dest == src :\n",
    "        dest = choice(dest_pl)\n",
    "    load = choice(load_pl)\n",
    "    ps = passenger(src, dest, load)\n",
    "    passengers.append(ps)\n",
    "    \n",
    "    prio_0 = evalp(elevators[0], ps) if usingFec else td_eval(elevators[0], ps)\n",
    "    prio_1 = evalp(elevators[1], ps) if usingFec else td_eval(elevators[1], ps)\n",
    "    if prio_0 > prio_1 :\n",
    "        elevators[0].pps.append(ps)\n",
    "    elif prio_0 < prio_1 :\n",
    "        elevators[1].pps.append(ps)\n",
    "    else :\n",
    "        which = choice([0, 1])\n",
    "        elevators[which].pps.append(ps)\n",
    "    \n",
    "def evalp(ele, pa) :\n",
    "    prio = 0\n",
    "    if ele.direct == 'up' :\n",
    "        if ele.pos > pa.src :\n",
    "            prio -= 1\n",
    "        elif ele.pos < pa.src :\n",
    "            no_ps = True if len(ele.ps) == 0 else False\n",
    "            no_pps = True if len(ele.pps) == 0 else False\n",
    "            if no_ps and not no_pps :\n",
    "                fpps = ele.pps[0]\n",
    "                if fpps.src <= pa.src and fpps.dest < pa.src :\n",
    "                    prio -= 0.7\n",
    "            if not no_ps and not no_pps :\n",
    "                mPsDest = 0\n",
    "                for ps in ele.ps :\n",
    "                    mPsDest = max(mPsDest, ps.dest)\n",
    "                d = True if mPsDest < pa.src else False\n",
    "                # no passenger on the ele whose dest >= pa.src\n",
    "                if d :\n",
    "                    dd = True\n",
    "                    for pps in ele.pps :\n",
    "                        if pps.src in range(ele.pos, mPsDest) and pps.dest >= pa.src :\n",
    "                            dd = False\n",
    "                    if dd :\n",
    "                        prio -= 0.7      \n",
    "    elif ele.direct == 'down' :\n",
    "        if ele.pos < pa.src :\n",
    "            prio -= 1\n",
    "        elif ele.pos > pa.src :\n",
    "            no_ps = True if len(ele.ps) == 0 else False\n",
    "            no_pps = True if len(ele.pps) == 0 else False\n",
    "            if no_ps and not no_pps :\n",
    "                fpps = ele.pps[0]\n",
    "                if fpps.src >= pa.src and fpps.dest > pa.src :\n",
    "                    prio -= 0.7\n",
    "            if not no_ps and not no_pps :\n",
    "                mPsDest = 16\n",
    "                for ps in ele.ps :\n",
    "                    mPsDest = min(mPsDest, ps.dest)\n",
    "                d = True if mPsDest > pa.src else False\n",
    "                # no passenger on the ele whose dest <= pa.src\n",
    "                if d :\n",
    "                    dd = True\n",
    "                    for pps in ele.pps :\n",
    "                        if pps.src in range(mPsDest, ele.pos) and pps.dest <= pa.src :\n",
    "                            dd = False\n",
    "                    if dd :\n",
    "                        prio -= 0.7 \n",
    "            \n",
    "    wt = abs(ele.pos - pa.src) * T_F\n",
    "    rt = abs(pa.src - pa.dest) * T_F\n",
    "    ld = ele.load\n",
    "    td = abs(pa.src - pa.dest)\n",
    "    hcaw = pa.src\n",
    "    daw = pa.dest\n",
    "    prio += fec_eval([wt, rt, ld, td, hcaw, daw])\n",
    "    \n",
    "    return prio\n",
    "\n",
    "def td_eval(ele, pa) :\n",
    "    prio = 0\n",
    "    if ele.stat == 'idle' :\n",
    "        prio += 1\n",
    "    if ele.direct == 'up' and pa.dest > pa.src :\n",
    "        prio += 1\n",
    "    elif ele.direct == 'down' and pa.dest < pa.src :\n",
    "        prio += 1\n",
    "    #prio -= abs(ele.pos - pa.src) / MAX_FLOOR\n",
    "    \n",
    "    return prio\n",
    "\n",
    "def check() :\n",
    "    for ele in elevators :\n",
    "        if ele.stat == 'drive' or ele.stat == 'stop' :\n",
    "            ele.uti -= 1\n",
    "            if ele.uti != 0 :\n",
    "                continue\n",
    "            elif ele.stat == 'drive' :\n",
    "                onFloor(ele)\n",
    "            elif ele.stat == 'stop' :\n",
    "                endOfStop(ele)\n",
    "        if ele.stat == 'idle' :\n",
    "            onIdle(ele)\n",
    "\n",
    "def onFloor(ele) :\n",
    "    if ele.stat == 'drive' :\n",
    "        if ele.direct == 'up' :\n",
    "            ele.pos += 1 if ele.pos < MAX_FLOOR else 0\n",
    "        elif ele.direct == 'down' :\n",
    "            ele.pos -= 1 if ele.pos > 1 else 0\n",
    "    \n",
    "    is_stopping = False\n",
    "    no_ps = False\n",
    "    no_pps = False\n",
    "    # passenger out\n",
    "    out_ps = []\n",
    "    for ps in ele.ps :\n",
    "        if ps.dest == ele.pos :\n",
    "            out_ps.append(ps)\n",
    "    for ps in out_ps :\n",
    "        ele.load -= ps.load\n",
    "        ele.ps.remove(ps)\n",
    "        is_stopping = True\n",
    "        global served_ps\n",
    "        served_ps += 1\n",
    "    if len(ele.ps) == 0 :\n",
    "        no_ps = True\n",
    "    \n",
    "    # passenger in\n",
    "    out_pps = []\n",
    "    for pps in ele.pps :\n",
    "        if pps.src == ele.pos and pps.load + ele.load <= MAX_LOAD :\n",
    "            psd = 'none'\n",
    "            if pps.src < pps.dest :\n",
    "                psd = 'up'\n",
    "            else :\n",
    "                psd = 'down'\n",
    "            if not no_ps and psd != ele.direct :\n",
    "                continue\n",
    "            ele.ps.append(pps)\n",
    "            ele.load += pps.load\n",
    "            if no_ps :\n",
    "                ele.direct = psd\n",
    "            out_pps.append(pps)\n",
    "            is_stopping = True\n",
    "    for pps in out_pps :\n",
    "        ele.pps.remove(pps)\n",
    "\n",
    "    if len(ele.ps) != 0 :\n",
    "        no_ps = False\n",
    "    if len(ele.pps) == 0 :\n",
    "        no_pps = True\n",
    "    \n",
    "    if is_stopping :\n",
    "        ele.stat = 'stop'\n",
    "        ele.uti = T_P\n",
    "        ele.totalUti += T_P\n",
    "        if no_ps :\n",
    "            ele.direct = 'none'\n",
    "    else :\n",
    "        ele.uti = T_F\n",
    "        ele.totalUti += T_F\n",
    "\n",
    "def endOfStop(ele) :\n",
    "    if ele.direct == 'none' :\n",
    "        ele.stat = 'idle'\n",
    "    else :\n",
    "        ele.stat = 'drive'\n",
    "        ele.uti = T_F\n",
    "        ele.totalUti += T_F\n",
    "        \n",
    "def onIdle(ele) :\n",
    "    keep_idle = True\n",
    "    is_stopping = False\n",
    "    \n",
    "    out_pps = []\n",
    "    for pps in ele.pps :\n",
    "        if pps.src == ele.pos :\n",
    "            if pps.load + ele.load <= MAX_LOAD :\n",
    "                psd = 'none'\n",
    "                if pps.src < pps.dest :\n",
    "                    psd = 'up'\n",
    "                else :\n",
    "                    psd = 'down'\n",
    "                if ele.direct != 'none' and psd != ele.direct :\n",
    "                    continue\n",
    "                ele.ps.append(pps)\n",
    "                ele.load += pps.load\n",
    "                if ele.direct == 'none' :\n",
    "                    ele.direct = psd\n",
    "                out_pps.append(pps)\n",
    "                keep_idle = False\n",
    "                is_stopping = True\n",
    "        else :\n",
    "            where2go = 'none'\n",
    "            if pps.src < ele.pos :\n",
    "                where2go = 'down'\n",
    "            else :\n",
    "                where2go = 'up'\n",
    "            if ele.direct == 'none' :\n",
    "                ele.direct = where2go\n",
    "            keep_idle = False\n",
    "    for pps in out_pps :\n",
    "        ele.pps.remove(pps)\n",
    "    \n",
    "    if not keep_idle :\n",
    "        if is_stopping :\n",
    "            ele.stat = 'stop'\n",
    "            ele.uti = T_P\n",
    "            ele.totalUti += T_P\n",
    "        else :\n",
    "            ele.stat = 'drive'\n",
    "            ele.uti = T_F\n",
    "            ele.totalUti += T_F\n",
    "\n",
    "def plusTime() :\n",
    "    for ele in elevators :\n",
    "        for ps in ele.ps :\n",
    "            ps.rt += 1\n",
    "        for pps in ele.pps :\n",
    "            pps.wt += 1"
   ]
  },
  {
   "cell_type": "code",
   "execution_count": 5,
   "metadata": {},
   "outputs": [],
   "source": [
    "# ps2hall_T use for debug\n",
    "def ps2hall_T(t) :\n",
    "    src = [6,9,10,2,13]\n",
    "    dest = [12,7,13,6,7]\n",
    "    load = [3,3,2,2,4]\n",
    "    ps = passenger(src[t], dest[t], load[t])\n",
    "    passengers.append(ps)\n",
    "    prio_0 = evalp(elevators[0], ps)\n",
    "    prio_1 = evalp(elevators[1], ps)\n",
    "    if prio_0 >= prio_1 :\n",
    "        elevators[0].pps.append(ps)\n",
    "    else :\n",
    "        elevators[1].pps.append(ps)"
   ]
  },
  {
   "cell_type": "code",
   "execution_count": 26,
   "metadata": {
    "scrolled": false
   },
   "outputs": [
    {
     "name": "stdout",
     "output_type": "stream",
     "text": [
      "complete (1/100) simulations\n",
      "(mean_wt, mean_rt, total_time, uti_rate_0, uti_rate_1) = (19.833, 29.067, 368, 0.997, 0.867)\n",
      "complete (2/100) simulations\n",
      "(mean_wt, mean_rt, total_time, uti_rate_0, uti_rate_1) = (16.567, 23.567, 354, 0.963, 0.955)\n",
      "complete (3/100) simulations\n",
      "(mean_wt, mean_rt, total_time, uti_rate_0, uti_rate_1) = (17.400, 31.067, 399, 0.862, 0.970)\n",
      "complete (4/100) simulations\n",
      "(mean_wt, mean_rt, total_time, uti_rate_0, uti_rate_1) = (18.533, 25.267, 412, 0.971, 0.806)\n",
      "complete (5/100) simulations\n",
      "(mean_wt, mean_rt, total_time, uti_rate_0, uti_rate_1) = (20.467, 26.833, 342, 0.944, 0.968)\n",
      "complete (6/100) simulations\n",
      "(mean_wt, mean_rt, total_time, uti_rate_0, uti_rate_1) = (19.067, 22.300, 364, 0.937, 0.769)\n",
      "complete (7/100) simulations\n",
      "(mean_wt, mean_rt, total_time, uti_rate_0, uti_rate_1) = (17.200, 30.733, 363, 0.909, 0.983)\n",
      "complete (8/100) simulations\n",
      "(mean_wt, mean_rt, total_time, uti_rate_0, uti_rate_1) = (17.567, 35.433, 370, 0.922, 0.965)\n",
      "complete (9/100) simulations\n",
      "(mean_wt, mean_rt, total_time, uti_rate_0, uti_rate_1) = (23.267, 47.267, 401, 0.948, 0.738)\n",
      "complete (10/100) simulations\n",
      "(mean_wt, mean_rt, total_time, uti_rate_0, uti_rate_1) = (18.733, 31.867, 356, 0.927, 0.997)\n",
      "complete (11/100) simulations\n",
      "(mean_wt, mean_rt, total_time, uti_rate_0, uti_rate_1) = (22.467, 28.167, 335, 0.872, 0.976)\n",
      "complete (12/100) simulations\n",
      "(mean_wt, mean_rt, total_time, uti_rate_0, uti_rate_1) = (19.767, 26.800, 374, 0.877, 0.971)\n",
      "complete (13/100) simulations\n",
      "(mean_wt, mean_rt, total_time, uti_rate_0, uti_rate_1) = (21.067, 16.467, 364, 0.959, 0.931)\n",
      "complete (14/100) simulations\n",
      "(mean_wt, mean_rt, total_time, uti_rate_0, uti_rate_1) = (23.367, 37.900, 359, 0.942, 0.936)\n",
      "complete (15/100) simulations\n",
      "(mean_wt, mean_rt, total_time, uti_rate_0, uti_rate_1) = (17.800, 35.667, 345, 0.974, 0.962)\n",
      "complete (16/100) simulations\n",
      "(mean_wt, mean_rt, total_time, uti_rate_0, uti_rate_1) = (19.267, 46.067, 460, 0.967, 0.785)\n",
      "complete (17/100) simulations\n",
      "(mean_wt, mean_rt, total_time, uti_rate_0, uti_rate_1) = (18.900, 32.167, 373, 0.965, 0.898)\n",
      "complete (18/100) simulations\n",
      "(mean_wt, mean_rt, total_time, uti_rate_0, uti_rate_1) = (19.667, 21.467, 374, 0.995, 0.925)\n",
      "complete (19/100) simulations\n",
      "(mean_wt, mean_rt, total_time, uti_rate_0, uti_rate_1) = (16.133, 31.233, 371, 0.938, 0.914)\n",
      "complete (20/100) simulations\n",
      "(mean_wt, mean_rt, total_time, uti_rate_0, uti_rate_1) = (19.233, 38.100, 397, 0.856, 0.972)\n",
      "complete (21/100) simulations\n",
      "(mean_wt, mean_rt, total_time, uti_rate_0, uti_rate_1) = (20.600, 39.733, 412, 0.879, 0.973)\n",
      "complete (22/100) simulations\n",
      "(mean_wt, mean_rt, total_time, uti_rate_0, uti_rate_1) = (16.400, 42.933, 423, 0.813, 0.998)\n",
      "complete (23/100) simulations\n",
      "(mean_wt, mean_rt, total_time, uti_rate_0, uti_rate_1) = (21.100, 30.967, 349, 0.997, 0.891)\n",
      "complete (24/100) simulations\n",
      "(mean_wt, mean_rt, total_time, uti_rate_0, uti_rate_1) = (20.667, 22.433, 351, 0.897, 0.966)\n",
      "complete (25/100) simulations\n",
      "(mean_wt, mean_rt, total_time, uti_rate_0, uti_rate_1) = (18.200, 47.100, 436, 0.922, 0.677)\n",
      "complete (26/100) simulations\n",
      "(mean_wt, mean_rt, total_time, uti_rate_0, uti_rate_1) = (19.733, 27.733, 392, 0.992, 0.883)\n",
      "complete (27/100) simulations\n",
      "(mean_wt, mean_rt, total_time, uti_rate_0, uti_rate_1) = (20.367, 38.700, 354, 0.963, 0.969)\n",
      "complete (28/100) simulations\n",
      "(mean_wt, mean_rt, total_time, uti_rate_0, uti_rate_1) = (22.900, 33.900, 361, 0.997, 0.881)\n",
      "complete (29/100) simulations\n",
      "(mean_wt, mean_rt, total_time, uti_rate_0, uti_rate_1) = (21.900, 35.667, 371, 0.844, 0.970)\n",
      "complete (30/100) simulations\n",
      "(mean_wt, mean_rt, total_time, uti_rate_0, uti_rate_1) = (19.933, 37.900, 349, 0.994, 0.968)\n",
      "complete (31/100) simulations\n",
      "(mean_wt, mean_rt, total_time, uti_rate_0, uti_rate_1) = (18.633, 32.133, 405, 0.973, 0.832)\n",
      "complete (32/100) simulations\n",
      "(mean_wt, mean_rt, total_time, uti_rate_0, uti_rate_1) = (20.300, 41.667, 383, 0.971, 0.820)\n",
      "complete (33/100) simulations\n",
      "(mean_wt, mean_rt, total_time, uti_rate_0, uti_rate_1) = (21.033, 31.333, 339, 0.997, 0.953)\n",
      "complete (34/100) simulations\n",
      "(mean_wt, mean_rt, total_time, uti_rate_0, uti_rate_1) = (22.833, 26.700, 375, 0.853, 0.888)\n",
      "complete (35/100) simulations\n",
      "(mean_wt, mean_rt, total_time, uti_rate_0, uti_rate_1) = (17.700, 24.633, 349, 0.888, 0.997)\n",
      "complete (36/100) simulations\n",
      "(mean_wt, mean_rt, total_time, uti_rate_0, uti_rate_1) = (17.500, 24.600, 368, 0.997, 0.891)\n",
      "complete (37/100) simulations\n",
      "(mean_wt, mean_rt, total_time, uti_rate_0, uti_rate_1) = (21.433, 34.133, 357, 0.941, 0.944)\n",
      "complete (38/100) simulations\n",
      "(mean_wt, mean_rt, total_time, uti_rate_0, uti_rate_1) = (20.733, 23.567, 359, 0.864, 0.969)\n",
      "complete (39/100) simulations\n",
      "(mean_wt, mean_rt, total_time, uti_rate_0, uti_rate_1) = (18.233, 42.633, 366, 0.888, 0.992)\n",
      "complete (40/100) simulations\n",
      "(mean_wt, mean_rt, total_time, uti_rate_0, uti_rate_1) = (18.267, 33.100, 373, 0.812, 0.971)\n",
      "complete (41/100) simulations\n",
      "(mean_wt, mean_rt, total_time, uti_rate_0, uti_rate_1) = (16.033, 23.967, 383, 0.859, 0.958)\n",
      "complete (42/100) simulations\n",
      "(mean_wt, mean_rt, total_time, uti_rate_0, uti_rate_1) = (20.567, 40.967, 392, 0.801, 0.957)\n",
      "complete (43/100) simulations\n",
      "(mean_wt, mean_rt, total_time, uti_rate_0, uti_rate_1) = (20.333, 21.033, 366, 0.997, 0.749)\n",
      "complete (44/100) simulations\n",
      "(mean_wt, mean_rt, total_time, uti_rate_0, uti_rate_1) = (19.167, 32.433, 403, 0.901, 0.998)\n",
      "complete (45/100) simulations\n",
      "(mean_wt, mean_rt, total_time, uti_rate_0, uti_rate_1) = (18.900, 45.700, 420, 0.795, 0.998)\n",
      "complete (46/100) simulations\n",
      "(mean_wt, mean_rt, total_time, uti_rate_0, uti_rate_1) = (20.700, 25.067, 405, 0.948, 0.921)\n",
      "complete (47/100) simulations\n",
      "(mean_wt, mean_rt, total_time, uti_rate_0, uti_rate_1) = (18.133, 28.567, 364, 0.970, 0.973)\n",
      "complete (48/100) simulations\n",
      "(mean_wt, mean_rt, total_time, uti_rate_0, uti_rate_1) = (21.133, 39.000, 369, 0.954, 0.867)\n",
      "complete (49/100) simulations\n",
      "(mean_wt, mean_rt, total_time, uti_rate_0, uti_rate_1) = (17.900, 30.000, 363, 0.898, 0.959)\n",
      "complete (50/100) simulations\n",
      "(mean_wt, mean_rt, total_time, uti_rate_0, uti_rate_1) = (16.767, 34.933, 393, 0.677, 0.992)\n",
      "complete (51/100) simulations\n",
      "(mean_wt, mean_rt, total_time, uti_rate_0, uti_rate_1) = (15.167, 28.000, 372, 0.841, 0.978)\n",
      "complete (52/100) simulations\n",
      "(mean_wt, mean_rt, total_time, uti_rate_0, uti_rate_1) = (17.567, 26.033, 347, 0.965, 0.925)\n",
      "complete (53/100) simulations\n",
      "(mean_wt, mean_rt, total_time, uti_rate_0, uti_rate_1) = (19.000, 27.167, 359, 0.986, 0.916)\n",
      "complete (54/100) simulations\n",
      "(mean_wt, mean_rt, total_time, uti_rate_0, uti_rate_1) = (18.400, 29.433, 357, 0.980, 0.944)\n",
      "complete (55/100) simulations\n",
      "(mean_wt, mean_rt, total_time, uti_rate_0, uti_rate_1) = (22.367, 35.333, 372, 0.957, 0.944)\n",
      "complete (56/100) simulations\n",
      "(mean_wt, mean_rt, total_time, uti_rate_0, uti_rate_1) = (19.600, 34.233, 372, 0.884, 0.887)\n",
      "complete (57/100) simulations\n",
      "(mean_wt, mean_rt, total_time, uti_rate_0, uti_rate_1) = (19.033, 38.700, 381, 0.932, 0.942)\n",
      "complete (58/100) simulations\n",
      "(mean_wt, mean_rt, total_time, uti_rate_0, uti_rate_1) = (19.600, 24.733, 353, 0.878, 0.997)\n",
      "complete (59/100) simulations\n",
      "(mean_wt, mean_rt, total_time, uti_rate_0, uti_rate_1) = (20.367, 22.767, 367, 0.943, 0.888)\n",
      "complete (60/100) simulations\n",
      "(mean_wt, mean_rt, total_time, uti_rate_0, uti_rate_1) = (21.233, 25.200, 360, 0.939, 0.978)\n",
      "complete (61/100) simulations\n",
      "(mean_wt, mean_rt, total_time, uti_rate_0, uti_rate_1) = (18.600, 23.967, 377, 0.809, 0.865)\n",
      "complete (62/100) simulations\n",
      "(mean_wt, mean_rt, total_time, uti_rate_0, uti_rate_1) = (17.533, 29.833, 369, 0.976, 0.862)\n",
      "complete (63/100) simulations\n",
      "(mean_wt, mean_rt, total_time, uti_rate_0, uti_rate_1) = (18.500, 27.267, 353, 0.853, 0.941)\n",
      "complete (64/100) simulations\n",
      "(mean_wt, mean_rt, total_time, uti_rate_0, uti_rate_1) = (22.633, 35.033, 403, 0.836, 0.948)\n",
      "complete (65/100) simulations\n",
      "(mean_wt, mean_rt, total_time, uti_rate_0, uti_rate_1) = (21.300, 28.667, 371, 0.978, 0.876)\n",
      "complete (66/100) simulations\n",
      "(mean_wt, mean_rt, total_time, uti_rate_0, uti_rate_1) = (20.400, 27.867, 348, 0.885, 0.974)\n",
      "complete (67/100) simulations\n",
      "(mean_wt, mean_rt, total_time, uti_rate_0, uti_rate_1) = (22.467, 36.400, 391, 0.806, 0.967)\n",
      "complete (68/100) simulations\n",
      "(mean_wt, mean_rt, total_time, uti_rate_0, uti_rate_1) = (19.800, 30.900, 385, 0.971, 0.881)\n"
     ]
    },
    {
     "name": "stdout",
     "output_type": "stream",
     "text": [
      "complete (69/100) simulations\n",
      "(mean_wt, mean_rt, total_time, uti_rate_0, uti_rate_1) = (19.467, 23.833, 398, 0.874, 0.972)\n",
      "complete (70/100) simulations\n",
      "(mean_wt, mean_rt, total_time, uti_rate_0, uti_rate_1) = (20.600, 31.533, 378, 0.971, 0.833)\n",
      "complete (71/100) simulations\n",
      "(mean_wt, mean_rt, total_time, uti_rate_0, uti_rate_1) = (19.133, 51.867, 401, 0.883, 0.983)\n",
      "complete (72/100) simulations\n",
      "(mean_wt, mean_rt, total_time, uti_rate_0, uti_rate_1) = (18.767, 36.033, 373, 0.863, 0.925)\n",
      "complete (73/100) simulations\n",
      "(mean_wt, mean_rt, total_time, uti_rate_0, uti_rate_1) = (19.367, 27.333, 340, 0.965, 0.862)\n",
      "complete (74/100) simulations\n",
      "(mean_wt, mean_rt, total_time, uti_rate_0, uti_rate_1) = (20.167, 27.867, 354, 0.969, 0.952)\n",
      "complete (75/100) simulations\n",
      "(mean_wt, mean_rt, total_time, uti_rate_0, uti_rate_1) = (20.133, 27.267, 377, 0.912, 0.828)\n",
      "complete (76/100) simulations\n",
      "(mean_wt, mean_rt, total_time, uti_rate_0, uti_rate_1) = (20.567, 42.467, 401, 0.888, 0.963)\n",
      "complete (77/100) simulations\n",
      "(mean_wt, mean_rt, total_time, uti_rate_0, uti_rate_1) = (18.167, 25.700, 356, 0.874, 0.947)\n",
      "complete (78/100) simulations\n",
      "(mean_wt, mean_rt, total_time, uti_rate_0, uti_rate_1) = (18.100, 31.267, 377, 0.992, 0.894)\n",
      "complete (79/100) simulations\n",
      "(mean_wt, mean_rt, total_time, uti_rate_0, uti_rate_1) = (17.800, 41.267, 374, 0.997, 0.872)\n",
      "complete (80/100) simulations\n",
      "(mean_wt, mean_rt, total_time, uti_rate_0, uti_rate_1) = (18.900, 25.333, 364, 0.849, 0.997)\n",
      "complete (81/100) simulations\n",
      "(mean_wt, mean_rt, total_time, uti_rate_0, uti_rate_1) = (19.200, 44.167, 430, 0.998, 0.730)\n",
      "complete (82/100) simulations\n",
      "(mean_wt, mean_rt, total_time, uti_rate_0, uti_rate_1) = (21.433, 29.300, 365, 0.992, 0.942)\n",
      "complete (83/100) simulations\n",
      "(mean_wt, mean_rt, total_time, uti_rate_0, uti_rate_1) = (19.333, 39.567, 344, 0.968, 0.959)\n",
      "complete (84/100) simulations\n",
      "(mean_wt, mean_rt, total_time, uti_rate_0, uti_rate_1) = (17.967, 29.733, 357, 0.992, 0.944)\n",
      "complete (85/100) simulations\n",
      "(mean_wt, mean_rt, total_time, uti_rate_0, uti_rate_1) = (21.933, 33.700, 353, 0.909, 0.924)\n",
      "complete (86/100) simulations\n",
      "(mean_wt, mean_rt, total_time, uti_rate_0, uti_rate_1) = (21.200, 36.500, 400, 0.973, 0.810)\n",
      "complete (87/100) simulations\n",
      "(mean_wt, mean_rt, total_time, uti_rate_0, uti_rate_1) = (24.700, 27.900, 356, 0.941, 0.941)\n",
      "complete (88/100) simulations\n",
      "(mean_wt, mean_rt, total_time, uti_rate_0, uti_rate_1) = (19.300, 33.633, 352, 0.997, 0.812)\n",
      "complete (89/100) simulations\n",
      "(mean_wt, mean_rt, total_time, uti_rate_0, uti_rate_1) = (19.800, 24.633, 348, 0.934, 0.968)\n",
      "complete (90/100) simulations\n",
      "(mean_wt, mean_rt, total_time, uti_rate_0, uti_rate_1) = (19.167, 38.333, 370, 0.905, 0.997)\n",
      "complete (91/100) simulations\n",
      "(mean_wt, mean_rt, total_time, uti_rate_0, uti_rate_1) = (19.000, 31.400, 392, 0.997, 0.827)\n",
      "complete (92/100) simulations\n",
      "(mean_wt, mean_rt, total_time, uti_rate_0, uti_rate_1) = (19.367, 29.433, 375, 0.949, 0.949)\n",
      "complete (93/100) simulations\n",
      "(mean_wt, mean_rt, total_time, uti_rate_0, uti_rate_1) = (20.967, 26.000, 353, 0.949, 0.969)\n",
      "complete (94/100) simulations\n",
      "(mean_wt, mean_rt, total_time, uti_rate_0, uti_rate_1) = (17.733, 26.133, 365, 0.926, 0.852)\n",
      "complete (95/100) simulations\n",
      "(mean_wt, mean_rt, total_time, uti_rate_0, uti_rate_1) = (19.100, 28.400, 375, 0.923, 0.899)\n",
      "complete (96/100) simulations\n",
      "(mean_wt, mean_rt, total_time, uti_rate_0, uti_rate_1) = (18.433, 22.500, 386, 0.953, 0.741)\n",
      "complete (97/100) simulations\n",
      "(mean_wt, mean_rt, total_time, uti_rate_0, uti_rate_1) = (19.367, 37.133, 384, 0.859, 0.997)\n",
      "complete (98/100) simulations\n",
      "(mean_wt, mean_rt, total_time, uti_rate_0, uti_rate_1) = (19.733, 34.000, 354, 0.963, 0.969)\n",
      "complete (99/100) simulations\n",
      "(mean_wt, mean_rt, total_time, uti_rate_0, uti_rate_1) = (21.000, 31.100, 357, 0.798, 0.969)\n",
      "complete (100/100) simulations\n",
      "(mean_wt, mean_rt, total_time, uti_rate_0, uti_rate_1) = (16.100, 25.767, 339, 0.935, 0.920)\n"
     ]
    },
    {
     "data": {
      "application/vnd.plotly.v1+json": {
       "config": {
        "plotlyServerURL": "https://plot.ly"
       },
       "data": [
        {
         "name": "mean waiting time",
         "type": "scatter",
         "x": [
          1,
          2,
          3,
          4,
          5,
          6,
          7,
          8,
          9,
          10,
          11,
          12,
          13,
          14,
          15,
          16,
          17,
          18,
          19,
          20,
          21,
          22,
          23,
          24,
          25,
          26,
          27,
          28,
          29,
          30,
          31,
          32,
          33,
          34,
          35,
          36,
          37,
          38,
          39,
          40,
          41,
          42,
          43,
          44,
          45,
          46,
          47,
          48,
          49,
          50,
          51,
          52,
          53,
          54,
          55,
          56,
          57,
          58,
          59,
          60,
          61,
          62,
          63,
          64,
          65,
          66,
          67,
          68,
          69,
          70,
          71,
          72,
          73,
          74,
          75,
          76,
          77,
          78,
          79,
          80,
          81,
          82,
          83,
          84,
          85,
          86,
          87,
          88,
          89,
          90,
          91,
          92,
          93,
          94,
          95,
          96,
          97,
          98,
          99,
          100
         ],
         "y": [
          19.833333333333332,
          16.566666666666666,
          17.4,
          18.533333333333335,
          20.466666666666665,
          19.066666666666666,
          17.2,
          17.566666666666666,
          23.266666666666666,
          18.733333333333334,
          22.466666666666665,
          19.766666666666666,
          21.066666666666666,
          23.366666666666667,
          17.8,
          19.266666666666666,
          18.9,
          19.666666666666668,
          16.133333333333333,
          19.233333333333334,
          20.6,
          16.4,
          21.1,
          20.666666666666668,
          18.2,
          19.733333333333334,
          20.366666666666667,
          22.9,
          21.9,
          19.933333333333334,
          18.633333333333333,
          20.3,
          21.033333333333335,
          22.833333333333332,
          17.7,
          17.5,
          21.433333333333334,
          20.733333333333334,
          18.233333333333334,
          18.266666666666666,
          16.033333333333335,
          20.566666666666666,
          20.333333333333332,
          19.166666666666668,
          18.9,
          20.7,
          18.133333333333333,
          21.133333333333333,
          17.9,
          16.766666666666666,
          15.166666666666666,
          17.566666666666666,
          19,
          18.4,
          22.366666666666667,
          19.6,
          19.033333333333335,
          19.6,
          20.366666666666667,
          21.233333333333334,
          18.6,
          17.533333333333335,
          18.5,
          22.633333333333333,
          21.3,
          20.4,
          22.466666666666665,
          19.8,
          19.466666666666665,
          20.6,
          19.133333333333333,
          18.766666666666666,
          19.366666666666667,
          20.166666666666668,
          20.133333333333333,
          20.566666666666666,
          18.166666666666668,
          18.1,
          17.8,
          18.9,
          19.2,
          21.433333333333334,
          19.333333333333332,
          17.966666666666665,
          21.933333333333334,
          21.2,
          24.7,
          19.3,
          19.8,
          19.166666666666668,
          19,
          19.366666666666667,
          20.966666666666665,
          17.733333333333334,
          19.1,
          18.433333333333334,
          19.366666666666667,
          19.733333333333334,
          21,
          16.1
         ]
        },
        {
         "name": "mean riding time",
         "type": "scatter",
         "x": [
          1,
          2,
          3,
          4,
          5,
          6,
          7,
          8,
          9,
          10,
          11,
          12,
          13,
          14,
          15,
          16,
          17,
          18,
          19,
          20,
          21,
          22,
          23,
          24,
          25,
          26,
          27,
          28,
          29,
          30,
          31,
          32,
          33,
          34,
          35,
          36,
          37,
          38,
          39,
          40,
          41,
          42,
          43,
          44,
          45,
          46,
          47,
          48,
          49,
          50,
          51,
          52,
          53,
          54,
          55,
          56,
          57,
          58,
          59,
          60,
          61,
          62,
          63,
          64,
          65,
          66,
          67,
          68,
          69,
          70,
          71,
          72,
          73,
          74,
          75,
          76,
          77,
          78,
          79,
          80,
          81,
          82,
          83,
          84,
          85,
          86,
          87,
          88,
          89,
          90,
          91,
          92,
          93,
          94,
          95,
          96,
          97,
          98,
          99,
          100
         ],
         "y": [
          29.066666666666666,
          23.566666666666666,
          31.066666666666666,
          25.266666666666666,
          26.833333333333332,
          22.3,
          30.733333333333334,
          35.43333333333333,
          47.266666666666666,
          31.866666666666667,
          28.166666666666668,
          26.8,
          16.466666666666665,
          37.9,
          35.666666666666664,
          46.06666666666667,
          32.166666666666664,
          21.466666666666665,
          31.233333333333334,
          38.1,
          39.733333333333334,
          42.93333333333333,
          30.966666666666665,
          22.433333333333334,
          47.1,
          27.733333333333334,
          38.7,
          33.9,
          35.666666666666664,
          37.9,
          32.13333333333333,
          41.666666666666664,
          31.333333333333332,
          26.7,
          24.633333333333333,
          24.6,
          34.13333333333333,
          23.566666666666666,
          42.63333333333333,
          33.1,
          23.966666666666665,
          40.96666666666667,
          21.033333333333335,
          32.43333333333333,
          45.7,
          25.066666666666666,
          28.566666666666666,
          39,
          30,
          34.93333333333333,
          28,
          26.033333333333335,
          27.166666666666668,
          29.433333333333334,
          35.333333333333336,
          34.233333333333334,
          38.7,
          24.733333333333334,
          22.766666666666666,
          25.2,
          23.966666666666665,
          29.833333333333332,
          27.266666666666666,
          35.03333333333333,
          28.666666666666668,
          27.866666666666667,
          36.4,
          30.9,
          23.833333333333332,
          31.533333333333335,
          51.86666666666667,
          36.03333333333333,
          27.333333333333332,
          27.866666666666667,
          27.266666666666666,
          42.46666666666667,
          25.7,
          31.266666666666666,
          41.266666666666666,
          25.333333333333332,
          44.166666666666664,
          29.3,
          39.56666666666667,
          29.733333333333334,
          33.7,
          36.5,
          27.9,
          33.63333333333333,
          24.633333333333333,
          38.333333333333336,
          31.4,
          29.433333333333334,
          26,
          26.133333333333333,
          28.4,
          22.5,
          37.13333333333333,
          34,
          31.1,
          25.766666666666666
         ]
        },
        {
         "name": "mean Ws(mwt + mrt)",
         "type": "scatter",
         "x": [
          1,
          2,
          3,
          4,
          5,
          6,
          7,
          8,
          9,
          10,
          11,
          12,
          13,
          14,
          15,
          16,
          17,
          18,
          19,
          20,
          21,
          22,
          23,
          24,
          25,
          26,
          27,
          28,
          29,
          30,
          31,
          32,
          33,
          34,
          35,
          36,
          37,
          38,
          39,
          40,
          41,
          42,
          43,
          44,
          45,
          46,
          47,
          48,
          49,
          50,
          51,
          52,
          53,
          54,
          55,
          56,
          57,
          58,
          59,
          60,
          61,
          62,
          63,
          64,
          65,
          66,
          67,
          68,
          69,
          70,
          71,
          72,
          73,
          74,
          75,
          76,
          77,
          78,
          79,
          80,
          81,
          82,
          83,
          84,
          85,
          86,
          87,
          88,
          89,
          90,
          91,
          92,
          93,
          94,
          95,
          96,
          97,
          98,
          99,
          100
         ],
         "y": [
          48.9,
          40.13333333333333,
          48.46666666666667,
          43.8,
          47.3,
          41.36666666666667,
          47.93333333333334,
          53,
          70.53333333333333,
          50.6,
          50.63333333333333,
          46.56666666666666,
          37.53333333333333,
          61.266666666666666,
          53.46666666666667,
          65.33333333333334,
          51.06666666666666,
          41.13333333333333,
          47.36666666666667,
          57.333333333333336,
          60.333333333333336,
          59.33333333333333,
          52.06666666666666,
          43.1,
          65.3,
          47.46666666666667,
          59.06666666666667,
          56.8,
          57.56666666666666,
          57.83333333333333,
          50.766666666666666,
          61.96666666666667,
          52.36666666666667,
          49.53333333333333,
          42.33333333333333,
          42.1,
          55.56666666666666,
          44.3,
          60.86666666666667,
          51.36666666666667,
          40,
          61.53333333333333,
          41.36666666666667,
          51.599999999999994,
          64.6,
          45.766666666666666,
          46.7,
          60.13333333333333,
          47.9,
          51.699999999999996,
          43.166666666666664,
          43.6,
          46.16666666666667,
          47.83333333333333,
          57.7,
          53.833333333333336,
          57.733333333333334,
          44.333333333333336,
          43.13333333333333,
          46.43333333333334,
          42.56666666666666,
          47.36666666666667,
          45.766666666666666,
          57.666666666666664,
          49.96666666666667,
          48.266666666666666,
          58.86666666666666,
          50.7,
          43.3,
          52.13333333333334,
          71,
          54.8,
          46.7,
          48.03333333333333,
          47.4,
          63.03333333333333,
          43.86666666666667,
          49.36666666666667,
          59.06666666666666,
          44.233333333333334,
          63.36666666666666,
          50.733333333333334,
          58.900000000000006,
          47.7,
          55.63333333333334,
          57.7,
          52.599999999999994,
          52.93333333333334,
          44.43333333333334,
          57.5,
          50.4,
          48.8,
          46.96666666666667,
          43.86666666666667,
          47.5,
          40.93333333333334,
          56.5,
          53.733333333333334,
          52.1,
          41.86666666666667
         ]
        }
       ],
       "layout": {
        "template": {
         "data": {
          "bar": [
           {
            "error_x": {
             "color": "#2a3f5f"
            },
            "error_y": {
             "color": "#2a3f5f"
            },
            "marker": {
             "line": {
              "color": "#E5ECF6",
              "width": 0.5
             }
            },
            "type": "bar"
           }
          ],
          "barpolar": [
           {
            "marker": {
             "line": {
              "color": "#E5ECF6",
              "width": 0.5
             }
            },
            "type": "barpolar"
           }
          ],
          "carpet": [
           {
            "aaxis": {
             "endlinecolor": "#2a3f5f",
             "gridcolor": "white",
             "linecolor": "white",
             "minorgridcolor": "white",
             "startlinecolor": "#2a3f5f"
            },
            "baxis": {
             "endlinecolor": "#2a3f5f",
             "gridcolor": "white",
             "linecolor": "white",
             "minorgridcolor": "white",
             "startlinecolor": "#2a3f5f"
            },
            "type": "carpet"
           }
          ],
          "choropleth": [
           {
            "colorbar": {
             "outlinewidth": 0,
             "ticks": ""
            },
            "type": "choropleth"
           }
          ],
          "contour": [
           {
            "colorbar": {
             "outlinewidth": 0,
             "ticks": ""
            },
            "colorscale": [
             [
              0,
              "#0d0887"
             ],
             [
              0.1111111111111111,
              "#46039f"
             ],
             [
              0.2222222222222222,
              "#7201a8"
             ],
             [
              0.3333333333333333,
              "#9c179e"
             ],
             [
              0.4444444444444444,
              "#bd3786"
             ],
             [
              0.5555555555555556,
              "#d8576b"
             ],
             [
              0.6666666666666666,
              "#ed7953"
             ],
             [
              0.7777777777777778,
              "#fb9f3a"
             ],
             [
              0.8888888888888888,
              "#fdca26"
             ],
             [
              1,
              "#f0f921"
             ]
            ],
            "type": "contour"
           }
          ],
          "contourcarpet": [
           {
            "colorbar": {
             "outlinewidth": 0,
             "ticks": ""
            },
            "type": "contourcarpet"
           }
          ],
          "heatmap": [
           {
            "colorbar": {
             "outlinewidth": 0,
             "ticks": ""
            },
            "colorscale": [
             [
              0,
              "#0d0887"
             ],
             [
              0.1111111111111111,
              "#46039f"
             ],
             [
              0.2222222222222222,
              "#7201a8"
             ],
             [
              0.3333333333333333,
              "#9c179e"
             ],
             [
              0.4444444444444444,
              "#bd3786"
             ],
             [
              0.5555555555555556,
              "#d8576b"
             ],
             [
              0.6666666666666666,
              "#ed7953"
             ],
             [
              0.7777777777777778,
              "#fb9f3a"
             ],
             [
              0.8888888888888888,
              "#fdca26"
             ],
             [
              1,
              "#f0f921"
             ]
            ],
            "type": "heatmap"
           }
          ],
          "heatmapgl": [
           {
            "colorbar": {
             "outlinewidth": 0,
             "ticks": ""
            },
            "colorscale": [
             [
              0,
              "#0d0887"
             ],
             [
              0.1111111111111111,
              "#46039f"
             ],
             [
              0.2222222222222222,
              "#7201a8"
             ],
             [
              0.3333333333333333,
              "#9c179e"
             ],
             [
              0.4444444444444444,
              "#bd3786"
             ],
             [
              0.5555555555555556,
              "#d8576b"
             ],
             [
              0.6666666666666666,
              "#ed7953"
             ],
             [
              0.7777777777777778,
              "#fb9f3a"
             ],
             [
              0.8888888888888888,
              "#fdca26"
             ],
             [
              1,
              "#f0f921"
             ]
            ],
            "type": "heatmapgl"
           }
          ],
          "histogram": [
           {
            "marker": {
             "colorbar": {
              "outlinewidth": 0,
              "ticks": ""
             }
            },
            "type": "histogram"
           }
          ],
          "histogram2d": [
           {
            "colorbar": {
             "outlinewidth": 0,
             "ticks": ""
            },
            "colorscale": [
             [
              0,
              "#0d0887"
             ],
             [
              0.1111111111111111,
              "#46039f"
             ],
             [
              0.2222222222222222,
              "#7201a8"
             ],
             [
              0.3333333333333333,
              "#9c179e"
             ],
             [
              0.4444444444444444,
              "#bd3786"
             ],
             [
              0.5555555555555556,
              "#d8576b"
             ],
             [
              0.6666666666666666,
              "#ed7953"
             ],
             [
              0.7777777777777778,
              "#fb9f3a"
             ],
             [
              0.8888888888888888,
              "#fdca26"
             ],
             [
              1,
              "#f0f921"
             ]
            ],
            "type": "histogram2d"
           }
          ],
          "histogram2dcontour": [
           {
            "colorbar": {
             "outlinewidth": 0,
             "ticks": ""
            },
            "colorscale": [
             [
              0,
              "#0d0887"
             ],
             [
              0.1111111111111111,
              "#46039f"
             ],
             [
              0.2222222222222222,
              "#7201a8"
             ],
             [
              0.3333333333333333,
              "#9c179e"
             ],
             [
              0.4444444444444444,
              "#bd3786"
             ],
             [
              0.5555555555555556,
              "#d8576b"
             ],
             [
              0.6666666666666666,
              "#ed7953"
             ],
             [
              0.7777777777777778,
              "#fb9f3a"
             ],
             [
              0.8888888888888888,
              "#fdca26"
             ],
             [
              1,
              "#f0f921"
             ]
            ],
            "type": "histogram2dcontour"
           }
          ],
          "mesh3d": [
           {
            "colorbar": {
             "outlinewidth": 0,
             "ticks": ""
            },
            "type": "mesh3d"
           }
          ],
          "parcoords": [
           {
            "line": {
             "colorbar": {
              "outlinewidth": 0,
              "ticks": ""
             }
            },
            "type": "parcoords"
           }
          ],
          "pie": [
           {
            "automargin": true,
            "type": "pie"
           }
          ],
          "scatter": [
           {
            "marker": {
             "colorbar": {
              "outlinewidth": 0,
              "ticks": ""
             }
            },
            "type": "scatter"
           }
          ],
          "scatter3d": [
           {
            "line": {
             "colorbar": {
              "outlinewidth": 0,
              "ticks": ""
             }
            },
            "marker": {
             "colorbar": {
              "outlinewidth": 0,
              "ticks": ""
             }
            },
            "type": "scatter3d"
           }
          ],
          "scattercarpet": [
           {
            "marker": {
             "colorbar": {
              "outlinewidth": 0,
              "ticks": ""
             }
            },
            "type": "scattercarpet"
           }
          ],
          "scattergeo": [
           {
            "marker": {
             "colorbar": {
              "outlinewidth": 0,
              "ticks": ""
             }
            },
            "type": "scattergeo"
           }
          ],
          "scattergl": [
           {
            "marker": {
             "colorbar": {
              "outlinewidth": 0,
              "ticks": ""
             }
            },
            "type": "scattergl"
           }
          ],
          "scattermapbox": [
           {
            "marker": {
             "colorbar": {
              "outlinewidth": 0,
              "ticks": ""
             }
            },
            "type": "scattermapbox"
           }
          ],
          "scatterpolar": [
           {
            "marker": {
             "colorbar": {
              "outlinewidth": 0,
              "ticks": ""
             }
            },
            "type": "scatterpolar"
           }
          ],
          "scatterpolargl": [
           {
            "marker": {
             "colorbar": {
              "outlinewidth": 0,
              "ticks": ""
             }
            },
            "type": "scatterpolargl"
           }
          ],
          "scatterternary": [
           {
            "marker": {
             "colorbar": {
              "outlinewidth": 0,
              "ticks": ""
             }
            },
            "type": "scatterternary"
           }
          ],
          "surface": [
           {
            "colorbar": {
             "outlinewidth": 0,
             "ticks": ""
            },
            "colorscale": [
             [
              0,
              "#0d0887"
             ],
             [
              0.1111111111111111,
              "#46039f"
             ],
             [
              0.2222222222222222,
              "#7201a8"
             ],
             [
              0.3333333333333333,
              "#9c179e"
             ],
             [
              0.4444444444444444,
              "#bd3786"
             ],
             [
              0.5555555555555556,
              "#d8576b"
             ],
             [
              0.6666666666666666,
              "#ed7953"
             ],
             [
              0.7777777777777778,
              "#fb9f3a"
             ],
             [
              0.8888888888888888,
              "#fdca26"
             ],
             [
              1,
              "#f0f921"
             ]
            ],
            "type": "surface"
           }
          ],
          "table": [
           {
            "cells": {
             "fill": {
              "color": "#EBF0F8"
             },
             "line": {
              "color": "white"
             }
            },
            "header": {
             "fill": {
              "color": "#C8D4E3"
             },
             "line": {
              "color": "white"
             }
            },
            "type": "table"
           }
          ]
         },
         "layout": {
          "annotationdefaults": {
           "arrowcolor": "#2a3f5f",
           "arrowhead": 0,
           "arrowwidth": 1
          },
          "coloraxis": {
           "colorbar": {
            "outlinewidth": 0,
            "ticks": ""
           }
          },
          "colorscale": {
           "diverging": [
            [
             0,
             "#8e0152"
            ],
            [
             0.1,
             "#c51b7d"
            ],
            [
             0.2,
             "#de77ae"
            ],
            [
             0.3,
             "#f1b6da"
            ],
            [
             0.4,
             "#fde0ef"
            ],
            [
             0.5,
             "#f7f7f7"
            ],
            [
             0.6,
             "#e6f5d0"
            ],
            [
             0.7,
             "#b8e186"
            ],
            [
             0.8,
             "#7fbc41"
            ],
            [
             0.9,
             "#4d9221"
            ],
            [
             1,
             "#276419"
            ]
           ],
           "sequential": [
            [
             0,
             "#0d0887"
            ],
            [
             0.1111111111111111,
             "#46039f"
            ],
            [
             0.2222222222222222,
             "#7201a8"
            ],
            [
             0.3333333333333333,
             "#9c179e"
            ],
            [
             0.4444444444444444,
             "#bd3786"
            ],
            [
             0.5555555555555556,
             "#d8576b"
            ],
            [
             0.6666666666666666,
             "#ed7953"
            ],
            [
             0.7777777777777778,
             "#fb9f3a"
            ],
            [
             0.8888888888888888,
             "#fdca26"
            ],
            [
             1,
             "#f0f921"
            ]
           ],
           "sequentialminus": [
            [
             0,
             "#0d0887"
            ],
            [
             0.1111111111111111,
             "#46039f"
            ],
            [
             0.2222222222222222,
             "#7201a8"
            ],
            [
             0.3333333333333333,
             "#9c179e"
            ],
            [
             0.4444444444444444,
             "#bd3786"
            ],
            [
             0.5555555555555556,
             "#d8576b"
            ],
            [
             0.6666666666666666,
             "#ed7953"
            ],
            [
             0.7777777777777778,
             "#fb9f3a"
            ],
            [
             0.8888888888888888,
             "#fdca26"
            ],
            [
             1,
             "#f0f921"
            ]
           ]
          },
          "colorway": [
           "#636efa",
           "#EF553B",
           "#00cc96",
           "#ab63fa",
           "#FFA15A",
           "#19d3f3",
           "#FF6692",
           "#B6E880",
           "#FF97FF",
           "#FECB52"
          ],
          "font": {
           "color": "#2a3f5f"
          },
          "geo": {
           "bgcolor": "white",
           "lakecolor": "white",
           "landcolor": "#E5ECF6",
           "showlakes": true,
           "showland": true,
           "subunitcolor": "white"
          },
          "hoverlabel": {
           "align": "left"
          },
          "hovermode": "closest",
          "mapbox": {
           "style": "light"
          },
          "paper_bgcolor": "white",
          "plot_bgcolor": "#E5ECF6",
          "polar": {
           "angularaxis": {
            "gridcolor": "white",
            "linecolor": "white",
            "ticks": ""
           },
           "bgcolor": "#E5ECF6",
           "radialaxis": {
            "gridcolor": "white",
            "linecolor": "white",
            "ticks": ""
           }
          },
          "scene": {
           "xaxis": {
            "backgroundcolor": "#E5ECF6",
            "gridcolor": "white",
            "gridwidth": 2,
            "linecolor": "white",
            "showbackground": true,
            "ticks": "",
            "zerolinecolor": "white"
           },
           "yaxis": {
            "backgroundcolor": "#E5ECF6",
            "gridcolor": "white",
            "gridwidth": 2,
            "linecolor": "white",
            "showbackground": true,
            "ticks": "",
            "zerolinecolor": "white"
           },
           "zaxis": {
            "backgroundcolor": "#E5ECF6",
            "gridcolor": "white",
            "gridwidth": 2,
            "linecolor": "white",
            "showbackground": true,
            "ticks": "",
            "zerolinecolor": "white"
           }
          },
          "shapedefaults": {
           "line": {
            "color": "#2a3f5f"
           }
          },
          "ternary": {
           "aaxis": {
            "gridcolor": "white",
            "linecolor": "white",
            "ticks": ""
           },
           "baxis": {
            "gridcolor": "white",
            "linecolor": "white",
            "ticks": ""
           },
           "bgcolor": "#E5ECF6",
           "caxis": {
            "gridcolor": "white",
            "linecolor": "white",
            "ticks": ""
           }
          },
          "title": {
           "x": 0.05
          },
          "xaxis": {
           "automargin": true,
           "gridcolor": "white",
           "linecolor": "white",
           "ticks": "",
           "title": {
            "standoff": 15
           },
           "zerolinecolor": "white",
           "zerolinewidth": 2
          },
          "yaxis": {
           "automargin": true,
           "gridcolor": "white",
           "linecolor": "white",
           "ticks": "",
           "title": {
            "standoff": 15
           },
           "zerolinecolor": "white",
           "zerolinewidth": 2
          }
         }
        },
        "title": {
         "text": "WT, RT and Ws"
        },
        "xaxis": {
         "title": {
          "text": "K-th simulation"
         }
        },
        "yaxis": {
         "title": {
          "text": "time(s)"
         }
        }
       }
      },
      "text/html": [
       "<div>\n",
       "        \n",
       "        \n",
       "            <div id=\"848a00c5-f2a1-48c8-be81-625d37121def\" class=\"plotly-graph-div\" style=\"height:525px; width:100%;\"></div>\n",
       "            <script type=\"text/javascript\">\n",
       "                require([\"plotly\"], function(Plotly) {\n",
       "                    window.PLOTLYENV=window.PLOTLYENV || {};\n",
       "                    \n",
       "                if (document.getElementById(\"848a00c5-f2a1-48c8-be81-625d37121def\")) {\n",
       "                    Plotly.newPlot(\n",
       "                        '848a00c5-f2a1-48c8-be81-625d37121def',\n",
       "                        [{\"name\": \"mean waiting time\", \"type\": \"scatter\", \"x\": [1, 2, 3, 4, 5, 6, 7, 8, 9, 10, 11, 12, 13, 14, 15, 16, 17, 18, 19, 20, 21, 22, 23, 24, 25, 26, 27, 28, 29, 30, 31, 32, 33, 34, 35, 36, 37, 38, 39, 40, 41, 42, 43, 44, 45, 46, 47, 48, 49, 50, 51, 52, 53, 54, 55, 56, 57, 58, 59, 60, 61, 62, 63, 64, 65, 66, 67, 68, 69, 70, 71, 72, 73, 74, 75, 76, 77, 78, 79, 80, 81, 82, 83, 84, 85, 86, 87, 88, 89, 90, 91, 92, 93, 94, 95, 96, 97, 98, 99, 100], \"y\": [19.833333333333332, 16.566666666666666, 17.4, 18.533333333333335, 20.466666666666665, 19.066666666666666, 17.2, 17.566666666666666, 23.266666666666666, 18.733333333333334, 22.466666666666665, 19.766666666666666, 21.066666666666666, 23.366666666666667, 17.8, 19.266666666666666, 18.9, 19.666666666666668, 16.133333333333333, 19.233333333333334, 20.6, 16.4, 21.1, 20.666666666666668, 18.2, 19.733333333333334, 20.366666666666667, 22.9, 21.9, 19.933333333333334, 18.633333333333333, 20.3, 21.033333333333335, 22.833333333333332, 17.7, 17.5, 21.433333333333334, 20.733333333333334, 18.233333333333334, 18.266666666666666, 16.033333333333335, 20.566666666666666, 20.333333333333332, 19.166666666666668, 18.9, 20.7, 18.133333333333333, 21.133333333333333, 17.9, 16.766666666666666, 15.166666666666666, 17.566666666666666, 19.0, 18.4, 22.366666666666667, 19.6, 19.033333333333335, 19.6, 20.366666666666667, 21.233333333333334, 18.6, 17.533333333333335, 18.5, 22.633333333333333, 21.3, 20.4, 22.466666666666665, 19.8, 19.466666666666665, 20.6, 19.133333333333333, 18.766666666666666, 19.366666666666667, 20.166666666666668, 20.133333333333333, 20.566666666666666, 18.166666666666668, 18.1, 17.8, 18.9, 19.2, 21.433333333333334, 19.333333333333332, 17.966666666666665, 21.933333333333334, 21.2, 24.7, 19.3, 19.8, 19.166666666666668, 19.0, 19.366666666666667, 20.966666666666665, 17.733333333333334, 19.1, 18.433333333333334, 19.366666666666667, 19.733333333333334, 21.0, 16.1]}, {\"name\": \"mean riding time\", \"type\": \"scatter\", \"x\": [1, 2, 3, 4, 5, 6, 7, 8, 9, 10, 11, 12, 13, 14, 15, 16, 17, 18, 19, 20, 21, 22, 23, 24, 25, 26, 27, 28, 29, 30, 31, 32, 33, 34, 35, 36, 37, 38, 39, 40, 41, 42, 43, 44, 45, 46, 47, 48, 49, 50, 51, 52, 53, 54, 55, 56, 57, 58, 59, 60, 61, 62, 63, 64, 65, 66, 67, 68, 69, 70, 71, 72, 73, 74, 75, 76, 77, 78, 79, 80, 81, 82, 83, 84, 85, 86, 87, 88, 89, 90, 91, 92, 93, 94, 95, 96, 97, 98, 99, 100], \"y\": [29.066666666666666, 23.566666666666666, 31.066666666666666, 25.266666666666666, 26.833333333333332, 22.3, 30.733333333333334, 35.43333333333333, 47.266666666666666, 31.866666666666667, 28.166666666666668, 26.8, 16.466666666666665, 37.9, 35.666666666666664, 46.06666666666667, 32.166666666666664, 21.466666666666665, 31.233333333333334, 38.1, 39.733333333333334, 42.93333333333333, 30.966666666666665, 22.433333333333334, 47.1, 27.733333333333334, 38.7, 33.9, 35.666666666666664, 37.9, 32.13333333333333, 41.666666666666664, 31.333333333333332, 26.7, 24.633333333333333, 24.6, 34.13333333333333, 23.566666666666666, 42.63333333333333, 33.1, 23.966666666666665, 40.96666666666667, 21.033333333333335, 32.43333333333333, 45.7, 25.066666666666666, 28.566666666666666, 39.0, 30.0, 34.93333333333333, 28.0, 26.033333333333335, 27.166666666666668, 29.433333333333334, 35.333333333333336, 34.233333333333334, 38.7, 24.733333333333334, 22.766666666666666, 25.2, 23.966666666666665, 29.833333333333332, 27.266666666666666, 35.03333333333333, 28.666666666666668, 27.866666666666667, 36.4, 30.9, 23.833333333333332, 31.533333333333335, 51.86666666666667, 36.03333333333333, 27.333333333333332, 27.866666666666667, 27.266666666666666, 42.46666666666667, 25.7, 31.266666666666666, 41.266666666666666, 25.333333333333332, 44.166666666666664, 29.3, 39.56666666666667, 29.733333333333334, 33.7, 36.5, 27.9, 33.63333333333333, 24.633333333333333, 38.333333333333336, 31.4, 29.433333333333334, 26.0, 26.133333333333333, 28.4, 22.5, 37.13333333333333, 34.0, 31.1, 25.766666666666666]}, {\"name\": \"mean Ws(mwt + mrt)\", \"type\": \"scatter\", \"x\": [1, 2, 3, 4, 5, 6, 7, 8, 9, 10, 11, 12, 13, 14, 15, 16, 17, 18, 19, 20, 21, 22, 23, 24, 25, 26, 27, 28, 29, 30, 31, 32, 33, 34, 35, 36, 37, 38, 39, 40, 41, 42, 43, 44, 45, 46, 47, 48, 49, 50, 51, 52, 53, 54, 55, 56, 57, 58, 59, 60, 61, 62, 63, 64, 65, 66, 67, 68, 69, 70, 71, 72, 73, 74, 75, 76, 77, 78, 79, 80, 81, 82, 83, 84, 85, 86, 87, 88, 89, 90, 91, 92, 93, 94, 95, 96, 97, 98, 99, 100], \"y\": [48.9, 40.13333333333333, 48.46666666666667, 43.8, 47.3, 41.36666666666667, 47.93333333333334, 53.0, 70.53333333333333, 50.6, 50.63333333333333, 46.56666666666666, 37.53333333333333, 61.266666666666666, 53.46666666666667, 65.33333333333334, 51.06666666666666, 41.13333333333333, 47.36666666666667, 57.333333333333336, 60.333333333333336, 59.33333333333333, 52.06666666666666, 43.1, 65.3, 47.46666666666667, 59.06666666666667, 56.8, 57.56666666666666, 57.83333333333333, 50.766666666666666, 61.96666666666667, 52.36666666666667, 49.53333333333333, 42.33333333333333, 42.1, 55.56666666666666, 44.3, 60.86666666666667, 51.36666666666667, 40.0, 61.53333333333333, 41.36666666666667, 51.599999999999994, 64.6, 45.766666666666666, 46.7, 60.13333333333333, 47.9, 51.699999999999996, 43.166666666666664, 43.6, 46.16666666666667, 47.83333333333333, 57.7, 53.833333333333336, 57.733333333333334, 44.333333333333336, 43.13333333333333, 46.43333333333334, 42.56666666666666, 47.36666666666667, 45.766666666666666, 57.666666666666664, 49.96666666666667, 48.266666666666666, 58.86666666666666, 50.7, 43.3, 52.13333333333334, 71.0, 54.8, 46.7, 48.03333333333333, 47.4, 63.03333333333333, 43.86666666666667, 49.36666666666667, 59.06666666666666, 44.233333333333334, 63.36666666666666, 50.733333333333334, 58.900000000000006, 47.7, 55.63333333333334, 57.7, 52.599999999999994, 52.93333333333334, 44.43333333333334, 57.5, 50.4, 48.8, 46.96666666666667, 43.86666666666667, 47.5, 40.93333333333334, 56.5, 53.733333333333334, 52.1, 41.86666666666667]}],\n",
       "                        {\"template\": {\"data\": {\"bar\": [{\"error_x\": {\"color\": \"#2a3f5f\"}, \"error_y\": {\"color\": \"#2a3f5f\"}, \"marker\": {\"line\": {\"color\": \"#E5ECF6\", \"width\": 0.5}}, \"type\": \"bar\"}], \"barpolar\": [{\"marker\": {\"line\": {\"color\": \"#E5ECF6\", \"width\": 0.5}}, \"type\": \"barpolar\"}], \"carpet\": [{\"aaxis\": {\"endlinecolor\": \"#2a3f5f\", \"gridcolor\": \"white\", \"linecolor\": \"white\", \"minorgridcolor\": \"white\", \"startlinecolor\": \"#2a3f5f\"}, \"baxis\": {\"endlinecolor\": \"#2a3f5f\", \"gridcolor\": \"white\", \"linecolor\": \"white\", \"minorgridcolor\": \"white\", \"startlinecolor\": \"#2a3f5f\"}, \"type\": \"carpet\"}], \"choropleth\": [{\"colorbar\": {\"outlinewidth\": 0, \"ticks\": \"\"}, \"type\": \"choropleth\"}], \"contour\": [{\"colorbar\": {\"outlinewidth\": 0, \"ticks\": \"\"}, \"colorscale\": [[0.0, \"#0d0887\"], [0.1111111111111111, \"#46039f\"], [0.2222222222222222, \"#7201a8\"], [0.3333333333333333, \"#9c179e\"], [0.4444444444444444, \"#bd3786\"], [0.5555555555555556, \"#d8576b\"], [0.6666666666666666, \"#ed7953\"], [0.7777777777777778, \"#fb9f3a\"], [0.8888888888888888, \"#fdca26\"], [1.0, \"#f0f921\"]], \"type\": \"contour\"}], \"contourcarpet\": [{\"colorbar\": {\"outlinewidth\": 0, \"ticks\": \"\"}, \"type\": \"contourcarpet\"}], \"heatmap\": [{\"colorbar\": {\"outlinewidth\": 0, \"ticks\": \"\"}, \"colorscale\": [[0.0, \"#0d0887\"], [0.1111111111111111, \"#46039f\"], [0.2222222222222222, \"#7201a8\"], [0.3333333333333333, \"#9c179e\"], [0.4444444444444444, \"#bd3786\"], [0.5555555555555556, \"#d8576b\"], [0.6666666666666666, \"#ed7953\"], [0.7777777777777778, \"#fb9f3a\"], [0.8888888888888888, \"#fdca26\"], [1.0, \"#f0f921\"]], \"type\": \"heatmap\"}], \"heatmapgl\": [{\"colorbar\": {\"outlinewidth\": 0, \"ticks\": \"\"}, \"colorscale\": [[0.0, \"#0d0887\"], [0.1111111111111111, \"#46039f\"], [0.2222222222222222, \"#7201a8\"], [0.3333333333333333, \"#9c179e\"], [0.4444444444444444, \"#bd3786\"], [0.5555555555555556, \"#d8576b\"], [0.6666666666666666, \"#ed7953\"], [0.7777777777777778, \"#fb9f3a\"], [0.8888888888888888, \"#fdca26\"], [1.0, \"#f0f921\"]], \"type\": \"heatmapgl\"}], \"histogram\": [{\"marker\": {\"colorbar\": {\"outlinewidth\": 0, \"ticks\": \"\"}}, \"type\": \"histogram\"}], \"histogram2d\": [{\"colorbar\": {\"outlinewidth\": 0, \"ticks\": \"\"}, \"colorscale\": [[0.0, \"#0d0887\"], [0.1111111111111111, \"#46039f\"], [0.2222222222222222, \"#7201a8\"], [0.3333333333333333, \"#9c179e\"], [0.4444444444444444, \"#bd3786\"], [0.5555555555555556, \"#d8576b\"], [0.6666666666666666, \"#ed7953\"], [0.7777777777777778, \"#fb9f3a\"], [0.8888888888888888, \"#fdca26\"], [1.0, \"#f0f921\"]], \"type\": \"histogram2d\"}], \"histogram2dcontour\": [{\"colorbar\": {\"outlinewidth\": 0, \"ticks\": \"\"}, \"colorscale\": [[0.0, \"#0d0887\"], [0.1111111111111111, \"#46039f\"], [0.2222222222222222, \"#7201a8\"], [0.3333333333333333, \"#9c179e\"], [0.4444444444444444, \"#bd3786\"], [0.5555555555555556, \"#d8576b\"], [0.6666666666666666, \"#ed7953\"], [0.7777777777777778, \"#fb9f3a\"], [0.8888888888888888, \"#fdca26\"], [1.0, \"#f0f921\"]], \"type\": \"histogram2dcontour\"}], \"mesh3d\": [{\"colorbar\": {\"outlinewidth\": 0, \"ticks\": \"\"}, \"type\": \"mesh3d\"}], \"parcoords\": [{\"line\": {\"colorbar\": {\"outlinewidth\": 0, \"ticks\": \"\"}}, \"type\": \"parcoords\"}], \"pie\": [{\"automargin\": true, \"type\": \"pie\"}], \"scatter\": [{\"marker\": {\"colorbar\": {\"outlinewidth\": 0, \"ticks\": \"\"}}, \"type\": \"scatter\"}], \"scatter3d\": [{\"line\": {\"colorbar\": {\"outlinewidth\": 0, \"ticks\": \"\"}}, \"marker\": {\"colorbar\": {\"outlinewidth\": 0, \"ticks\": \"\"}}, \"type\": \"scatter3d\"}], \"scattercarpet\": [{\"marker\": {\"colorbar\": {\"outlinewidth\": 0, \"ticks\": \"\"}}, \"type\": \"scattercarpet\"}], \"scattergeo\": [{\"marker\": {\"colorbar\": {\"outlinewidth\": 0, \"ticks\": \"\"}}, \"type\": \"scattergeo\"}], \"scattergl\": [{\"marker\": {\"colorbar\": {\"outlinewidth\": 0, \"ticks\": \"\"}}, \"type\": \"scattergl\"}], \"scattermapbox\": [{\"marker\": {\"colorbar\": {\"outlinewidth\": 0, \"ticks\": \"\"}}, \"type\": \"scattermapbox\"}], \"scatterpolar\": [{\"marker\": {\"colorbar\": {\"outlinewidth\": 0, \"ticks\": \"\"}}, \"type\": \"scatterpolar\"}], \"scatterpolargl\": [{\"marker\": {\"colorbar\": {\"outlinewidth\": 0, \"ticks\": \"\"}}, \"type\": \"scatterpolargl\"}], \"scatterternary\": [{\"marker\": {\"colorbar\": {\"outlinewidth\": 0, \"ticks\": \"\"}}, \"type\": \"scatterternary\"}], \"surface\": [{\"colorbar\": {\"outlinewidth\": 0, \"ticks\": \"\"}, \"colorscale\": [[0.0, \"#0d0887\"], [0.1111111111111111, \"#46039f\"], [0.2222222222222222, \"#7201a8\"], [0.3333333333333333, \"#9c179e\"], [0.4444444444444444, \"#bd3786\"], [0.5555555555555556, \"#d8576b\"], [0.6666666666666666, \"#ed7953\"], [0.7777777777777778, \"#fb9f3a\"], [0.8888888888888888, \"#fdca26\"], [1.0, \"#f0f921\"]], \"type\": \"surface\"}], \"table\": [{\"cells\": {\"fill\": {\"color\": \"#EBF0F8\"}, \"line\": {\"color\": \"white\"}}, \"header\": {\"fill\": {\"color\": \"#C8D4E3\"}, \"line\": {\"color\": \"white\"}}, \"type\": \"table\"}]}, \"layout\": {\"annotationdefaults\": {\"arrowcolor\": \"#2a3f5f\", \"arrowhead\": 0, \"arrowwidth\": 1}, \"coloraxis\": {\"colorbar\": {\"outlinewidth\": 0, \"ticks\": \"\"}}, \"colorscale\": {\"diverging\": [[0, \"#8e0152\"], [0.1, \"#c51b7d\"], [0.2, \"#de77ae\"], [0.3, \"#f1b6da\"], [0.4, \"#fde0ef\"], [0.5, \"#f7f7f7\"], [0.6, \"#e6f5d0\"], [0.7, \"#b8e186\"], [0.8, \"#7fbc41\"], [0.9, \"#4d9221\"], [1, \"#276419\"]], \"sequential\": [[0.0, \"#0d0887\"], [0.1111111111111111, \"#46039f\"], [0.2222222222222222, \"#7201a8\"], [0.3333333333333333, \"#9c179e\"], [0.4444444444444444, \"#bd3786\"], [0.5555555555555556, \"#d8576b\"], [0.6666666666666666, \"#ed7953\"], [0.7777777777777778, \"#fb9f3a\"], [0.8888888888888888, \"#fdca26\"], [1.0, \"#f0f921\"]], \"sequentialminus\": [[0.0, \"#0d0887\"], [0.1111111111111111, \"#46039f\"], [0.2222222222222222, \"#7201a8\"], [0.3333333333333333, \"#9c179e\"], [0.4444444444444444, \"#bd3786\"], [0.5555555555555556, \"#d8576b\"], [0.6666666666666666, \"#ed7953\"], [0.7777777777777778, \"#fb9f3a\"], [0.8888888888888888, \"#fdca26\"], [1.0, \"#f0f921\"]]}, \"colorway\": [\"#636efa\", \"#EF553B\", \"#00cc96\", \"#ab63fa\", \"#FFA15A\", \"#19d3f3\", \"#FF6692\", \"#B6E880\", \"#FF97FF\", \"#FECB52\"], \"font\": {\"color\": \"#2a3f5f\"}, \"geo\": {\"bgcolor\": \"white\", \"lakecolor\": \"white\", \"landcolor\": \"#E5ECF6\", \"showlakes\": true, \"showland\": true, \"subunitcolor\": \"white\"}, \"hoverlabel\": {\"align\": \"left\"}, \"hovermode\": \"closest\", \"mapbox\": {\"style\": \"light\"}, \"paper_bgcolor\": \"white\", \"plot_bgcolor\": \"#E5ECF6\", \"polar\": {\"angularaxis\": {\"gridcolor\": \"white\", \"linecolor\": \"white\", \"ticks\": \"\"}, \"bgcolor\": \"#E5ECF6\", \"radialaxis\": {\"gridcolor\": \"white\", \"linecolor\": \"white\", \"ticks\": \"\"}}, \"scene\": {\"xaxis\": {\"backgroundcolor\": \"#E5ECF6\", \"gridcolor\": \"white\", \"gridwidth\": 2, \"linecolor\": \"white\", \"showbackground\": true, \"ticks\": \"\", \"zerolinecolor\": \"white\"}, \"yaxis\": {\"backgroundcolor\": \"#E5ECF6\", \"gridcolor\": \"white\", \"gridwidth\": 2, \"linecolor\": \"white\", \"showbackground\": true, \"ticks\": \"\", \"zerolinecolor\": \"white\"}, \"zaxis\": {\"backgroundcolor\": \"#E5ECF6\", \"gridcolor\": \"white\", \"gridwidth\": 2, \"linecolor\": \"white\", \"showbackground\": true, \"ticks\": \"\", \"zerolinecolor\": \"white\"}}, \"shapedefaults\": {\"line\": {\"color\": \"#2a3f5f\"}}, \"ternary\": {\"aaxis\": {\"gridcolor\": \"white\", \"linecolor\": \"white\", \"ticks\": \"\"}, \"baxis\": {\"gridcolor\": \"white\", \"linecolor\": \"white\", \"ticks\": \"\"}, \"bgcolor\": \"#E5ECF6\", \"caxis\": {\"gridcolor\": \"white\", \"linecolor\": \"white\", \"ticks\": \"\"}}, \"title\": {\"x\": 0.05}, \"xaxis\": {\"automargin\": true, \"gridcolor\": \"white\", \"linecolor\": \"white\", \"ticks\": \"\", \"title\": {\"standoff\": 15}, \"zerolinecolor\": \"white\", \"zerolinewidth\": 2}, \"yaxis\": {\"automargin\": true, \"gridcolor\": \"white\", \"linecolor\": \"white\", \"ticks\": \"\", \"title\": {\"standoff\": 15}, \"zerolinecolor\": \"white\", \"zerolinewidth\": 2}}}, \"title\": {\"text\": \"WT, RT and Ws\"}, \"xaxis\": {\"title\": {\"text\": \"K-th simulation\"}}, \"yaxis\": {\"title\": {\"text\": \"time(s)\"}}},\n",
       "                        {\"responsive\": true}\n",
       "                    ).then(function(){\n",
       "                            \n",
       "var gd = document.getElementById('848a00c5-f2a1-48c8-be81-625d37121def');\n",
       "var x = new MutationObserver(function (mutations, observer) {{\n",
       "        var display = window.getComputedStyle(gd).display;\n",
       "        if (!display || display === 'none') {{\n",
       "            console.log([gd, 'removed!']);\n",
       "            Plotly.purge(gd);\n",
       "            observer.disconnect();\n",
       "        }}\n",
       "}});\n",
       "\n",
       "// Listen for the removal of the full notebook cells\n",
       "var notebookContainer = gd.closest('#notebook-container');\n",
       "if (notebookContainer) {{\n",
       "    x.observe(notebookContainer, {childList: true});\n",
       "}}\n",
       "\n",
       "// Listen for the clearing of the current output cell\n",
       "var outputEl = gd.closest('.output');\n",
       "if (outputEl) {{\n",
       "    x.observe(outputEl, {childList: true});\n",
       "}}\n",
       "\n",
       "                        })\n",
       "                };\n",
       "                });\n",
       "            </script>\n",
       "        </div>"
      ]
     },
     "metadata": {},
     "output_type": "display_data"
    },
    {
     "data": {
      "application/vnd.plotly.v1+json": {
       "config": {
        "plotlyServerURL": "https://plot.ly"
       },
       "data": [
        {
         "name": "mean waiting time",
         "type": "box",
         "y": [
          19.833333333333332,
          16.566666666666666,
          17.4,
          18.533333333333335,
          20.466666666666665,
          19.066666666666666,
          17.2,
          17.566666666666666,
          23.266666666666666,
          18.733333333333334,
          22.466666666666665,
          19.766666666666666,
          21.066666666666666,
          23.366666666666667,
          17.8,
          19.266666666666666,
          18.9,
          19.666666666666668,
          16.133333333333333,
          19.233333333333334,
          20.6,
          16.4,
          21.1,
          20.666666666666668,
          18.2,
          19.733333333333334,
          20.366666666666667,
          22.9,
          21.9,
          19.933333333333334,
          18.633333333333333,
          20.3,
          21.033333333333335,
          22.833333333333332,
          17.7,
          17.5,
          21.433333333333334,
          20.733333333333334,
          18.233333333333334,
          18.266666666666666,
          16.033333333333335,
          20.566666666666666,
          20.333333333333332,
          19.166666666666668,
          18.9,
          20.7,
          18.133333333333333,
          21.133333333333333,
          17.9,
          16.766666666666666,
          15.166666666666666,
          17.566666666666666,
          19,
          18.4,
          22.366666666666667,
          19.6,
          19.033333333333335,
          19.6,
          20.366666666666667,
          21.233333333333334,
          18.6,
          17.533333333333335,
          18.5,
          22.633333333333333,
          21.3,
          20.4,
          22.466666666666665,
          19.8,
          19.466666666666665,
          20.6,
          19.133333333333333,
          18.766666666666666,
          19.366666666666667,
          20.166666666666668,
          20.133333333333333,
          20.566666666666666,
          18.166666666666668,
          18.1,
          17.8,
          18.9,
          19.2,
          21.433333333333334,
          19.333333333333332,
          17.966666666666665,
          21.933333333333334,
          21.2,
          24.7,
          19.3,
          19.8,
          19.166666666666668,
          19,
          19.366666666666667,
          20.966666666666665,
          17.733333333333334,
          19.1,
          18.433333333333334,
          19.366666666666667,
          19.733333333333334,
          21,
          16.1
         ]
        },
        {
         "name": "mean riding time",
         "type": "box",
         "y": [
          29.066666666666666,
          23.566666666666666,
          31.066666666666666,
          25.266666666666666,
          26.833333333333332,
          22.3,
          30.733333333333334,
          35.43333333333333,
          47.266666666666666,
          31.866666666666667,
          28.166666666666668,
          26.8,
          16.466666666666665,
          37.9,
          35.666666666666664,
          46.06666666666667,
          32.166666666666664,
          21.466666666666665,
          31.233333333333334,
          38.1,
          39.733333333333334,
          42.93333333333333,
          30.966666666666665,
          22.433333333333334,
          47.1,
          27.733333333333334,
          38.7,
          33.9,
          35.666666666666664,
          37.9,
          32.13333333333333,
          41.666666666666664,
          31.333333333333332,
          26.7,
          24.633333333333333,
          24.6,
          34.13333333333333,
          23.566666666666666,
          42.63333333333333,
          33.1,
          23.966666666666665,
          40.96666666666667,
          21.033333333333335,
          32.43333333333333,
          45.7,
          25.066666666666666,
          28.566666666666666,
          39,
          30,
          34.93333333333333,
          28,
          26.033333333333335,
          27.166666666666668,
          29.433333333333334,
          35.333333333333336,
          34.233333333333334,
          38.7,
          24.733333333333334,
          22.766666666666666,
          25.2,
          23.966666666666665,
          29.833333333333332,
          27.266666666666666,
          35.03333333333333,
          28.666666666666668,
          27.866666666666667,
          36.4,
          30.9,
          23.833333333333332,
          31.533333333333335,
          51.86666666666667,
          36.03333333333333,
          27.333333333333332,
          27.866666666666667,
          27.266666666666666,
          42.46666666666667,
          25.7,
          31.266666666666666,
          41.266666666666666,
          25.333333333333332,
          44.166666666666664,
          29.3,
          39.56666666666667,
          29.733333333333334,
          33.7,
          36.5,
          27.9,
          33.63333333333333,
          24.633333333333333,
          38.333333333333336,
          31.4,
          29.433333333333334,
          26,
          26.133333333333333,
          28.4,
          22.5,
          37.13333333333333,
          34,
          31.1,
          25.766666666666666
         ]
        },
        {
         "name": "mean Ws(mwt + mrt)",
         "type": "box",
         "y": [
          48.9,
          40.13333333333333,
          48.46666666666667,
          43.8,
          47.3,
          41.36666666666667,
          47.93333333333334,
          53,
          70.53333333333333,
          50.6,
          50.63333333333333,
          46.56666666666666,
          37.53333333333333,
          61.266666666666666,
          53.46666666666667,
          65.33333333333334,
          51.06666666666666,
          41.13333333333333,
          47.36666666666667,
          57.333333333333336,
          60.333333333333336,
          59.33333333333333,
          52.06666666666666,
          43.1,
          65.3,
          47.46666666666667,
          59.06666666666667,
          56.8,
          57.56666666666666,
          57.83333333333333,
          50.766666666666666,
          61.96666666666667,
          52.36666666666667,
          49.53333333333333,
          42.33333333333333,
          42.1,
          55.56666666666666,
          44.3,
          60.86666666666667,
          51.36666666666667,
          40,
          61.53333333333333,
          41.36666666666667,
          51.599999999999994,
          64.6,
          45.766666666666666,
          46.7,
          60.13333333333333,
          47.9,
          51.699999999999996,
          43.166666666666664,
          43.6,
          46.16666666666667,
          47.83333333333333,
          57.7,
          53.833333333333336,
          57.733333333333334,
          44.333333333333336,
          43.13333333333333,
          46.43333333333334,
          42.56666666666666,
          47.36666666666667,
          45.766666666666666,
          57.666666666666664,
          49.96666666666667,
          48.266666666666666,
          58.86666666666666,
          50.7,
          43.3,
          52.13333333333334,
          71,
          54.8,
          46.7,
          48.03333333333333,
          47.4,
          63.03333333333333,
          43.86666666666667,
          49.36666666666667,
          59.06666666666666,
          44.233333333333334,
          63.36666666666666,
          50.733333333333334,
          58.900000000000006,
          47.7,
          55.63333333333334,
          57.7,
          52.599999999999994,
          52.93333333333334,
          44.43333333333334,
          57.5,
          50.4,
          48.8,
          46.96666666666667,
          43.86666666666667,
          47.5,
          40.93333333333334,
          56.5,
          53.733333333333334,
          52.1,
          41.86666666666667
         ]
        }
       ],
       "layout": {
        "template": {
         "data": {
          "bar": [
           {
            "error_x": {
             "color": "#2a3f5f"
            },
            "error_y": {
             "color": "#2a3f5f"
            },
            "marker": {
             "line": {
              "color": "#E5ECF6",
              "width": 0.5
             }
            },
            "type": "bar"
           }
          ],
          "barpolar": [
           {
            "marker": {
             "line": {
              "color": "#E5ECF6",
              "width": 0.5
             }
            },
            "type": "barpolar"
           }
          ],
          "carpet": [
           {
            "aaxis": {
             "endlinecolor": "#2a3f5f",
             "gridcolor": "white",
             "linecolor": "white",
             "minorgridcolor": "white",
             "startlinecolor": "#2a3f5f"
            },
            "baxis": {
             "endlinecolor": "#2a3f5f",
             "gridcolor": "white",
             "linecolor": "white",
             "minorgridcolor": "white",
             "startlinecolor": "#2a3f5f"
            },
            "type": "carpet"
           }
          ],
          "choropleth": [
           {
            "colorbar": {
             "outlinewidth": 0,
             "ticks": ""
            },
            "type": "choropleth"
           }
          ],
          "contour": [
           {
            "colorbar": {
             "outlinewidth": 0,
             "ticks": ""
            },
            "colorscale": [
             [
              0,
              "#0d0887"
             ],
             [
              0.1111111111111111,
              "#46039f"
             ],
             [
              0.2222222222222222,
              "#7201a8"
             ],
             [
              0.3333333333333333,
              "#9c179e"
             ],
             [
              0.4444444444444444,
              "#bd3786"
             ],
             [
              0.5555555555555556,
              "#d8576b"
             ],
             [
              0.6666666666666666,
              "#ed7953"
             ],
             [
              0.7777777777777778,
              "#fb9f3a"
             ],
             [
              0.8888888888888888,
              "#fdca26"
             ],
             [
              1,
              "#f0f921"
             ]
            ],
            "type": "contour"
           }
          ],
          "contourcarpet": [
           {
            "colorbar": {
             "outlinewidth": 0,
             "ticks": ""
            },
            "type": "contourcarpet"
           }
          ],
          "heatmap": [
           {
            "colorbar": {
             "outlinewidth": 0,
             "ticks": ""
            },
            "colorscale": [
             [
              0,
              "#0d0887"
             ],
             [
              0.1111111111111111,
              "#46039f"
             ],
             [
              0.2222222222222222,
              "#7201a8"
             ],
             [
              0.3333333333333333,
              "#9c179e"
             ],
             [
              0.4444444444444444,
              "#bd3786"
             ],
             [
              0.5555555555555556,
              "#d8576b"
             ],
             [
              0.6666666666666666,
              "#ed7953"
             ],
             [
              0.7777777777777778,
              "#fb9f3a"
             ],
             [
              0.8888888888888888,
              "#fdca26"
             ],
             [
              1,
              "#f0f921"
             ]
            ],
            "type": "heatmap"
           }
          ],
          "heatmapgl": [
           {
            "colorbar": {
             "outlinewidth": 0,
             "ticks": ""
            },
            "colorscale": [
             [
              0,
              "#0d0887"
             ],
             [
              0.1111111111111111,
              "#46039f"
             ],
             [
              0.2222222222222222,
              "#7201a8"
             ],
             [
              0.3333333333333333,
              "#9c179e"
             ],
             [
              0.4444444444444444,
              "#bd3786"
             ],
             [
              0.5555555555555556,
              "#d8576b"
             ],
             [
              0.6666666666666666,
              "#ed7953"
             ],
             [
              0.7777777777777778,
              "#fb9f3a"
             ],
             [
              0.8888888888888888,
              "#fdca26"
             ],
             [
              1,
              "#f0f921"
             ]
            ],
            "type": "heatmapgl"
           }
          ],
          "histogram": [
           {
            "marker": {
             "colorbar": {
              "outlinewidth": 0,
              "ticks": ""
             }
            },
            "type": "histogram"
           }
          ],
          "histogram2d": [
           {
            "colorbar": {
             "outlinewidth": 0,
             "ticks": ""
            },
            "colorscale": [
             [
              0,
              "#0d0887"
             ],
             [
              0.1111111111111111,
              "#46039f"
             ],
             [
              0.2222222222222222,
              "#7201a8"
             ],
             [
              0.3333333333333333,
              "#9c179e"
             ],
             [
              0.4444444444444444,
              "#bd3786"
             ],
             [
              0.5555555555555556,
              "#d8576b"
             ],
             [
              0.6666666666666666,
              "#ed7953"
             ],
             [
              0.7777777777777778,
              "#fb9f3a"
             ],
             [
              0.8888888888888888,
              "#fdca26"
             ],
             [
              1,
              "#f0f921"
             ]
            ],
            "type": "histogram2d"
           }
          ],
          "histogram2dcontour": [
           {
            "colorbar": {
             "outlinewidth": 0,
             "ticks": ""
            },
            "colorscale": [
             [
              0,
              "#0d0887"
             ],
             [
              0.1111111111111111,
              "#46039f"
             ],
             [
              0.2222222222222222,
              "#7201a8"
             ],
             [
              0.3333333333333333,
              "#9c179e"
             ],
             [
              0.4444444444444444,
              "#bd3786"
             ],
             [
              0.5555555555555556,
              "#d8576b"
             ],
             [
              0.6666666666666666,
              "#ed7953"
             ],
             [
              0.7777777777777778,
              "#fb9f3a"
             ],
             [
              0.8888888888888888,
              "#fdca26"
             ],
             [
              1,
              "#f0f921"
             ]
            ],
            "type": "histogram2dcontour"
           }
          ],
          "mesh3d": [
           {
            "colorbar": {
             "outlinewidth": 0,
             "ticks": ""
            },
            "type": "mesh3d"
           }
          ],
          "parcoords": [
           {
            "line": {
             "colorbar": {
              "outlinewidth": 0,
              "ticks": ""
             }
            },
            "type": "parcoords"
           }
          ],
          "pie": [
           {
            "automargin": true,
            "type": "pie"
           }
          ],
          "scatter": [
           {
            "marker": {
             "colorbar": {
              "outlinewidth": 0,
              "ticks": ""
             }
            },
            "type": "scatter"
           }
          ],
          "scatter3d": [
           {
            "line": {
             "colorbar": {
              "outlinewidth": 0,
              "ticks": ""
             }
            },
            "marker": {
             "colorbar": {
              "outlinewidth": 0,
              "ticks": ""
             }
            },
            "type": "scatter3d"
           }
          ],
          "scattercarpet": [
           {
            "marker": {
             "colorbar": {
              "outlinewidth": 0,
              "ticks": ""
             }
            },
            "type": "scattercarpet"
           }
          ],
          "scattergeo": [
           {
            "marker": {
             "colorbar": {
              "outlinewidth": 0,
              "ticks": ""
             }
            },
            "type": "scattergeo"
           }
          ],
          "scattergl": [
           {
            "marker": {
             "colorbar": {
              "outlinewidth": 0,
              "ticks": ""
             }
            },
            "type": "scattergl"
           }
          ],
          "scattermapbox": [
           {
            "marker": {
             "colorbar": {
              "outlinewidth": 0,
              "ticks": ""
             }
            },
            "type": "scattermapbox"
           }
          ],
          "scatterpolar": [
           {
            "marker": {
             "colorbar": {
              "outlinewidth": 0,
              "ticks": ""
             }
            },
            "type": "scatterpolar"
           }
          ],
          "scatterpolargl": [
           {
            "marker": {
             "colorbar": {
              "outlinewidth": 0,
              "ticks": ""
             }
            },
            "type": "scatterpolargl"
           }
          ],
          "scatterternary": [
           {
            "marker": {
             "colorbar": {
              "outlinewidth": 0,
              "ticks": ""
             }
            },
            "type": "scatterternary"
           }
          ],
          "surface": [
           {
            "colorbar": {
             "outlinewidth": 0,
             "ticks": ""
            },
            "colorscale": [
             [
              0,
              "#0d0887"
             ],
             [
              0.1111111111111111,
              "#46039f"
             ],
             [
              0.2222222222222222,
              "#7201a8"
             ],
             [
              0.3333333333333333,
              "#9c179e"
             ],
             [
              0.4444444444444444,
              "#bd3786"
             ],
             [
              0.5555555555555556,
              "#d8576b"
             ],
             [
              0.6666666666666666,
              "#ed7953"
             ],
             [
              0.7777777777777778,
              "#fb9f3a"
             ],
             [
              0.8888888888888888,
              "#fdca26"
             ],
             [
              1,
              "#f0f921"
             ]
            ],
            "type": "surface"
           }
          ],
          "table": [
           {
            "cells": {
             "fill": {
              "color": "#EBF0F8"
             },
             "line": {
              "color": "white"
             }
            },
            "header": {
             "fill": {
              "color": "#C8D4E3"
             },
             "line": {
              "color": "white"
             }
            },
            "type": "table"
           }
          ]
         },
         "layout": {
          "annotationdefaults": {
           "arrowcolor": "#2a3f5f",
           "arrowhead": 0,
           "arrowwidth": 1
          },
          "coloraxis": {
           "colorbar": {
            "outlinewidth": 0,
            "ticks": ""
           }
          },
          "colorscale": {
           "diverging": [
            [
             0,
             "#8e0152"
            ],
            [
             0.1,
             "#c51b7d"
            ],
            [
             0.2,
             "#de77ae"
            ],
            [
             0.3,
             "#f1b6da"
            ],
            [
             0.4,
             "#fde0ef"
            ],
            [
             0.5,
             "#f7f7f7"
            ],
            [
             0.6,
             "#e6f5d0"
            ],
            [
             0.7,
             "#b8e186"
            ],
            [
             0.8,
             "#7fbc41"
            ],
            [
             0.9,
             "#4d9221"
            ],
            [
             1,
             "#276419"
            ]
           ],
           "sequential": [
            [
             0,
             "#0d0887"
            ],
            [
             0.1111111111111111,
             "#46039f"
            ],
            [
             0.2222222222222222,
             "#7201a8"
            ],
            [
             0.3333333333333333,
             "#9c179e"
            ],
            [
             0.4444444444444444,
             "#bd3786"
            ],
            [
             0.5555555555555556,
             "#d8576b"
            ],
            [
             0.6666666666666666,
             "#ed7953"
            ],
            [
             0.7777777777777778,
             "#fb9f3a"
            ],
            [
             0.8888888888888888,
             "#fdca26"
            ],
            [
             1,
             "#f0f921"
            ]
           ],
           "sequentialminus": [
            [
             0,
             "#0d0887"
            ],
            [
             0.1111111111111111,
             "#46039f"
            ],
            [
             0.2222222222222222,
             "#7201a8"
            ],
            [
             0.3333333333333333,
             "#9c179e"
            ],
            [
             0.4444444444444444,
             "#bd3786"
            ],
            [
             0.5555555555555556,
             "#d8576b"
            ],
            [
             0.6666666666666666,
             "#ed7953"
            ],
            [
             0.7777777777777778,
             "#fb9f3a"
            ],
            [
             0.8888888888888888,
             "#fdca26"
            ],
            [
             1,
             "#f0f921"
            ]
           ]
          },
          "colorway": [
           "#636efa",
           "#EF553B",
           "#00cc96",
           "#ab63fa",
           "#FFA15A",
           "#19d3f3",
           "#FF6692",
           "#B6E880",
           "#FF97FF",
           "#FECB52"
          ],
          "font": {
           "color": "#2a3f5f"
          },
          "geo": {
           "bgcolor": "white",
           "lakecolor": "white",
           "landcolor": "#E5ECF6",
           "showlakes": true,
           "showland": true,
           "subunitcolor": "white"
          },
          "hoverlabel": {
           "align": "left"
          },
          "hovermode": "closest",
          "mapbox": {
           "style": "light"
          },
          "paper_bgcolor": "white",
          "plot_bgcolor": "#E5ECF6",
          "polar": {
           "angularaxis": {
            "gridcolor": "white",
            "linecolor": "white",
            "ticks": ""
           },
           "bgcolor": "#E5ECF6",
           "radialaxis": {
            "gridcolor": "white",
            "linecolor": "white",
            "ticks": ""
           }
          },
          "scene": {
           "xaxis": {
            "backgroundcolor": "#E5ECF6",
            "gridcolor": "white",
            "gridwidth": 2,
            "linecolor": "white",
            "showbackground": true,
            "ticks": "",
            "zerolinecolor": "white"
           },
           "yaxis": {
            "backgroundcolor": "#E5ECF6",
            "gridcolor": "white",
            "gridwidth": 2,
            "linecolor": "white",
            "showbackground": true,
            "ticks": "",
            "zerolinecolor": "white"
           },
           "zaxis": {
            "backgroundcolor": "#E5ECF6",
            "gridcolor": "white",
            "gridwidth": 2,
            "linecolor": "white",
            "showbackground": true,
            "ticks": "",
            "zerolinecolor": "white"
           }
          },
          "shapedefaults": {
           "line": {
            "color": "#2a3f5f"
           }
          },
          "ternary": {
           "aaxis": {
            "gridcolor": "white",
            "linecolor": "white",
            "ticks": ""
           },
           "baxis": {
            "gridcolor": "white",
            "linecolor": "white",
            "ticks": ""
           },
           "bgcolor": "#E5ECF6",
           "caxis": {
            "gridcolor": "white",
            "linecolor": "white",
            "ticks": ""
           }
          },
          "title": {
           "x": 0.05
          },
          "xaxis": {
           "automargin": true,
           "gridcolor": "white",
           "linecolor": "white",
           "ticks": "",
           "title": {
            "standoff": 15
           },
           "zerolinecolor": "white",
           "zerolinewidth": 2
          },
          "yaxis": {
           "automargin": true,
           "gridcolor": "white",
           "linecolor": "white",
           "ticks": "",
           "title": {
            "standoff": 15
           },
           "zerolinecolor": "white",
           "zerolinewidth": 2
          }
         }
        },
        "title": {
         "text": "WT, RT and Ws"
        },
        "yaxis": {
         "title": {
          "text": "time(s)"
         }
        }
       }
      },
      "text/html": [
       "<div>\n",
       "        \n",
       "        \n",
       "            <div id=\"c22a8b5f-2428-4ec6-8939-36e4c1a759de\" class=\"plotly-graph-div\" style=\"height:525px; width:100%;\"></div>\n",
       "            <script type=\"text/javascript\">\n",
       "                require([\"plotly\"], function(Plotly) {\n",
       "                    window.PLOTLYENV=window.PLOTLYENV || {};\n",
       "                    \n",
       "                if (document.getElementById(\"c22a8b5f-2428-4ec6-8939-36e4c1a759de\")) {\n",
       "                    Plotly.newPlot(\n",
       "                        'c22a8b5f-2428-4ec6-8939-36e4c1a759de',\n",
       "                        [{\"name\": \"mean waiting time\", \"type\": \"box\", \"y\": [19.833333333333332, 16.566666666666666, 17.4, 18.533333333333335, 20.466666666666665, 19.066666666666666, 17.2, 17.566666666666666, 23.266666666666666, 18.733333333333334, 22.466666666666665, 19.766666666666666, 21.066666666666666, 23.366666666666667, 17.8, 19.266666666666666, 18.9, 19.666666666666668, 16.133333333333333, 19.233333333333334, 20.6, 16.4, 21.1, 20.666666666666668, 18.2, 19.733333333333334, 20.366666666666667, 22.9, 21.9, 19.933333333333334, 18.633333333333333, 20.3, 21.033333333333335, 22.833333333333332, 17.7, 17.5, 21.433333333333334, 20.733333333333334, 18.233333333333334, 18.266666666666666, 16.033333333333335, 20.566666666666666, 20.333333333333332, 19.166666666666668, 18.9, 20.7, 18.133333333333333, 21.133333333333333, 17.9, 16.766666666666666, 15.166666666666666, 17.566666666666666, 19.0, 18.4, 22.366666666666667, 19.6, 19.033333333333335, 19.6, 20.366666666666667, 21.233333333333334, 18.6, 17.533333333333335, 18.5, 22.633333333333333, 21.3, 20.4, 22.466666666666665, 19.8, 19.466666666666665, 20.6, 19.133333333333333, 18.766666666666666, 19.366666666666667, 20.166666666666668, 20.133333333333333, 20.566666666666666, 18.166666666666668, 18.1, 17.8, 18.9, 19.2, 21.433333333333334, 19.333333333333332, 17.966666666666665, 21.933333333333334, 21.2, 24.7, 19.3, 19.8, 19.166666666666668, 19.0, 19.366666666666667, 20.966666666666665, 17.733333333333334, 19.1, 18.433333333333334, 19.366666666666667, 19.733333333333334, 21.0, 16.1]}, {\"name\": \"mean riding time\", \"type\": \"box\", \"y\": [29.066666666666666, 23.566666666666666, 31.066666666666666, 25.266666666666666, 26.833333333333332, 22.3, 30.733333333333334, 35.43333333333333, 47.266666666666666, 31.866666666666667, 28.166666666666668, 26.8, 16.466666666666665, 37.9, 35.666666666666664, 46.06666666666667, 32.166666666666664, 21.466666666666665, 31.233333333333334, 38.1, 39.733333333333334, 42.93333333333333, 30.966666666666665, 22.433333333333334, 47.1, 27.733333333333334, 38.7, 33.9, 35.666666666666664, 37.9, 32.13333333333333, 41.666666666666664, 31.333333333333332, 26.7, 24.633333333333333, 24.6, 34.13333333333333, 23.566666666666666, 42.63333333333333, 33.1, 23.966666666666665, 40.96666666666667, 21.033333333333335, 32.43333333333333, 45.7, 25.066666666666666, 28.566666666666666, 39.0, 30.0, 34.93333333333333, 28.0, 26.033333333333335, 27.166666666666668, 29.433333333333334, 35.333333333333336, 34.233333333333334, 38.7, 24.733333333333334, 22.766666666666666, 25.2, 23.966666666666665, 29.833333333333332, 27.266666666666666, 35.03333333333333, 28.666666666666668, 27.866666666666667, 36.4, 30.9, 23.833333333333332, 31.533333333333335, 51.86666666666667, 36.03333333333333, 27.333333333333332, 27.866666666666667, 27.266666666666666, 42.46666666666667, 25.7, 31.266666666666666, 41.266666666666666, 25.333333333333332, 44.166666666666664, 29.3, 39.56666666666667, 29.733333333333334, 33.7, 36.5, 27.9, 33.63333333333333, 24.633333333333333, 38.333333333333336, 31.4, 29.433333333333334, 26.0, 26.133333333333333, 28.4, 22.5, 37.13333333333333, 34.0, 31.1, 25.766666666666666]}, {\"name\": \"mean Ws(mwt + mrt)\", \"type\": \"box\", \"y\": [48.9, 40.13333333333333, 48.46666666666667, 43.8, 47.3, 41.36666666666667, 47.93333333333334, 53.0, 70.53333333333333, 50.6, 50.63333333333333, 46.56666666666666, 37.53333333333333, 61.266666666666666, 53.46666666666667, 65.33333333333334, 51.06666666666666, 41.13333333333333, 47.36666666666667, 57.333333333333336, 60.333333333333336, 59.33333333333333, 52.06666666666666, 43.1, 65.3, 47.46666666666667, 59.06666666666667, 56.8, 57.56666666666666, 57.83333333333333, 50.766666666666666, 61.96666666666667, 52.36666666666667, 49.53333333333333, 42.33333333333333, 42.1, 55.56666666666666, 44.3, 60.86666666666667, 51.36666666666667, 40.0, 61.53333333333333, 41.36666666666667, 51.599999999999994, 64.6, 45.766666666666666, 46.7, 60.13333333333333, 47.9, 51.699999999999996, 43.166666666666664, 43.6, 46.16666666666667, 47.83333333333333, 57.7, 53.833333333333336, 57.733333333333334, 44.333333333333336, 43.13333333333333, 46.43333333333334, 42.56666666666666, 47.36666666666667, 45.766666666666666, 57.666666666666664, 49.96666666666667, 48.266666666666666, 58.86666666666666, 50.7, 43.3, 52.13333333333334, 71.0, 54.8, 46.7, 48.03333333333333, 47.4, 63.03333333333333, 43.86666666666667, 49.36666666666667, 59.06666666666666, 44.233333333333334, 63.36666666666666, 50.733333333333334, 58.900000000000006, 47.7, 55.63333333333334, 57.7, 52.599999999999994, 52.93333333333334, 44.43333333333334, 57.5, 50.4, 48.8, 46.96666666666667, 43.86666666666667, 47.5, 40.93333333333334, 56.5, 53.733333333333334, 52.1, 41.86666666666667]}],\n",
       "                        {\"template\": {\"data\": {\"bar\": [{\"error_x\": {\"color\": \"#2a3f5f\"}, \"error_y\": {\"color\": \"#2a3f5f\"}, \"marker\": {\"line\": {\"color\": \"#E5ECF6\", \"width\": 0.5}}, \"type\": \"bar\"}], \"barpolar\": [{\"marker\": {\"line\": {\"color\": \"#E5ECF6\", \"width\": 0.5}}, \"type\": \"barpolar\"}], \"carpet\": [{\"aaxis\": {\"endlinecolor\": \"#2a3f5f\", \"gridcolor\": \"white\", \"linecolor\": \"white\", \"minorgridcolor\": \"white\", \"startlinecolor\": \"#2a3f5f\"}, \"baxis\": {\"endlinecolor\": \"#2a3f5f\", \"gridcolor\": \"white\", \"linecolor\": \"white\", \"minorgridcolor\": \"white\", \"startlinecolor\": \"#2a3f5f\"}, \"type\": \"carpet\"}], \"choropleth\": [{\"colorbar\": {\"outlinewidth\": 0, \"ticks\": \"\"}, \"type\": \"choropleth\"}], \"contour\": [{\"colorbar\": {\"outlinewidth\": 0, \"ticks\": \"\"}, \"colorscale\": [[0.0, \"#0d0887\"], [0.1111111111111111, \"#46039f\"], [0.2222222222222222, \"#7201a8\"], [0.3333333333333333, \"#9c179e\"], [0.4444444444444444, \"#bd3786\"], [0.5555555555555556, \"#d8576b\"], [0.6666666666666666, \"#ed7953\"], [0.7777777777777778, \"#fb9f3a\"], [0.8888888888888888, \"#fdca26\"], [1.0, \"#f0f921\"]], \"type\": \"contour\"}], \"contourcarpet\": [{\"colorbar\": {\"outlinewidth\": 0, \"ticks\": \"\"}, \"type\": \"contourcarpet\"}], \"heatmap\": [{\"colorbar\": {\"outlinewidth\": 0, \"ticks\": \"\"}, \"colorscale\": [[0.0, \"#0d0887\"], [0.1111111111111111, \"#46039f\"], [0.2222222222222222, \"#7201a8\"], [0.3333333333333333, \"#9c179e\"], [0.4444444444444444, \"#bd3786\"], [0.5555555555555556, \"#d8576b\"], [0.6666666666666666, \"#ed7953\"], [0.7777777777777778, \"#fb9f3a\"], [0.8888888888888888, \"#fdca26\"], [1.0, \"#f0f921\"]], \"type\": \"heatmap\"}], \"heatmapgl\": [{\"colorbar\": {\"outlinewidth\": 0, \"ticks\": \"\"}, \"colorscale\": [[0.0, \"#0d0887\"], [0.1111111111111111, \"#46039f\"], [0.2222222222222222, \"#7201a8\"], [0.3333333333333333, \"#9c179e\"], [0.4444444444444444, \"#bd3786\"], [0.5555555555555556, \"#d8576b\"], [0.6666666666666666, \"#ed7953\"], [0.7777777777777778, \"#fb9f3a\"], [0.8888888888888888, \"#fdca26\"], [1.0, \"#f0f921\"]], \"type\": \"heatmapgl\"}], \"histogram\": [{\"marker\": {\"colorbar\": {\"outlinewidth\": 0, \"ticks\": \"\"}}, \"type\": \"histogram\"}], \"histogram2d\": [{\"colorbar\": {\"outlinewidth\": 0, \"ticks\": \"\"}, \"colorscale\": [[0.0, \"#0d0887\"], [0.1111111111111111, \"#46039f\"], [0.2222222222222222, \"#7201a8\"], [0.3333333333333333, \"#9c179e\"], [0.4444444444444444, \"#bd3786\"], [0.5555555555555556, \"#d8576b\"], [0.6666666666666666, \"#ed7953\"], [0.7777777777777778, \"#fb9f3a\"], [0.8888888888888888, \"#fdca26\"], [1.0, \"#f0f921\"]], \"type\": \"histogram2d\"}], \"histogram2dcontour\": [{\"colorbar\": {\"outlinewidth\": 0, \"ticks\": \"\"}, \"colorscale\": [[0.0, \"#0d0887\"], [0.1111111111111111, \"#46039f\"], [0.2222222222222222, \"#7201a8\"], [0.3333333333333333, \"#9c179e\"], [0.4444444444444444, \"#bd3786\"], [0.5555555555555556, \"#d8576b\"], [0.6666666666666666, \"#ed7953\"], [0.7777777777777778, \"#fb9f3a\"], [0.8888888888888888, \"#fdca26\"], [1.0, \"#f0f921\"]], \"type\": \"histogram2dcontour\"}], \"mesh3d\": [{\"colorbar\": {\"outlinewidth\": 0, \"ticks\": \"\"}, \"type\": \"mesh3d\"}], \"parcoords\": [{\"line\": {\"colorbar\": {\"outlinewidth\": 0, \"ticks\": \"\"}}, \"type\": \"parcoords\"}], \"pie\": [{\"automargin\": true, \"type\": \"pie\"}], \"scatter\": [{\"marker\": {\"colorbar\": {\"outlinewidth\": 0, \"ticks\": \"\"}}, \"type\": \"scatter\"}], \"scatter3d\": [{\"line\": {\"colorbar\": {\"outlinewidth\": 0, \"ticks\": \"\"}}, \"marker\": {\"colorbar\": {\"outlinewidth\": 0, \"ticks\": \"\"}}, \"type\": \"scatter3d\"}], \"scattercarpet\": [{\"marker\": {\"colorbar\": {\"outlinewidth\": 0, \"ticks\": \"\"}}, \"type\": \"scattercarpet\"}], \"scattergeo\": [{\"marker\": {\"colorbar\": {\"outlinewidth\": 0, \"ticks\": \"\"}}, \"type\": \"scattergeo\"}], \"scattergl\": [{\"marker\": {\"colorbar\": {\"outlinewidth\": 0, \"ticks\": \"\"}}, \"type\": \"scattergl\"}], \"scattermapbox\": [{\"marker\": {\"colorbar\": {\"outlinewidth\": 0, \"ticks\": \"\"}}, \"type\": \"scattermapbox\"}], \"scatterpolar\": [{\"marker\": {\"colorbar\": {\"outlinewidth\": 0, \"ticks\": \"\"}}, \"type\": \"scatterpolar\"}], \"scatterpolargl\": [{\"marker\": {\"colorbar\": {\"outlinewidth\": 0, \"ticks\": \"\"}}, \"type\": \"scatterpolargl\"}], \"scatterternary\": [{\"marker\": {\"colorbar\": {\"outlinewidth\": 0, \"ticks\": \"\"}}, \"type\": \"scatterternary\"}], \"surface\": [{\"colorbar\": {\"outlinewidth\": 0, \"ticks\": \"\"}, \"colorscale\": [[0.0, \"#0d0887\"], [0.1111111111111111, \"#46039f\"], [0.2222222222222222, \"#7201a8\"], [0.3333333333333333, \"#9c179e\"], [0.4444444444444444, \"#bd3786\"], [0.5555555555555556, \"#d8576b\"], [0.6666666666666666, \"#ed7953\"], [0.7777777777777778, \"#fb9f3a\"], [0.8888888888888888, \"#fdca26\"], [1.0, \"#f0f921\"]], \"type\": \"surface\"}], \"table\": [{\"cells\": {\"fill\": {\"color\": \"#EBF0F8\"}, \"line\": {\"color\": \"white\"}}, \"header\": {\"fill\": {\"color\": \"#C8D4E3\"}, \"line\": {\"color\": \"white\"}}, \"type\": \"table\"}]}, \"layout\": {\"annotationdefaults\": {\"arrowcolor\": \"#2a3f5f\", \"arrowhead\": 0, \"arrowwidth\": 1}, \"coloraxis\": {\"colorbar\": {\"outlinewidth\": 0, \"ticks\": \"\"}}, \"colorscale\": {\"diverging\": [[0, \"#8e0152\"], [0.1, \"#c51b7d\"], [0.2, \"#de77ae\"], [0.3, \"#f1b6da\"], [0.4, \"#fde0ef\"], [0.5, \"#f7f7f7\"], [0.6, \"#e6f5d0\"], [0.7, \"#b8e186\"], [0.8, \"#7fbc41\"], [0.9, \"#4d9221\"], [1, \"#276419\"]], \"sequential\": [[0.0, \"#0d0887\"], [0.1111111111111111, \"#46039f\"], [0.2222222222222222, \"#7201a8\"], [0.3333333333333333, \"#9c179e\"], [0.4444444444444444, \"#bd3786\"], [0.5555555555555556, \"#d8576b\"], [0.6666666666666666, \"#ed7953\"], [0.7777777777777778, \"#fb9f3a\"], [0.8888888888888888, \"#fdca26\"], [1.0, \"#f0f921\"]], \"sequentialminus\": [[0.0, \"#0d0887\"], [0.1111111111111111, \"#46039f\"], [0.2222222222222222, \"#7201a8\"], [0.3333333333333333, \"#9c179e\"], [0.4444444444444444, \"#bd3786\"], [0.5555555555555556, \"#d8576b\"], [0.6666666666666666, \"#ed7953\"], [0.7777777777777778, \"#fb9f3a\"], [0.8888888888888888, \"#fdca26\"], [1.0, \"#f0f921\"]]}, \"colorway\": [\"#636efa\", \"#EF553B\", \"#00cc96\", \"#ab63fa\", \"#FFA15A\", \"#19d3f3\", \"#FF6692\", \"#B6E880\", \"#FF97FF\", \"#FECB52\"], \"font\": {\"color\": \"#2a3f5f\"}, \"geo\": {\"bgcolor\": \"white\", \"lakecolor\": \"white\", \"landcolor\": \"#E5ECF6\", \"showlakes\": true, \"showland\": true, \"subunitcolor\": \"white\"}, \"hoverlabel\": {\"align\": \"left\"}, \"hovermode\": \"closest\", \"mapbox\": {\"style\": \"light\"}, \"paper_bgcolor\": \"white\", \"plot_bgcolor\": \"#E5ECF6\", \"polar\": {\"angularaxis\": {\"gridcolor\": \"white\", \"linecolor\": \"white\", \"ticks\": \"\"}, \"bgcolor\": \"#E5ECF6\", \"radialaxis\": {\"gridcolor\": \"white\", \"linecolor\": \"white\", \"ticks\": \"\"}}, \"scene\": {\"xaxis\": {\"backgroundcolor\": \"#E5ECF6\", \"gridcolor\": \"white\", \"gridwidth\": 2, \"linecolor\": \"white\", \"showbackground\": true, \"ticks\": \"\", \"zerolinecolor\": \"white\"}, \"yaxis\": {\"backgroundcolor\": \"#E5ECF6\", \"gridcolor\": \"white\", \"gridwidth\": 2, \"linecolor\": \"white\", \"showbackground\": true, \"ticks\": \"\", \"zerolinecolor\": \"white\"}, \"zaxis\": {\"backgroundcolor\": \"#E5ECF6\", \"gridcolor\": \"white\", \"gridwidth\": 2, \"linecolor\": \"white\", \"showbackground\": true, \"ticks\": \"\", \"zerolinecolor\": \"white\"}}, \"shapedefaults\": {\"line\": {\"color\": \"#2a3f5f\"}}, \"ternary\": {\"aaxis\": {\"gridcolor\": \"white\", \"linecolor\": \"white\", \"ticks\": \"\"}, \"baxis\": {\"gridcolor\": \"white\", \"linecolor\": \"white\", \"ticks\": \"\"}, \"bgcolor\": \"#E5ECF6\", \"caxis\": {\"gridcolor\": \"white\", \"linecolor\": \"white\", \"ticks\": \"\"}}, \"title\": {\"x\": 0.05}, \"xaxis\": {\"automargin\": true, \"gridcolor\": \"white\", \"linecolor\": \"white\", \"ticks\": \"\", \"title\": {\"standoff\": 15}, \"zerolinecolor\": \"white\", \"zerolinewidth\": 2}, \"yaxis\": {\"automargin\": true, \"gridcolor\": \"white\", \"linecolor\": \"white\", \"ticks\": \"\", \"title\": {\"standoff\": 15}, \"zerolinecolor\": \"white\", \"zerolinewidth\": 2}}}, \"title\": {\"text\": \"WT, RT and Ws\"}, \"yaxis\": {\"title\": {\"text\": \"time(s)\"}}},\n",
       "                        {\"responsive\": true}\n",
       "                    ).then(function(){\n",
       "                            \n",
       "var gd = document.getElementById('c22a8b5f-2428-4ec6-8939-36e4c1a759de');\n",
       "var x = new MutationObserver(function (mutations, observer) {{\n",
       "        var display = window.getComputedStyle(gd).display;\n",
       "        if (!display || display === 'none') {{\n",
       "            console.log([gd, 'removed!']);\n",
       "            Plotly.purge(gd);\n",
       "            observer.disconnect();\n",
       "        }}\n",
       "}});\n",
       "\n",
       "// Listen for the removal of the full notebook cells\n",
       "var notebookContainer = gd.closest('#notebook-container');\n",
       "if (notebookContainer) {{\n",
       "    x.observe(notebookContainer, {childList: true});\n",
       "}}\n",
       "\n",
       "// Listen for the clearing of the current output cell\n",
       "var outputEl = gd.closest('.output');\n",
       "if (outputEl) {{\n",
       "    x.observe(outputEl, {childList: true});\n",
       "}}\n",
       "\n",
       "                        })\n",
       "                };\n",
       "                });\n",
       "            </script>\n",
       "        </div>"
      ]
     },
     "metadata": {},
     "output_type": "display_data"
    },
    {
     "data": {
      "application/vnd.plotly.v1+json": {
       "config": {
        "plotlyServerURL": "https://plot.ly"
       },
       "data": [
        {
         "name": "total time",
         "type": "scatter",
         "x": [
          1,
          2,
          3,
          4,
          5,
          6,
          7,
          8,
          9,
          10,
          11,
          12,
          13,
          14,
          15,
          16,
          17,
          18,
          19,
          20,
          21,
          22,
          23,
          24,
          25,
          26,
          27,
          28,
          29,
          30,
          31,
          32,
          33,
          34,
          35,
          36,
          37,
          38,
          39,
          40,
          41,
          42,
          43,
          44,
          45,
          46,
          47,
          48,
          49,
          50,
          51,
          52,
          53,
          54,
          55,
          56,
          57,
          58,
          59,
          60,
          61,
          62,
          63,
          64,
          65,
          66,
          67,
          68,
          69,
          70,
          71,
          72,
          73,
          74,
          75,
          76,
          77,
          78,
          79,
          80,
          81,
          82,
          83,
          84,
          85,
          86,
          87,
          88,
          89,
          90,
          91,
          92,
          93,
          94,
          95,
          96,
          97,
          98,
          99,
          100
         ],
         "y": [
          368,
          354,
          399,
          412,
          342,
          364,
          363,
          370,
          401,
          356,
          335,
          374,
          364,
          359,
          345,
          460,
          373,
          374,
          371,
          397,
          412,
          423,
          349,
          351,
          436,
          392,
          354,
          361,
          371,
          349,
          405,
          383,
          339,
          375,
          349,
          368,
          357,
          359,
          366,
          373,
          383,
          392,
          366,
          403,
          420,
          405,
          364,
          369,
          363,
          393,
          372,
          347,
          359,
          357,
          372,
          372,
          381,
          353,
          367,
          360,
          377,
          369,
          353,
          403,
          371,
          348,
          391,
          385,
          398,
          378,
          401,
          373,
          340,
          354,
          377,
          401,
          356,
          377,
          374,
          364,
          430,
          365,
          344,
          357,
          353,
          400,
          356,
          352,
          348,
          370,
          392,
          375,
          353,
          365,
          375,
          386,
          384,
          354,
          357,
          339
         ]
        }
       ],
       "layout": {
        "template": {
         "data": {
          "bar": [
           {
            "error_x": {
             "color": "#2a3f5f"
            },
            "error_y": {
             "color": "#2a3f5f"
            },
            "marker": {
             "line": {
              "color": "#E5ECF6",
              "width": 0.5
             }
            },
            "type": "bar"
           }
          ],
          "barpolar": [
           {
            "marker": {
             "line": {
              "color": "#E5ECF6",
              "width": 0.5
             }
            },
            "type": "barpolar"
           }
          ],
          "carpet": [
           {
            "aaxis": {
             "endlinecolor": "#2a3f5f",
             "gridcolor": "white",
             "linecolor": "white",
             "minorgridcolor": "white",
             "startlinecolor": "#2a3f5f"
            },
            "baxis": {
             "endlinecolor": "#2a3f5f",
             "gridcolor": "white",
             "linecolor": "white",
             "minorgridcolor": "white",
             "startlinecolor": "#2a3f5f"
            },
            "type": "carpet"
           }
          ],
          "choropleth": [
           {
            "colorbar": {
             "outlinewidth": 0,
             "ticks": ""
            },
            "type": "choropleth"
           }
          ],
          "contour": [
           {
            "colorbar": {
             "outlinewidth": 0,
             "ticks": ""
            },
            "colorscale": [
             [
              0,
              "#0d0887"
             ],
             [
              0.1111111111111111,
              "#46039f"
             ],
             [
              0.2222222222222222,
              "#7201a8"
             ],
             [
              0.3333333333333333,
              "#9c179e"
             ],
             [
              0.4444444444444444,
              "#bd3786"
             ],
             [
              0.5555555555555556,
              "#d8576b"
             ],
             [
              0.6666666666666666,
              "#ed7953"
             ],
             [
              0.7777777777777778,
              "#fb9f3a"
             ],
             [
              0.8888888888888888,
              "#fdca26"
             ],
             [
              1,
              "#f0f921"
             ]
            ],
            "type": "contour"
           }
          ],
          "contourcarpet": [
           {
            "colorbar": {
             "outlinewidth": 0,
             "ticks": ""
            },
            "type": "contourcarpet"
           }
          ],
          "heatmap": [
           {
            "colorbar": {
             "outlinewidth": 0,
             "ticks": ""
            },
            "colorscale": [
             [
              0,
              "#0d0887"
             ],
             [
              0.1111111111111111,
              "#46039f"
             ],
             [
              0.2222222222222222,
              "#7201a8"
             ],
             [
              0.3333333333333333,
              "#9c179e"
             ],
             [
              0.4444444444444444,
              "#bd3786"
             ],
             [
              0.5555555555555556,
              "#d8576b"
             ],
             [
              0.6666666666666666,
              "#ed7953"
             ],
             [
              0.7777777777777778,
              "#fb9f3a"
             ],
             [
              0.8888888888888888,
              "#fdca26"
             ],
             [
              1,
              "#f0f921"
             ]
            ],
            "type": "heatmap"
           }
          ],
          "heatmapgl": [
           {
            "colorbar": {
             "outlinewidth": 0,
             "ticks": ""
            },
            "colorscale": [
             [
              0,
              "#0d0887"
             ],
             [
              0.1111111111111111,
              "#46039f"
             ],
             [
              0.2222222222222222,
              "#7201a8"
             ],
             [
              0.3333333333333333,
              "#9c179e"
             ],
             [
              0.4444444444444444,
              "#bd3786"
             ],
             [
              0.5555555555555556,
              "#d8576b"
             ],
             [
              0.6666666666666666,
              "#ed7953"
             ],
             [
              0.7777777777777778,
              "#fb9f3a"
             ],
             [
              0.8888888888888888,
              "#fdca26"
             ],
             [
              1,
              "#f0f921"
             ]
            ],
            "type": "heatmapgl"
           }
          ],
          "histogram": [
           {
            "marker": {
             "colorbar": {
              "outlinewidth": 0,
              "ticks": ""
             }
            },
            "type": "histogram"
           }
          ],
          "histogram2d": [
           {
            "colorbar": {
             "outlinewidth": 0,
             "ticks": ""
            },
            "colorscale": [
             [
              0,
              "#0d0887"
             ],
             [
              0.1111111111111111,
              "#46039f"
             ],
             [
              0.2222222222222222,
              "#7201a8"
             ],
             [
              0.3333333333333333,
              "#9c179e"
             ],
             [
              0.4444444444444444,
              "#bd3786"
             ],
             [
              0.5555555555555556,
              "#d8576b"
             ],
             [
              0.6666666666666666,
              "#ed7953"
             ],
             [
              0.7777777777777778,
              "#fb9f3a"
             ],
             [
              0.8888888888888888,
              "#fdca26"
             ],
             [
              1,
              "#f0f921"
             ]
            ],
            "type": "histogram2d"
           }
          ],
          "histogram2dcontour": [
           {
            "colorbar": {
             "outlinewidth": 0,
             "ticks": ""
            },
            "colorscale": [
             [
              0,
              "#0d0887"
             ],
             [
              0.1111111111111111,
              "#46039f"
             ],
             [
              0.2222222222222222,
              "#7201a8"
             ],
             [
              0.3333333333333333,
              "#9c179e"
             ],
             [
              0.4444444444444444,
              "#bd3786"
             ],
             [
              0.5555555555555556,
              "#d8576b"
             ],
             [
              0.6666666666666666,
              "#ed7953"
             ],
             [
              0.7777777777777778,
              "#fb9f3a"
             ],
             [
              0.8888888888888888,
              "#fdca26"
             ],
             [
              1,
              "#f0f921"
             ]
            ],
            "type": "histogram2dcontour"
           }
          ],
          "mesh3d": [
           {
            "colorbar": {
             "outlinewidth": 0,
             "ticks": ""
            },
            "type": "mesh3d"
           }
          ],
          "parcoords": [
           {
            "line": {
             "colorbar": {
              "outlinewidth": 0,
              "ticks": ""
             }
            },
            "type": "parcoords"
           }
          ],
          "pie": [
           {
            "automargin": true,
            "type": "pie"
           }
          ],
          "scatter": [
           {
            "marker": {
             "colorbar": {
              "outlinewidth": 0,
              "ticks": ""
             }
            },
            "type": "scatter"
           }
          ],
          "scatter3d": [
           {
            "line": {
             "colorbar": {
              "outlinewidth": 0,
              "ticks": ""
             }
            },
            "marker": {
             "colorbar": {
              "outlinewidth": 0,
              "ticks": ""
             }
            },
            "type": "scatter3d"
           }
          ],
          "scattercarpet": [
           {
            "marker": {
             "colorbar": {
              "outlinewidth": 0,
              "ticks": ""
             }
            },
            "type": "scattercarpet"
           }
          ],
          "scattergeo": [
           {
            "marker": {
             "colorbar": {
              "outlinewidth": 0,
              "ticks": ""
             }
            },
            "type": "scattergeo"
           }
          ],
          "scattergl": [
           {
            "marker": {
             "colorbar": {
              "outlinewidth": 0,
              "ticks": ""
             }
            },
            "type": "scattergl"
           }
          ],
          "scattermapbox": [
           {
            "marker": {
             "colorbar": {
              "outlinewidth": 0,
              "ticks": ""
             }
            },
            "type": "scattermapbox"
           }
          ],
          "scatterpolar": [
           {
            "marker": {
             "colorbar": {
              "outlinewidth": 0,
              "ticks": ""
             }
            },
            "type": "scatterpolar"
           }
          ],
          "scatterpolargl": [
           {
            "marker": {
             "colorbar": {
              "outlinewidth": 0,
              "ticks": ""
             }
            },
            "type": "scatterpolargl"
           }
          ],
          "scatterternary": [
           {
            "marker": {
             "colorbar": {
              "outlinewidth": 0,
              "ticks": ""
             }
            },
            "type": "scatterternary"
           }
          ],
          "surface": [
           {
            "colorbar": {
             "outlinewidth": 0,
             "ticks": ""
            },
            "colorscale": [
             [
              0,
              "#0d0887"
             ],
             [
              0.1111111111111111,
              "#46039f"
             ],
             [
              0.2222222222222222,
              "#7201a8"
             ],
             [
              0.3333333333333333,
              "#9c179e"
             ],
             [
              0.4444444444444444,
              "#bd3786"
             ],
             [
              0.5555555555555556,
              "#d8576b"
             ],
             [
              0.6666666666666666,
              "#ed7953"
             ],
             [
              0.7777777777777778,
              "#fb9f3a"
             ],
             [
              0.8888888888888888,
              "#fdca26"
             ],
             [
              1,
              "#f0f921"
             ]
            ],
            "type": "surface"
           }
          ],
          "table": [
           {
            "cells": {
             "fill": {
              "color": "#EBF0F8"
             },
             "line": {
              "color": "white"
             }
            },
            "header": {
             "fill": {
              "color": "#C8D4E3"
             },
             "line": {
              "color": "white"
             }
            },
            "type": "table"
           }
          ]
         },
         "layout": {
          "annotationdefaults": {
           "arrowcolor": "#2a3f5f",
           "arrowhead": 0,
           "arrowwidth": 1
          },
          "coloraxis": {
           "colorbar": {
            "outlinewidth": 0,
            "ticks": ""
           }
          },
          "colorscale": {
           "diverging": [
            [
             0,
             "#8e0152"
            ],
            [
             0.1,
             "#c51b7d"
            ],
            [
             0.2,
             "#de77ae"
            ],
            [
             0.3,
             "#f1b6da"
            ],
            [
             0.4,
             "#fde0ef"
            ],
            [
             0.5,
             "#f7f7f7"
            ],
            [
             0.6,
             "#e6f5d0"
            ],
            [
             0.7,
             "#b8e186"
            ],
            [
             0.8,
             "#7fbc41"
            ],
            [
             0.9,
             "#4d9221"
            ],
            [
             1,
             "#276419"
            ]
           ],
           "sequential": [
            [
             0,
             "#0d0887"
            ],
            [
             0.1111111111111111,
             "#46039f"
            ],
            [
             0.2222222222222222,
             "#7201a8"
            ],
            [
             0.3333333333333333,
             "#9c179e"
            ],
            [
             0.4444444444444444,
             "#bd3786"
            ],
            [
             0.5555555555555556,
             "#d8576b"
            ],
            [
             0.6666666666666666,
             "#ed7953"
            ],
            [
             0.7777777777777778,
             "#fb9f3a"
            ],
            [
             0.8888888888888888,
             "#fdca26"
            ],
            [
             1,
             "#f0f921"
            ]
           ],
           "sequentialminus": [
            [
             0,
             "#0d0887"
            ],
            [
             0.1111111111111111,
             "#46039f"
            ],
            [
             0.2222222222222222,
             "#7201a8"
            ],
            [
             0.3333333333333333,
             "#9c179e"
            ],
            [
             0.4444444444444444,
             "#bd3786"
            ],
            [
             0.5555555555555556,
             "#d8576b"
            ],
            [
             0.6666666666666666,
             "#ed7953"
            ],
            [
             0.7777777777777778,
             "#fb9f3a"
            ],
            [
             0.8888888888888888,
             "#fdca26"
            ],
            [
             1,
             "#f0f921"
            ]
           ]
          },
          "colorway": [
           "#636efa",
           "#EF553B",
           "#00cc96",
           "#ab63fa",
           "#FFA15A",
           "#19d3f3",
           "#FF6692",
           "#B6E880",
           "#FF97FF",
           "#FECB52"
          ],
          "font": {
           "color": "#2a3f5f"
          },
          "geo": {
           "bgcolor": "white",
           "lakecolor": "white",
           "landcolor": "#E5ECF6",
           "showlakes": true,
           "showland": true,
           "subunitcolor": "white"
          },
          "hoverlabel": {
           "align": "left"
          },
          "hovermode": "closest",
          "mapbox": {
           "style": "light"
          },
          "paper_bgcolor": "white",
          "plot_bgcolor": "#E5ECF6",
          "polar": {
           "angularaxis": {
            "gridcolor": "white",
            "linecolor": "white",
            "ticks": ""
           },
           "bgcolor": "#E5ECF6",
           "radialaxis": {
            "gridcolor": "white",
            "linecolor": "white",
            "ticks": ""
           }
          },
          "scene": {
           "xaxis": {
            "backgroundcolor": "#E5ECF6",
            "gridcolor": "white",
            "gridwidth": 2,
            "linecolor": "white",
            "showbackground": true,
            "ticks": "",
            "zerolinecolor": "white"
           },
           "yaxis": {
            "backgroundcolor": "#E5ECF6",
            "gridcolor": "white",
            "gridwidth": 2,
            "linecolor": "white",
            "showbackground": true,
            "ticks": "",
            "zerolinecolor": "white"
           },
           "zaxis": {
            "backgroundcolor": "#E5ECF6",
            "gridcolor": "white",
            "gridwidth": 2,
            "linecolor": "white",
            "showbackground": true,
            "ticks": "",
            "zerolinecolor": "white"
           }
          },
          "shapedefaults": {
           "line": {
            "color": "#2a3f5f"
           }
          },
          "ternary": {
           "aaxis": {
            "gridcolor": "white",
            "linecolor": "white",
            "ticks": ""
           },
           "baxis": {
            "gridcolor": "white",
            "linecolor": "white",
            "ticks": ""
           },
           "bgcolor": "#E5ECF6",
           "caxis": {
            "gridcolor": "white",
            "linecolor": "white",
            "ticks": ""
           }
          },
          "title": {
           "x": 0.05
          },
          "xaxis": {
           "automargin": true,
           "gridcolor": "white",
           "linecolor": "white",
           "ticks": "",
           "title": {
            "standoff": 15
           },
           "zerolinecolor": "white",
           "zerolinewidth": 2
          },
          "yaxis": {
           "automargin": true,
           "gridcolor": "white",
           "linecolor": "white",
           "ticks": "",
           "title": {
            "standoff": 15
           },
           "zerolinecolor": "white",
           "zerolinewidth": 2
          }
         }
        },
        "title": {
         "text": "total time for 30 passenger groups"
        },
        "xaxis": {
         "title": {
          "text": "K-th simulation"
         }
        },
        "yaxis": {
         "title": {
          "text": "time(s)"
         }
        }
       }
      },
      "text/html": [
       "<div>\n",
       "        \n",
       "        \n",
       "            <div id=\"b5759afa-3133-447b-bb6e-312fb0cd8670\" class=\"plotly-graph-div\" style=\"height:525px; width:100%;\"></div>\n",
       "            <script type=\"text/javascript\">\n",
       "                require([\"plotly\"], function(Plotly) {\n",
       "                    window.PLOTLYENV=window.PLOTLYENV || {};\n",
       "                    \n",
       "                if (document.getElementById(\"b5759afa-3133-447b-bb6e-312fb0cd8670\")) {\n",
       "                    Plotly.newPlot(\n",
       "                        'b5759afa-3133-447b-bb6e-312fb0cd8670',\n",
       "                        [{\"name\": \"total time\", \"type\": \"scatter\", \"x\": [1, 2, 3, 4, 5, 6, 7, 8, 9, 10, 11, 12, 13, 14, 15, 16, 17, 18, 19, 20, 21, 22, 23, 24, 25, 26, 27, 28, 29, 30, 31, 32, 33, 34, 35, 36, 37, 38, 39, 40, 41, 42, 43, 44, 45, 46, 47, 48, 49, 50, 51, 52, 53, 54, 55, 56, 57, 58, 59, 60, 61, 62, 63, 64, 65, 66, 67, 68, 69, 70, 71, 72, 73, 74, 75, 76, 77, 78, 79, 80, 81, 82, 83, 84, 85, 86, 87, 88, 89, 90, 91, 92, 93, 94, 95, 96, 97, 98, 99, 100], \"y\": [368, 354, 399, 412, 342, 364, 363, 370, 401, 356, 335, 374, 364, 359, 345, 460, 373, 374, 371, 397, 412, 423, 349, 351, 436, 392, 354, 361, 371, 349, 405, 383, 339, 375, 349, 368, 357, 359, 366, 373, 383, 392, 366, 403, 420, 405, 364, 369, 363, 393, 372, 347, 359, 357, 372, 372, 381, 353, 367, 360, 377, 369, 353, 403, 371, 348, 391, 385, 398, 378, 401, 373, 340, 354, 377, 401, 356, 377, 374, 364, 430, 365, 344, 357, 353, 400, 356, 352, 348, 370, 392, 375, 353, 365, 375, 386, 384, 354, 357, 339]}],\n",
       "                        {\"template\": {\"data\": {\"bar\": [{\"error_x\": {\"color\": \"#2a3f5f\"}, \"error_y\": {\"color\": \"#2a3f5f\"}, \"marker\": {\"line\": {\"color\": \"#E5ECF6\", \"width\": 0.5}}, \"type\": \"bar\"}], \"barpolar\": [{\"marker\": {\"line\": {\"color\": \"#E5ECF6\", \"width\": 0.5}}, \"type\": \"barpolar\"}], \"carpet\": [{\"aaxis\": {\"endlinecolor\": \"#2a3f5f\", \"gridcolor\": \"white\", \"linecolor\": \"white\", \"minorgridcolor\": \"white\", \"startlinecolor\": \"#2a3f5f\"}, \"baxis\": {\"endlinecolor\": \"#2a3f5f\", \"gridcolor\": \"white\", \"linecolor\": \"white\", \"minorgridcolor\": \"white\", \"startlinecolor\": \"#2a3f5f\"}, \"type\": \"carpet\"}], \"choropleth\": [{\"colorbar\": {\"outlinewidth\": 0, \"ticks\": \"\"}, \"type\": \"choropleth\"}], \"contour\": [{\"colorbar\": {\"outlinewidth\": 0, \"ticks\": \"\"}, \"colorscale\": [[0.0, \"#0d0887\"], [0.1111111111111111, \"#46039f\"], [0.2222222222222222, \"#7201a8\"], [0.3333333333333333, \"#9c179e\"], [0.4444444444444444, \"#bd3786\"], [0.5555555555555556, \"#d8576b\"], [0.6666666666666666, \"#ed7953\"], [0.7777777777777778, \"#fb9f3a\"], [0.8888888888888888, \"#fdca26\"], [1.0, \"#f0f921\"]], \"type\": \"contour\"}], \"contourcarpet\": [{\"colorbar\": {\"outlinewidth\": 0, \"ticks\": \"\"}, \"type\": \"contourcarpet\"}], \"heatmap\": [{\"colorbar\": {\"outlinewidth\": 0, \"ticks\": \"\"}, \"colorscale\": [[0.0, \"#0d0887\"], [0.1111111111111111, \"#46039f\"], [0.2222222222222222, \"#7201a8\"], [0.3333333333333333, \"#9c179e\"], [0.4444444444444444, \"#bd3786\"], [0.5555555555555556, \"#d8576b\"], [0.6666666666666666, \"#ed7953\"], [0.7777777777777778, \"#fb9f3a\"], [0.8888888888888888, \"#fdca26\"], [1.0, \"#f0f921\"]], \"type\": \"heatmap\"}], \"heatmapgl\": [{\"colorbar\": {\"outlinewidth\": 0, \"ticks\": \"\"}, \"colorscale\": [[0.0, \"#0d0887\"], [0.1111111111111111, \"#46039f\"], [0.2222222222222222, \"#7201a8\"], [0.3333333333333333, \"#9c179e\"], [0.4444444444444444, \"#bd3786\"], [0.5555555555555556, \"#d8576b\"], [0.6666666666666666, \"#ed7953\"], [0.7777777777777778, \"#fb9f3a\"], [0.8888888888888888, \"#fdca26\"], [1.0, \"#f0f921\"]], \"type\": \"heatmapgl\"}], \"histogram\": [{\"marker\": {\"colorbar\": {\"outlinewidth\": 0, \"ticks\": \"\"}}, \"type\": \"histogram\"}], \"histogram2d\": [{\"colorbar\": {\"outlinewidth\": 0, \"ticks\": \"\"}, \"colorscale\": [[0.0, \"#0d0887\"], [0.1111111111111111, \"#46039f\"], [0.2222222222222222, \"#7201a8\"], [0.3333333333333333, \"#9c179e\"], [0.4444444444444444, \"#bd3786\"], [0.5555555555555556, \"#d8576b\"], [0.6666666666666666, \"#ed7953\"], [0.7777777777777778, \"#fb9f3a\"], [0.8888888888888888, \"#fdca26\"], [1.0, \"#f0f921\"]], \"type\": \"histogram2d\"}], \"histogram2dcontour\": [{\"colorbar\": {\"outlinewidth\": 0, \"ticks\": \"\"}, \"colorscale\": [[0.0, \"#0d0887\"], [0.1111111111111111, \"#46039f\"], [0.2222222222222222, \"#7201a8\"], [0.3333333333333333, \"#9c179e\"], [0.4444444444444444, \"#bd3786\"], [0.5555555555555556, \"#d8576b\"], [0.6666666666666666, \"#ed7953\"], [0.7777777777777778, \"#fb9f3a\"], [0.8888888888888888, \"#fdca26\"], [1.0, \"#f0f921\"]], \"type\": \"histogram2dcontour\"}], \"mesh3d\": [{\"colorbar\": {\"outlinewidth\": 0, \"ticks\": \"\"}, \"type\": \"mesh3d\"}], \"parcoords\": [{\"line\": {\"colorbar\": {\"outlinewidth\": 0, \"ticks\": \"\"}}, \"type\": \"parcoords\"}], \"pie\": [{\"automargin\": true, \"type\": \"pie\"}], \"scatter\": [{\"marker\": {\"colorbar\": {\"outlinewidth\": 0, \"ticks\": \"\"}}, \"type\": \"scatter\"}], \"scatter3d\": [{\"line\": {\"colorbar\": {\"outlinewidth\": 0, \"ticks\": \"\"}}, \"marker\": {\"colorbar\": {\"outlinewidth\": 0, \"ticks\": \"\"}}, \"type\": \"scatter3d\"}], \"scattercarpet\": [{\"marker\": {\"colorbar\": {\"outlinewidth\": 0, \"ticks\": \"\"}}, \"type\": \"scattercarpet\"}], \"scattergeo\": [{\"marker\": {\"colorbar\": {\"outlinewidth\": 0, \"ticks\": \"\"}}, \"type\": \"scattergeo\"}], \"scattergl\": [{\"marker\": {\"colorbar\": {\"outlinewidth\": 0, \"ticks\": \"\"}}, \"type\": \"scattergl\"}], \"scattermapbox\": [{\"marker\": {\"colorbar\": {\"outlinewidth\": 0, \"ticks\": \"\"}}, \"type\": \"scattermapbox\"}], \"scatterpolar\": [{\"marker\": {\"colorbar\": {\"outlinewidth\": 0, \"ticks\": \"\"}}, \"type\": \"scatterpolar\"}], \"scatterpolargl\": [{\"marker\": {\"colorbar\": {\"outlinewidth\": 0, \"ticks\": \"\"}}, \"type\": \"scatterpolargl\"}], \"scatterternary\": [{\"marker\": {\"colorbar\": {\"outlinewidth\": 0, \"ticks\": \"\"}}, \"type\": \"scatterternary\"}], \"surface\": [{\"colorbar\": {\"outlinewidth\": 0, \"ticks\": \"\"}, \"colorscale\": [[0.0, \"#0d0887\"], [0.1111111111111111, \"#46039f\"], [0.2222222222222222, \"#7201a8\"], [0.3333333333333333, \"#9c179e\"], [0.4444444444444444, \"#bd3786\"], [0.5555555555555556, \"#d8576b\"], [0.6666666666666666, \"#ed7953\"], [0.7777777777777778, \"#fb9f3a\"], [0.8888888888888888, \"#fdca26\"], [1.0, \"#f0f921\"]], \"type\": \"surface\"}], \"table\": [{\"cells\": {\"fill\": {\"color\": \"#EBF0F8\"}, \"line\": {\"color\": \"white\"}}, \"header\": {\"fill\": {\"color\": \"#C8D4E3\"}, \"line\": {\"color\": \"white\"}}, \"type\": \"table\"}]}, \"layout\": {\"annotationdefaults\": {\"arrowcolor\": \"#2a3f5f\", \"arrowhead\": 0, \"arrowwidth\": 1}, \"coloraxis\": {\"colorbar\": {\"outlinewidth\": 0, \"ticks\": \"\"}}, \"colorscale\": {\"diverging\": [[0, \"#8e0152\"], [0.1, \"#c51b7d\"], [0.2, \"#de77ae\"], [0.3, \"#f1b6da\"], [0.4, \"#fde0ef\"], [0.5, \"#f7f7f7\"], [0.6, \"#e6f5d0\"], [0.7, \"#b8e186\"], [0.8, \"#7fbc41\"], [0.9, \"#4d9221\"], [1, \"#276419\"]], \"sequential\": [[0.0, \"#0d0887\"], [0.1111111111111111, \"#46039f\"], [0.2222222222222222, \"#7201a8\"], [0.3333333333333333, \"#9c179e\"], [0.4444444444444444, \"#bd3786\"], [0.5555555555555556, \"#d8576b\"], [0.6666666666666666, \"#ed7953\"], [0.7777777777777778, \"#fb9f3a\"], [0.8888888888888888, \"#fdca26\"], [1.0, \"#f0f921\"]], \"sequentialminus\": [[0.0, \"#0d0887\"], [0.1111111111111111, \"#46039f\"], [0.2222222222222222, \"#7201a8\"], [0.3333333333333333, \"#9c179e\"], [0.4444444444444444, \"#bd3786\"], [0.5555555555555556, \"#d8576b\"], [0.6666666666666666, \"#ed7953\"], [0.7777777777777778, \"#fb9f3a\"], [0.8888888888888888, \"#fdca26\"], [1.0, \"#f0f921\"]]}, \"colorway\": [\"#636efa\", \"#EF553B\", \"#00cc96\", \"#ab63fa\", \"#FFA15A\", \"#19d3f3\", \"#FF6692\", \"#B6E880\", \"#FF97FF\", \"#FECB52\"], \"font\": {\"color\": \"#2a3f5f\"}, \"geo\": {\"bgcolor\": \"white\", \"lakecolor\": \"white\", \"landcolor\": \"#E5ECF6\", \"showlakes\": true, \"showland\": true, \"subunitcolor\": \"white\"}, \"hoverlabel\": {\"align\": \"left\"}, \"hovermode\": \"closest\", \"mapbox\": {\"style\": \"light\"}, \"paper_bgcolor\": \"white\", \"plot_bgcolor\": \"#E5ECF6\", \"polar\": {\"angularaxis\": {\"gridcolor\": \"white\", \"linecolor\": \"white\", \"ticks\": \"\"}, \"bgcolor\": \"#E5ECF6\", \"radialaxis\": {\"gridcolor\": \"white\", \"linecolor\": \"white\", \"ticks\": \"\"}}, \"scene\": {\"xaxis\": {\"backgroundcolor\": \"#E5ECF6\", \"gridcolor\": \"white\", \"gridwidth\": 2, \"linecolor\": \"white\", \"showbackground\": true, \"ticks\": \"\", \"zerolinecolor\": \"white\"}, \"yaxis\": {\"backgroundcolor\": \"#E5ECF6\", \"gridcolor\": \"white\", \"gridwidth\": 2, \"linecolor\": \"white\", \"showbackground\": true, \"ticks\": \"\", \"zerolinecolor\": \"white\"}, \"zaxis\": {\"backgroundcolor\": \"#E5ECF6\", \"gridcolor\": \"white\", \"gridwidth\": 2, \"linecolor\": \"white\", \"showbackground\": true, \"ticks\": \"\", \"zerolinecolor\": \"white\"}}, \"shapedefaults\": {\"line\": {\"color\": \"#2a3f5f\"}}, \"ternary\": {\"aaxis\": {\"gridcolor\": \"white\", \"linecolor\": \"white\", \"ticks\": \"\"}, \"baxis\": {\"gridcolor\": \"white\", \"linecolor\": \"white\", \"ticks\": \"\"}, \"bgcolor\": \"#E5ECF6\", \"caxis\": {\"gridcolor\": \"white\", \"linecolor\": \"white\", \"ticks\": \"\"}}, \"title\": {\"x\": 0.05}, \"xaxis\": {\"automargin\": true, \"gridcolor\": \"white\", \"linecolor\": \"white\", \"ticks\": \"\", \"title\": {\"standoff\": 15}, \"zerolinecolor\": \"white\", \"zerolinewidth\": 2}, \"yaxis\": {\"automargin\": true, \"gridcolor\": \"white\", \"linecolor\": \"white\", \"ticks\": \"\", \"title\": {\"standoff\": 15}, \"zerolinecolor\": \"white\", \"zerolinewidth\": 2}}}, \"title\": {\"text\": \"total time for 30 passenger groups\"}, \"xaxis\": {\"title\": {\"text\": \"K-th simulation\"}}, \"yaxis\": {\"title\": {\"text\": \"time(s)\"}}},\n",
       "                        {\"responsive\": true}\n",
       "                    ).then(function(){\n",
       "                            \n",
       "var gd = document.getElementById('b5759afa-3133-447b-bb6e-312fb0cd8670');\n",
       "var x = new MutationObserver(function (mutations, observer) {{\n",
       "        var display = window.getComputedStyle(gd).display;\n",
       "        if (!display || display === 'none') {{\n",
       "            console.log([gd, 'removed!']);\n",
       "            Plotly.purge(gd);\n",
       "            observer.disconnect();\n",
       "        }}\n",
       "}});\n",
       "\n",
       "// Listen for the removal of the full notebook cells\n",
       "var notebookContainer = gd.closest('#notebook-container');\n",
       "if (notebookContainer) {{\n",
       "    x.observe(notebookContainer, {childList: true});\n",
       "}}\n",
       "\n",
       "// Listen for the clearing of the current output cell\n",
       "var outputEl = gd.closest('.output');\n",
       "if (outputEl) {{\n",
       "    x.observe(outputEl, {childList: true});\n",
       "}}\n",
       "\n",
       "                        })\n",
       "                };\n",
       "                });\n",
       "            </script>\n",
       "        </div>"
      ]
     },
     "metadata": {},
     "output_type": "display_data"
    },
    {
     "data": {
      "application/vnd.plotly.v1+json": {
       "config": {
        "plotlyServerURL": "https://plot.ly"
       },
       "data": [
        {
         "name": "total time",
         "type": "box",
         "y": [
          368,
          354,
          399,
          412,
          342,
          364,
          363,
          370,
          401,
          356,
          335,
          374,
          364,
          359,
          345,
          460,
          373,
          374,
          371,
          397,
          412,
          423,
          349,
          351,
          436,
          392,
          354,
          361,
          371,
          349,
          405,
          383,
          339,
          375,
          349,
          368,
          357,
          359,
          366,
          373,
          383,
          392,
          366,
          403,
          420,
          405,
          364,
          369,
          363,
          393,
          372,
          347,
          359,
          357,
          372,
          372,
          381,
          353,
          367,
          360,
          377,
          369,
          353,
          403,
          371,
          348,
          391,
          385,
          398,
          378,
          401,
          373,
          340,
          354,
          377,
          401,
          356,
          377,
          374,
          364,
          430,
          365,
          344,
          357,
          353,
          400,
          356,
          352,
          348,
          370,
          392,
          375,
          353,
          365,
          375,
          386,
          384,
          354,
          357,
          339
         ]
        }
       ],
       "layout": {
        "template": {
         "data": {
          "bar": [
           {
            "error_x": {
             "color": "#2a3f5f"
            },
            "error_y": {
             "color": "#2a3f5f"
            },
            "marker": {
             "line": {
              "color": "#E5ECF6",
              "width": 0.5
             }
            },
            "type": "bar"
           }
          ],
          "barpolar": [
           {
            "marker": {
             "line": {
              "color": "#E5ECF6",
              "width": 0.5
             }
            },
            "type": "barpolar"
           }
          ],
          "carpet": [
           {
            "aaxis": {
             "endlinecolor": "#2a3f5f",
             "gridcolor": "white",
             "linecolor": "white",
             "minorgridcolor": "white",
             "startlinecolor": "#2a3f5f"
            },
            "baxis": {
             "endlinecolor": "#2a3f5f",
             "gridcolor": "white",
             "linecolor": "white",
             "minorgridcolor": "white",
             "startlinecolor": "#2a3f5f"
            },
            "type": "carpet"
           }
          ],
          "choropleth": [
           {
            "colorbar": {
             "outlinewidth": 0,
             "ticks": ""
            },
            "type": "choropleth"
           }
          ],
          "contour": [
           {
            "colorbar": {
             "outlinewidth": 0,
             "ticks": ""
            },
            "colorscale": [
             [
              0,
              "#0d0887"
             ],
             [
              0.1111111111111111,
              "#46039f"
             ],
             [
              0.2222222222222222,
              "#7201a8"
             ],
             [
              0.3333333333333333,
              "#9c179e"
             ],
             [
              0.4444444444444444,
              "#bd3786"
             ],
             [
              0.5555555555555556,
              "#d8576b"
             ],
             [
              0.6666666666666666,
              "#ed7953"
             ],
             [
              0.7777777777777778,
              "#fb9f3a"
             ],
             [
              0.8888888888888888,
              "#fdca26"
             ],
             [
              1,
              "#f0f921"
             ]
            ],
            "type": "contour"
           }
          ],
          "contourcarpet": [
           {
            "colorbar": {
             "outlinewidth": 0,
             "ticks": ""
            },
            "type": "contourcarpet"
           }
          ],
          "heatmap": [
           {
            "colorbar": {
             "outlinewidth": 0,
             "ticks": ""
            },
            "colorscale": [
             [
              0,
              "#0d0887"
             ],
             [
              0.1111111111111111,
              "#46039f"
             ],
             [
              0.2222222222222222,
              "#7201a8"
             ],
             [
              0.3333333333333333,
              "#9c179e"
             ],
             [
              0.4444444444444444,
              "#bd3786"
             ],
             [
              0.5555555555555556,
              "#d8576b"
             ],
             [
              0.6666666666666666,
              "#ed7953"
             ],
             [
              0.7777777777777778,
              "#fb9f3a"
             ],
             [
              0.8888888888888888,
              "#fdca26"
             ],
             [
              1,
              "#f0f921"
             ]
            ],
            "type": "heatmap"
           }
          ],
          "heatmapgl": [
           {
            "colorbar": {
             "outlinewidth": 0,
             "ticks": ""
            },
            "colorscale": [
             [
              0,
              "#0d0887"
             ],
             [
              0.1111111111111111,
              "#46039f"
             ],
             [
              0.2222222222222222,
              "#7201a8"
             ],
             [
              0.3333333333333333,
              "#9c179e"
             ],
             [
              0.4444444444444444,
              "#bd3786"
             ],
             [
              0.5555555555555556,
              "#d8576b"
             ],
             [
              0.6666666666666666,
              "#ed7953"
             ],
             [
              0.7777777777777778,
              "#fb9f3a"
             ],
             [
              0.8888888888888888,
              "#fdca26"
             ],
             [
              1,
              "#f0f921"
             ]
            ],
            "type": "heatmapgl"
           }
          ],
          "histogram": [
           {
            "marker": {
             "colorbar": {
              "outlinewidth": 0,
              "ticks": ""
             }
            },
            "type": "histogram"
           }
          ],
          "histogram2d": [
           {
            "colorbar": {
             "outlinewidth": 0,
             "ticks": ""
            },
            "colorscale": [
             [
              0,
              "#0d0887"
             ],
             [
              0.1111111111111111,
              "#46039f"
             ],
             [
              0.2222222222222222,
              "#7201a8"
             ],
             [
              0.3333333333333333,
              "#9c179e"
             ],
             [
              0.4444444444444444,
              "#bd3786"
             ],
             [
              0.5555555555555556,
              "#d8576b"
             ],
             [
              0.6666666666666666,
              "#ed7953"
             ],
             [
              0.7777777777777778,
              "#fb9f3a"
             ],
             [
              0.8888888888888888,
              "#fdca26"
             ],
             [
              1,
              "#f0f921"
             ]
            ],
            "type": "histogram2d"
           }
          ],
          "histogram2dcontour": [
           {
            "colorbar": {
             "outlinewidth": 0,
             "ticks": ""
            },
            "colorscale": [
             [
              0,
              "#0d0887"
             ],
             [
              0.1111111111111111,
              "#46039f"
             ],
             [
              0.2222222222222222,
              "#7201a8"
             ],
             [
              0.3333333333333333,
              "#9c179e"
             ],
             [
              0.4444444444444444,
              "#bd3786"
             ],
             [
              0.5555555555555556,
              "#d8576b"
             ],
             [
              0.6666666666666666,
              "#ed7953"
             ],
             [
              0.7777777777777778,
              "#fb9f3a"
             ],
             [
              0.8888888888888888,
              "#fdca26"
             ],
             [
              1,
              "#f0f921"
             ]
            ],
            "type": "histogram2dcontour"
           }
          ],
          "mesh3d": [
           {
            "colorbar": {
             "outlinewidth": 0,
             "ticks": ""
            },
            "type": "mesh3d"
           }
          ],
          "parcoords": [
           {
            "line": {
             "colorbar": {
              "outlinewidth": 0,
              "ticks": ""
             }
            },
            "type": "parcoords"
           }
          ],
          "pie": [
           {
            "automargin": true,
            "type": "pie"
           }
          ],
          "scatter": [
           {
            "marker": {
             "colorbar": {
              "outlinewidth": 0,
              "ticks": ""
             }
            },
            "type": "scatter"
           }
          ],
          "scatter3d": [
           {
            "line": {
             "colorbar": {
              "outlinewidth": 0,
              "ticks": ""
             }
            },
            "marker": {
             "colorbar": {
              "outlinewidth": 0,
              "ticks": ""
             }
            },
            "type": "scatter3d"
           }
          ],
          "scattercarpet": [
           {
            "marker": {
             "colorbar": {
              "outlinewidth": 0,
              "ticks": ""
             }
            },
            "type": "scattercarpet"
           }
          ],
          "scattergeo": [
           {
            "marker": {
             "colorbar": {
              "outlinewidth": 0,
              "ticks": ""
             }
            },
            "type": "scattergeo"
           }
          ],
          "scattergl": [
           {
            "marker": {
             "colorbar": {
              "outlinewidth": 0,
              "ticks": ""
             }
            },
            "type": "scattergl"
           }
          ],
          "scattermapbox": [
           {
            "marker": {
             "colorbar": {
              "outlinewidth": 0,
              "ticks": ""
             }
            },
            "type": "scattermapbox"
           }
          ],
          "scatterpolar": [
           {
            "marker": {
             "colorbar": {
              "outlinewidth": 0,
              "ticks": ""
             }
            },
            "type": "scatterpolar"
           }
          ],
          "scatterpolargl": [
           {
            "marker": {
             "colorbar": {
              "outlinewidth": 0,
              "ticks": ""
             }
            },
            "type": "scatterpolargl"
           }
          ],
          "scatterternary": [
           {
            "marker": {
             "colorbar": {
              "outlinewidth": 0,
              "ticks": ""
             }
            },
            "type": "scatterternary"
           }
          ],
          "surface": [
           {
            "colorbar": {
             "outlinewidth": 0,
             "ticks": ""
            },
            "colorscale": [
             [
              0,
              "#0d0887"
             ],
             [
              0.1111111111111111,
              "#46039f"
             ],
             [
              0.2222222222222222,
              "#7201a8"
             ],
             [
              0.3333333333333333,
              "#9c179e"
             ],
             [
              0.4444444444444444,
              "#bd3786"
             ],
             [
              0.5555555555555556,
              "#d8576b"
             ],
             [
              0.6666666666666666,
              "#ed7953"
             ],
             [
              0.7777777777777778,
              "#fb9f3a"
             ],
             [
              0.8888888888888888,
              "#fdca26"
             ],
             [
              1,
              "#f0f921"
             ]
            ],
            "type": "surface"
           }
          ],
          "table": [
           {
            "cells": {
             "fill": {
              "color": "#EBF0F8"
             },
             "line": {
              "color": "white"
             }
            },
            "header": {
             "fill": {
              "color": "#C8D4E3"
             },
             "line": {
              "color": "white"
             }
            },
            "type": "table"
           }
          ]
         },
         "layout": {
          "annotationdefaults": {
           "arrowcolor": "#2a3f5f",
           "arrowhead": 0,
           "arrowwidth": 1
          },
          "coloraxis": {
           "colorbar": {
            "outlinewidth": 0,
            "ticks": ""
           }
          },
          "colorscale": {
           "diverging": [
            [
             0,
             "#8e0152"
            ],
            [
             0.1,
             "#c51b7d"
            ],
            [
             0.2,
             "#de77ae"
            ],
            [
             0.3,
             "#f1b6da"
            ],
            [
             0.4,
             "#fde0ef"
            ],
            [
             0.5,
             "#f7f7f7"
            ],
            [
             0.6,
             "#e6f5d0"
            ],
            [
             0.7,
             "#b8e186"
            ],
            [
             0.8,
             "#7fbc41"
            ],
            [
             0.9,
             "#4d9221"
            ],
            [
             1,
             "#276419"
            ]
           ],
           "sequential": [
            [
             0,
             "#0d0887"
            ],
            [
             0.1111111111111111,
             "#46039f"
            ],
            [
             0.2222222222222222,
             "#7201a8"
            ],
            [
             0.3333333333333333,
             "#9c179e"
            ],
            [
             0.4444444444444444,
             "#bd3786"
            ],
            [
             0.5555555555555556,
             "#d8576b"
            ],
            [
             0.6666666666666666,
             "#ed7953"
            ],
            [
             0.7777777777777778,
             "#fb9f3a"
            ],
            [
             0.8888888888888888,
             "#fdca26"
            ],
            [
             1,
             "#f0f921"
            ]
           ],
           "sequentialminus": [
            [
             0,
             "#0d0887"
            ],
            [
             0.1111111111111111,
             "#46039f"
            ],
            [
             0.2222222222222222,
             "#7201a8"
            ],
            [
             0.3333333333333333,
             "#9c179e"
            ],
            [
             0.4444444444444444,
             "#bd3786"
            ],
            [
             0.5555555555555556,
             "#d8576b"
            ],
            [
             0.6666666666666666,
             "#ed7953"
            ],
            [
             0.7777777777777778,
             "#fb9f3a"
            ],
            [
             0.8888888888888888,
             "#fdca26"
            ],
            [
             1,
             "#f0f921"
            ]
           ]
          },
          "colorway": [
           "#636efa",
           "#EF553B",
           "#00cc96",
           "#ab63fa",
           "#FFA15A",
           "#19d3f3",
           "#FF6692",
           "#B6E880",
           "#FF97FF",
           "#FECB52"
          ],
          "font": {
           "color": "#2a3f5f"
          },
          "geo": {
           "bgcolor": "white",
           "lakecolor": "white",
           "landcolor": "#E5ECF6",
           "showlakes": true,
           "showland": true,
           "subunitcolor": "white"
          },
          "hoverlabel": {
           "align": "left"
          },
          "hovermode": "closest",
          "mapbox": {
           "style": "light"
          },
          "paper_bgcolor": "white",
          "plot_bgcolor": "#E5ECF6",
          "polar": {
           "angularaxis": {
            "gridcolor": "white",
            "linecolor": "white",
            "ticks": ""
           },
           "bgcolor": "#E5ECF6",
           "radialaxis": {
            "gridcolor": "white",
            "linecolor": "white",
            "ticks": ""
           }
          },
          "scene": {
           "xaxis": {
            "backgroundcolor": "#E5ECF6",
            "gridcolor": "white",
            "gridwidth": 2,
            "linecolor": "white",
            "showbackground": true,
            "ticks": "",
            "zerolinecolor": "white"
           },
           "yaxis": {
            "backgroundcolor": "#E5ECF6",
            "gridcolor": "white",
            "gridwidth": 2,
            "linecolor": "white",
            "showbackground": true,
            "ticks": "",
            "zerolinecolor": "white"
           },
           "zaxis": {
            "backgroundcolor": "#E5ECF6",
            "gridcolor": "white",
            "gridwidth": 2,
            "linecolor": "white",
            "showbackground": true,
            "ticks": "",
            "zerolinecolor": "white"
           }
          },
          "shapedefaults": {
           "line": {
            "color": "#2a3f5f"
           }
          },
          "ternary": {
           "aaxis": {
            "gridcolor": "white",
            "linecolor": "white",
            "ticks": ""
           },
           "baxis": {
            "gridcolor": "white",
            "linecolor": "white",
            "ticks": ""
           },
           "bgcolor": "#E5ECF6",
           "caxis": {
            "gridcolor": "white",
            "linecolor": "white",
            "ticks": ""
           }
          },
          "title": {
           "x": 0.05
          },
          "xaxis": {
           "automargin": true,
           "gridcolor": "white",
           "linecolor": "white",
           "ticks": "",
           "title": {
            "standoff": 15
           },
           "zerolinecolor": "white",
           "zerolinewidth": 2
          },
          "yaxis": {
           "automargin": true,
           "gridcolor": "white",
           "linecolor": "white",
           "ticks": "",
           "title": {
            "standoff": 15
           },
           "zerolinecolor": "white",
           "zerolinewidth": 2
          }
         }
        },
        "title": {
         "text": "total time for 30 passenger groups"
        },
        "yaxis": {
         "title": {
          "text": "time(s)"
         }
        }
       }
      },
      "text/html": [
       "<div>\n",
       "        \n",
       "        \n",
       "            <div id=\"bd2913f5-52aa-42c5-8fc2-5e18fc3fc30f\" class=\"plotly-graph-div\" style=\"height:525px; width:100%;\"></div>\n",
       "            <script type=\"text/javascript\">\n",
       "                require([\"plotly\"], function(Plotly) {\n",
       "                    window.PLOTLYENV=window.PLOTLYENV || {};\n",
       "                    \n",
       "                if (document.getElementById(\"bd2913f5-52aa-42c5-8fc2-5e18fc3fc30f\")) {\n",
       "                    Plotly.newPlot(\n",
       "                        'bd2913f5-52aa-42c5-8fc2-5e18fc3fc30f',\n",
       "                        [{\"name\": \"total time\", \"type\": \"box\", \"y\": [368, 354, 399, 412, 342, 364, 363, 370, 401, 356, 335, 374, 364, 359, 345, 460, 373, 374, 371, 397, 412, 423, 349, 351, 436, 392, 354, 361, 371, 349, 405, 383, 339, 375, 349, 368, 357, 359, 366, 373, 383, 392, 366, 403, 420, 405, 364, 369, 363, 393, 372, 347, 359, 357, 372, 372, 381, 353, 367, 360, 377, 369, 353, 403, 371, 348, 391, 385, 398, 378, 401, 373, 340, 354, 377, 401, 356, 377, 374, 364, 430, 365, 344, 357, 353, 400, 356, 352, 348, 370, 392, 375, 353, 365, 375, 386, 384, 354, 357, 339]}],\n",
       "                        {\"template\": {\"data\": {\"bar\": [{\"error_x\": {\"color\": \"#2a3f5f\"}, \"error_y\": {\"color\": \"#2a3f5f\"}, \"marker\": {\"line\": {\"color\": \"#E5ECF6\", \"width\": 0.5}}, \"type\": \"bar\"}], \"barpolar\": [{\"marker\": {\"line\": {\"color\": \"#E5ECF6\", \"width\": 0.5}}, \"type\": \"barpolar\"}], \"carpet\": [{\"aaxis\": {\"endlinecolor\": \"#2a3f5f\", \"gridcolor\": \"white\", \"linecolor\": \"white\", \"minorgridcolor\": \"white\", \"startlinecolor\": \"#2a3f5f\"}, \"baxis\": {\"endlinecolor\": \"#2a3f5f\", \"gridcolor\": \"white\", \"linecolor\": \"white\", \"minorgridcolor\": \"white\", \"startlinecolor\": \"#2a3f5f\"}, \"type\": \"carpet\"}], \"choropleth\": [{\"colorbar\": {\"outlinewidth\": 0, \"ticks\": \"\"}, \"type\": \"choropleth\"}], \"contour\": [{\"colorbar\": {\"outlinewidth\": 0, \"ticks\": \"\"}, \"colorscale\": [[0.0, \"#0d0887\"], [0.1111111111111111, \"#46039f\"], [0.2222222222222222, \"#7201a8\"], [0.3333333333333333, \"#9c179e\"], [0.4444444444444444, \"#bd3786\"], [0.5555555555555556, \"#d8576b\"], [0.6666666666666666, \"#ed7953\"], [0.7777777777777778, \"#fb9f3a\"], [0.8888888888888888, \"#fdca26\"], [1.0, \"#f0f921\"]], \"type\": \"contour\"}], \"contourcarpet\": [{\"colorbar\": {\"outlinewidth\": 0, \"ticks\": \"\"}, \"type\": \"contourcarpet\"}], \"heatmap\": [{\"colorbar\": {\"outlinewidth\": 0, \"ticks\": \"\"}, \"colorscale\": [[0.0, \"#0d0887\"], [0.1111111111111111, \"#46039f\"], [0.2222222222222222, \"#7201a8\"], [0.3333333333333333, \"#9c179e\"], [0.4444444444444444, \"#bd3786\"], [0.5555555555555556, \"#d8576b\"], [0.6666666666666666, \"#ed7953\"], [0.7777777777777778, \"#fb9f3a\"], [0.8888888888888888, \"#fdca26\"], [1.0, \"#f0f921\"]], \"type\": \"heatmap\"}], \"heatmapgl\": [{\"colorbar\": {\"outlinewidth\": 0, \"ticks\": \"\"}, \"colorscale\": [[0.0, \"#0d0887\"], [0.1111111111111111, \"#46039f\"], [0.2222222222222222, \"#7201a8\"], [0.3333333333333333, \"#9c179e\"], [0.4444444444444444, \"#bd3786\"], [0.5555555555555556, \"#d8576b\"], [0.6666666666666666, \"#ed7953\"], [0.7777777777777778, \"#fb9f3a\"], [0.8888888888888888, \"#fdca26\"], [1.0, \"#f0f921\"]], \"type\": \"heatmapgl\"}], \"histogram\": [{\"marker\": {\"colorbar\": {\"outlinewidth\": 0, \"ticks\": \"\"}}, \"type\": \"histogram\"}], \"histogram2d\": [{\"colorbar\": {\"outlinewidth\": 0, \"ticks\": \"\"}, \"colorscale\": [[0.0, \"#0d0887\"], [0.1111111111111111, \"#46039f\"], [0.2222222222222222, \"#7201a8\"], [0.3333333333333333, \"#9c179e\"], [0.4444444444444444, \"#bd3786\"], [0.5555555555555556, \"#d8576b\"], [0.6666666666666666, \"#ed7953\"], [0.7777777777777778, \"#fb9f3a\"], [0.8888888888888888, \"#fdca26\"], [1.0, \"#f0f921\"]], \"type\": \"histogram2d\"}], \"histogram2dcontour\": [{\"colorbar\": {\"outlinewidth\": 0, \"ticks\": \"\"}, \"colorscale\": [[0.0, \"#0d0887\"], [0.1111111111111111, \"#46039f\"], [0.2222222222222222, \"#7201a8\"], [0.3333333333333333, \"#9c179e\"], [0.4444444444444444, \"#bd3786\"], [0.5555555555555556, \"#d8576b\"], [0.6666666666666666, \"#ed7953\"], [0.7777777777777778, \"#fb9f3a\"], [0.8888888888888888, \"#fdca26\"], [1.0, \"#f0f921\"]], \"type\": \"histogram2dcontour\"}], \"mesh3d\": [{\"colorbar\": {\"outlinewidth\": 0, \"ticks\": \"\"}, \"type\": \"mesh3d\"}], \"parcoords\": [{\"line\": {\"colorbar\": {\"outlinewidth\": 0, \"ticks\": \"\"}}, \"type\": \"parcoords\"}], \"pie\": [{\"automargin\": true, \"type\": \"pie\"}], \"scatter\": [{\"marker\": {\"colorbar\": {\"outlinewidth\": 0, \"ticks\": \"\"}}, \"type\": \"scatter\"}], \"scatter3d\": [{\"line\": {\"colorbar\": {\"outlinewidth\": 0, \"ticks\": \"\"}}, \"marker\": {\"colorbar\": {\"outlinewidth\": 0, \"ticks\": \"\"}}, \"type\": \"scatter3d\"}], \"scattercarpet\": [{\"marker\": {\"colorbar\": {\"outlinewidth\": 0, \"ticks\": \"\"}}, \"type\": \"scattercarpet\"}], \"scattergeo\": [{\"marker\": {\"colorbar\": {\"outlinewidth\": 0, \"ticks\": \"\"}}, \"type\": \"scattergeo\"}], \"scattergl\": [{\"marker\": {\"colorbar\": {\"outlinewidth\": 0, \"ticks\": \"\"}}, \"type\": \"scattergl\"}], \"scattermapbox\": [{\"marker\": {\"colorbar\": {\"outlinewidth\": 0, \"ticks\": \"\"}}, \"type\": \"scattermapbox\"}], \"scatterpolar\": [{\"marker\": {\"colorbar\": {\"outlinewidth\": 0, \"ticks\": \"\"}}, \"type\": \"scatterpolar\"}], \"scatterpolargl\": [{\"marker\": {\"colorbar\": {\"outlinewidth\": 0, \"ticks\": \"\"}}, \"type\": \"scatterpolargl\"}], \"scatterternary\": [{\"marker\": {\"colorbar\": {\"outlinewidth\": 0, \"ticks\": \"\"}}, \"type\": \"scatterternary\"}], \"surface\": [{\"colorbar\": {\"outlinewidth\": 0, \"ticks\": \"\"}, \"colorscale\": [[0.0, \"#0d0887\"], [0.1111111111111111, \"#46039f\"], [0.2222222222222222, \"#7201a8\"], [0.3333333333333333, \"#9c179e\"], [0.4444444444444444, \"#bd3786\"], [0.5555555555555556, \"#d8576b\"], [0.6666666666666666, \"#ed7953\"], [0.7777777777777778, \"#fb9f3a\"], [0.8888888888888888, \"#fdca26\"], [1.0, \"#f0f921\"]], \"type\": \"surface\"}], \"table\": [{\"cells\": {\"fill\": {\"color\": \"#EBF0F8\"}, \"line\": {\"color\": \"white\"}}, \"header\": {\"fill\": {\"color\": \"#C8D4E3\"}, \"line\": {\"color\": \"white\"}}, \"type\": \"table\"}]}, \"layout\": {\"annotationdefaults\": {\"arrowcolor\": \"#2a3f5f\", \"arrowhead\": 0, \"arrowwidth\": 1}, \"coloraxis\": {\"colorbar\": {\"outlinewidth\": 0, \"ticks\": \"\"}}, \"colorscale\": {\"diverging\": [[0, \"#8e0152\"], [0.1, \"#c51b7d\"], [0.2, \"#de77ae\"], [0.3, \"#f1b6da\"], [0.4, \"#fde0ef\"], [0.5, \"#f7f7f7\"], [0.6, \"#e6f5d0\"], [0.7, \"#b8e186\"], [0.8, \"#7fbc41\"], [0.9, \"#4d9221\"], [1, \"#276419\"]], \"sequential\": [[0.0, \"#0d0887\"], [0.1111111111111111, \"#46039f\"], [0.2222222222222222, \"#7201a8\"], [0.3333333333333333, \"#9c179e\"], [0.4444444444444444, \"#bd3786\"], [0.5555555555555556, \"#d8576b\"], [0.6666666666666666, \"#ed7953\"], [0.7777777777777778, \"#fb9f3a\"], [0.8888888888888888, \"#fdca26\"], [1.0, \"#f0f921\"]], \"sequentialminus\": [[0.0, \"#0d0887\"], [0.1111111111111111, \"#46039f\"], [0.2222222222222222, \"#7201a8\"], [0.3333333333333333, \"#9c179e\"], [0.4444444444444444, \"#bd3786\"], [0.5555555555555556, \"#d8576b\"], [0.6666666666666666, \"#ed7953\"], [0.7777777777777778, \"#fb9f3a\"], [0.8888888888888888, \"#fdca26\"], [1.0, \"#f0f921\"]]}, \"colorway\": [\"#636efa\", \"#EF553B\", \"#00cc96\", \"#ab63fa\", \"#FFA15A\", \"#19d3f3\", \"#FF6692\", \"#B6E880\", \"#FF97FF\", \"#FECB52\"], \"font\": {\"color\": \"#2a3f5f\"}, \"geo\": {\"bgcolor\": \"white\", \"lakecolor\": \"white\", \"landcolor\": \"#E5ECF6\", \"showlakes\": true, \"showland\": true, \"subunitcolor\": \"white\"}, \"hoverlabel\": {\"align\": \"left\"}, \"hovermode\": \"closest\", \"mapbox\": {\"style\": \"light\"}, \"paper_bgcolor\": \"white\", \"plot_bgcolor\": \"#E5ECF6\", \"polar\": {\"angularaxis\": {\"gridcolor\": \"white\", \"linecolor\": \"white\", \"ticks\": \"\"}, \"bgcolor\": \"#E5ECF6\", \"radialaxis\": {\"gridcolor\": \"white\", \"linecolor\": \"white\", \"ticks\": \"\"}}, \"scene\": {\"xaxis\": {\"backgroundcolor\": \"#E5ECF6\", \"gridcolor\": \"white\", \"gridwidth\": 2, \"linecolor\": \"white\", \"showbackground\": true, \"ticks\": \"\", \"zerolinecolor\": \"white\"}, \"yaxis\": {\"backgroundcolor\": \"#E5ECF6\", \"gridcolor\": \"white\", \"gridwidth\": 2, \"linecolor\": \"white\", \"showbackground\": true, \"ticks\": \"\", \"zerolinecolor\": \"white\"}, \"zaxis\": {\"backgroundcolor\": \"#E5ECF6\", \"gridcolor\": \"white\", \"gridwidth\": 2, \"linecolor\": \"white\", \"showbackground\": true, \"ticks\": \"\", \"zerolinecolor\": \"white\"}}, \"shapedefaults\": {\"line\": {\"color\": \"#2a3f5f\"}}, \"ternary\": {\"aaxis\": {\"gridcolor\": \"white\", \"linecolor\": \"white\", \"ticks\": \"\"}, \"baxis\": {\"gridcolor\": \"white\", \"linecolor\": \"white\", \"ticks\": \"\"}, \"bgcolor\": \"#E5ECF6\", \"caxis\": {\"gridcolor\": \"white\", \"linecolor\": \"white\", \"ticks\": \"\"}}, \"title\": {\"x\": 0.05}, \"xaxis\": {\"automargin\": true, \"gridcolor\": \"white\", \"linecolor\": \"white\", \"ticks\": \"\", \"title\": {\"standoff\": 15}, \"zerolinecolor\": \"white\", \"zerolinewidth\": 2}, \"yaxis\": {\"automargin\": true, \"gridcolor\": \"white\", \"linecolor\": \"white\", \"ticks\": \"\", \"title\": {\"standoff\": 15}, \"zerolinecolor\": \"white\", \"zerolinewidth\": 2}}}, \"title\": {\"text\": \"total time for 30 passenger groups\"}, \"yaxis\": {\"title\": {\"text\": \"time(s)\"}}},\n",
       "                        {\"responsive\": true}\n",
       "                    ).then(function(){\n",
       "                            \n",
       "var gd = document.getElementById('bd2913f5-52aa-42c5-8fc2-5e18fc3fc30f');\n",
       "var x = new MutationObserver(function (mutations, observer) {{\n",
       "        var display = window.getComputedStyle(gd).display;\n",
       "        if (!display || display === 'none') {{\n",
       "            console.log([gd, 'removed!']);\n",
       "            Plotly.purge(gd);\n",
       "            observer.disconnect();\n",
       "        }}\n",
       "}});\n",
       "\n",
       "// Listen for the removal of the full notebook cells\n",
       "var notebookContainer = gd.closest('#notebook-container');\n",
       "if (notebookContainer) {{\n",
       "    x.observe(notebookContainer, {childList: true});\n",
       "}}\n",
       "\n",
       "// Listen for the clearing of the current output cell\n",
       "var outputEl = gd.closest('.output');\n",
       "if (outputEl) {{\n",
       "    x.observe(outputEl, {childList: true});\n",
       "}}\n",
       "\n",
       "                        })\n",
       "                };\n",
       "                });\n",
       "            </script>\n",
       "        </div>"
      ]
     },
     "metadata": {},
     "output_type": "display_data"
    },
    {
     "data": {
      "application/vnd.plotly.v1+json": {
       "config": {
        "plotlyServerURL": "https://plot.ly"
       },
       "data": [
        {
         "name": "elevator_0's uti-rate",
         "type": "scatter",
         "x": [
          1,
          2,
          3,
          4,
          5,
          6,
          7,
          8,
          9,
          10,
          11,
          12,
          13,
          14,
          15,
          16,
          17,
          18,
          19,
          20,
          21,
          22,
          23,
          24,
          25,
          26,
          27,
          28,
          29,
          30,
          31,
          32,
          33,
          34,
          35,
          36,
          37,
          38,
          39,
          40,
          41,
          42,
          43,
          44,
          45,
          46,
          47,
          48,
          49,
          50,
          51,
          52,
          53,
          54,
          55,
          56,
          57,
          58,
          59,
          60,
          61,
          62,
          63,
          64,
          65,
          66,
          67,
          68,
          69,
          70,
          71,
          72,
          73,
          74,
          75,
          76,
          77,
          78,
          79,
          80,
          81,
          82,
          83,
          84,
          85,
          86,
          87,
          88,
          89,
          90,
          91,
          92,
          93,
          94,
          95,
          96,
          97,
          98,
          99,
          100
         ],
         "y": [
          0.9972826086956522,
          0.963276836158192,
          0.8621553884711779,
          0.970873786407767,
          0.9444444444444444,
          0.9368131868131868,
          0.9090909090909091,
          0.9216216216216216,
          0.9476309226932669,
          0.9269662921348315,
          0.8716417910447761,
          0.8770053475935828,
          0.9587912087912088,
          0.9415041782729805,
          0.9739130434782609,
          0.967391304347826,
          0.9651474530831099,
          0.9946524064171123,
          0.9380053908355795,
          0.8564231738035264,
          0.8786407766990292,
          0.8132387706855791,
          0.997134670487106,
          0.8974358974358975,
          0.9220183486238532,
          0.9923469387755102,
          0.963276836158192,
          0.997229916897507,
          0.8436657681940701,
          0.994269340974212,
          0.9728395061728395,
          0.9712793733681462,
          0.9970501474926253,
          0.8533333333333334,
          0.8882521489971347,
          0.9972826086956522,
          0.9411764705882353,
          0.8635097493036211,
          0.8879781420765027,
          0.8123324396782842,
          0.8590078328981723,
          0.8010204081632653,
          0.9972677595628415,
          0.9007444168734491,
          0.7952380952380952,
          0.9481481481481482,
          0.9697802197802198,
          0.9539295392953929,
          0.8980716253443526,
          0.6768447837150128,
          0.8413978494623656,
          0.9654178674351584,
          0.9860724233983287,
          0.9803921568627451,
          0.956989247311828,
          0.8844086021505376,
          0.931758530183727,
          0.8781869688385269,
          0.9427792915531336,
          0.9388888888888889,
          0.8090185676392573,
          0.975609756097561,
          0.8526912181303116,
          0.8362282878411911,
          0.9784366576819407,
          0.8850574712643678,
          0.8056265984654731,
          0.9714285714285714,
          0.8743718592964824,
          0.9708994708994709,
          0.8827930174563591,
          0.8632707774798928,
          0.9647058823529412,
          0.9689265536723164,
          0.9124668435013262,
          0.8877805486284289,
          0.8735955056179775,
          0.9920424403183024,
          0.9973262032085561,
          0.8489010989010989,
          0.9976744186046511,
          0.9917808219178083,
          0.9680232558139535,
          0.9915966386554622,
          0.9093484419263456,
          0.9725,
          0.9410112359550562,
          0.9971590909090909,
          0.9339080459770115,
          0.9054054054054054,
          0.9974489795918368,
          0.9493333333333334,
          0.9490084985835694,
          0.9260273972602739,
          0.9226666666666666,
          0.9533678756476683,
          0.859375,
          0.963276836158192,
          0.7983193277310925,
          0.9351032448377581
         ]
        },
        {
         "name": "elevator_1's uti-rate",
         "type": "scatter",
         "x": [
          1,
          2,
          3,
          4,
          5,
          6,
          7,
          8,
          9,
          10,
          11,
          12,
          13,
          14,
          15,
          16,
          17,
          18,
          19,
          20,
          21,
          22,
          23,
          24,
          25,
          26,
          27,
          28,
          29,
          30,
          31,
          32,
          33,
          34,
          35,
          36,
          37,
          38,
          39,
          40,
          41,
          42,
          43,
          44,
          45,
          46,
          47,
          48,
          49,
          50,
          51,
          52,
          53,
          54,
          55,
          56,
          57,
          58,
          59,
          60,
          61,
          62,
          63,
          64,
          65,
          66,
          67,
          68,
          69,
          70,
          71,
          72,
          73,
          74,
          75,
          76,
          77,
          78,
          79,
          80,
          81,
          82,
          83,
          84,
          85,
          86,
          87,
          88,
          89,
          90,
          91,
          92,
          93,
          94,
          95,
          96,
          97,
          98,
          99,
          100
         ],
         "y": [
          0.8668478260869565,
          0.9548022598870056,
          0.9699248120300752,
          0.8058252427184466,
          0.9678362573099415,
          0.7692307692307693,
          0.9834710743801653,
          0.9648648648648649,
          0.7381546134663342,
          0.9971910112359551,
          0.9761194029850746,
          0.9705882352941176,
          0.9313186813186813,
          0.935933147632312,
          0.9623188405797102,
          0.7847826086956522,
          0.8981233243967829,
          0.9251336898395722,
          0.9137466307277629,
          0.9722921914357683,
          0.9733009708737864,
          0.9976359338061466,
          0.8911174785100286,
          0.9658119658119658,
          0.676605504587156,
          0.8826530612244898,
          0.9689265536723164,
          0.8808864265927978,
          0.9703504043126685,
          0.9684813753581661,
          0.8320987654320988,
          0.8198433420365535,
          0.9528023598820059,
          0.888,
          0.997134670487106,
          0.8913043478260869,
          0.9439775910364145,
          0.9693593314763231,
          0.9918032786885246,
          0.9705093833780161,
          0.95822454308094,
          0.9566326530612245,
          0.7486338797814208,
          0.9975186104218362,
          0.9976190476190476,
          0.9209876543209876,
          0.9725274725274725,
          0.8672086720867209,
          0.9586776859504132,
          0.9923664122137404,
          0.978494623655914,
          0.9250720461095101,
          0.9164345403899722,
          0.9439775910364145,
          0.9435483870967742,
          0.8870967741935484,
          0.9422572178477691,
          0.9971671388101983,
          0.888283378746594,
          0.9777777777777777,
          0.8647214854111406,
          0.8617886178861789,
          0.9405099150141643,
          0.9478908188585607,
          0.876010781671159,
          0.9741379310344828,
          0.9667519181585678,
          0.8805194805194805,
          0.9723618090452262,
          0.8333333333333334,
          0.9825436408977556,
          0.9249329758713136,
          0.861764705882353,
          0.9519774011299436,
          0.8275862068965517,
          0.9625935162094763,
          0.9466292134831461,
          0.8938992042440318,
          0.8716577540106952,
          0.9972527472527473,
          0.7302325581395349,
          0.9424657534246575,
          0.9593023255813954,
          0.9439775910364145,
          0.9235127478753541,
          0.81,
          0.9410112359550562,
          0.8125,
          0.9683908045977011,
          0.9972972972972973,
          0.826530612244898,
          0.9493333333333334,
          0.9688385269121813,
          0.852054794520548,
          0.8986666666666666,
          0.7409326424870466,
          0.9973958333333334,
          0.9689265536723164,
          0.969187675070028,
          0.9203539823008849
         ]
        }
       ],
       "layout": {
        "template": {
         "data": {
          "bar": [
           {
            "error_x": {
             "color": "#2a3f5f"
            },
            "error_y": {
             "color": "#2a3f5f"
            },
            "marker": {
             "line": {
              "color": "#E5ECF6",
              "width": 0.5
             }
            },
            "type": "bar"
           }
          ],
          "barpolar": [
           {
            "marker": {
             "line": {
              "color": "#E5ECF6",
              "width": 0.5
             }
            },
            "type": "barpolar"
           }
          ],
          "carpet": [
           {
            "aaxis": {
             "endlinecolor": "#2a3f5f",
             "gridcolor": "white",
             "linecolor": "white",
             "minorgridcolor": "white",
             "startlinecolor": "#2a3f5f"
            },
            "baxis": {
             "endlinecolor": "#2a3f5f",
             "gridcolor": "white",
             "linecolor": "white",
             "minorgridcolor": "white",
             "startlinecolor": "#2a3f5f"
            },
            "type": "carpet"
           }
          ],
          "choropleth": [
           {
            "colorbar": {
             "outlinewidth": 0,
             "ticks": ""
            },
            "type": "choropleth"
           }
          ],
          "contour": [
           {
            "colorbar": {
             "outlinewidth": 0,
             "ticks": ""
            },
            "colorscale": [
             [
              0,
              "#0d0887"
             ],
             [
              0.1111111111111111,
              "#46039f"
             ],
             [
              0.2222222222222222,
              "#7201a8"
             ],
             [
              0.3333333333333333,
              "#9c179e"
             ],
             [
              0.4444444444444444,
              "#bd3786"
             ],
             [
              0.5555555555555556,
              "#d8576b"
             ],
             [
              0.6666666666666666,
              "#ed7953"
             ],
             [
              0.7777777777777778,
              "#fb9f3a"
             ],
             [
              0.8888888888888888,
              "#fdca26"
             ],
             [
              1,
              "#f0f921"
             ]
            ],
            "type": "contour"
           }
          ],
          "contourcarpet": [
           {
            "colorbar": {
             "outlinewidth": 0,
             "ticks": ""
            },
            "type": "contourcarpet"
           }
          ],
          "heatmap": [
           {
            "colorbar": {
             "outlinewidth": 0,
             "ticks": ""
            },
            "colorscale": [
             [
              0,
              "#0d0887"
             ],
             [
              0.1111111111111111,
              "#46039f"
             ],
             [
              0.2222222222222222,
              "#7201a8"
             ],
             [
              0.3333333333333333,
              "#9c179e"
             ],
             [
              0.4444444444444444,
              "#bd3786"
             ],
             [
              0.5555555555555556,
              "#d8576b"
             ],
             [
              0.6666666666666666,
              "#ed7953"
             ],
             [
              0.7777777777777778,
              "#fb9f3a"
             ],
             [
              0.8888888888888888,
              "#fdca26"
             ],
             [
              1,
              "#f0f921"
             ]
            ],
            "type": "heatmap"
           }
          ],
          "heatmapgl": [
           {
            "colorbar": {
             "outlinewidth": 0,
             "ticks": ""
            },
            "colorscale": [
             [
              0,
              "#0d0887"
             ],
             [
              0.1111111111111111,
              "#46039f"
             ],
             [
              0.2222222222222222,
              "#7201a8"
             ],
             [
              0.3333333333333333,
              "#9c179e"
             ],
             [
              0.4444444444444444,
              "#bd3786"
             ],
             [
              0.5555555555555556,
              "#d8576b"
             ],
             [
              0.6666666666666666,
              "#ed7953"
             ],
             [
              0.7777777777777778,
              "#fb9f3a"
             ],
             [
              0.8888888888888888,
              "#fdca26"
             ],
             [
              1,
              "#f0f921"
             ]
            ],
            "type": "heatmapgl"
           }
          ],
          "histogram": [
           {
            "marker": {
             "colorbar": {
              "outlinewidth": 0,
              "ticks": ""
             }
            },
            "type": "histogram"
           }
          ],
          "histogram2d": [
           {
            "colorbar": {
             "outlinewidth": 0,
             "ticks": ""
            },
            "colorscale": [
             [
              0,
              "#0d0887"
             ],
             [
              0.1111111111111111,
              "#46039f"
             ],
             [
              0.2222222222222222,
              "#7201a8"
             ],
             [
              0.3333333333333333,
              "#9c179e"
             ],
             [
              0.4444444444444444,
              "#bd3786"
             ],
             [
              0.5555555555555556,
              "#d8576b"
             ],
             [
              0.6666666666666666,
              "#ed7953"
             ],
             [
              0.7777777777777778,
              "#fb9f3a"
             ],
             [
              0.8888888888888888,
              "#fdca26"
             ],
             [
              1,
              "#f0f921"
             ]
            ],
            "type": "histogram2d"
           }
          ],
          "histogram2dcontour": [
           {
            "colorbar": {
             "outlinewidth": 0,
             "ticks": ""
            },
            "colorscale": [
             [
              0,
              "#0d0887"
             ],
             [
              0.1111111111111111,
              "#46039f"
             ],
             [
              0.2222222222222222,
              "#7201a8"
             ],
             [
              0.3333333333333333,
              "#9c179e"
             ],
             [
              0.4444444444444444,
              "#bd3786"
             ],
             [
              0.5555555555555556,
              "#d8576b"
             ],
             [
              0.6666666666666666,
              "#ed7953"
             ],
             [
              0.7777777777777778,
              "#fb9f3a"
             ],
             [
              0.8888888888888888,
              "#fdca26"
             ],
             [
              1,
              "#f0f921"
             ]
            ],
            "type": "histogram2dcontour"
           }
          ],
          "mesh3d": [
           {
            "colorbar": {
             "outlinewidth": 0,
             "ticks": ""
            },
            "type": "mesh3d"
           }
          ],
          "parcoords": [
           {
            "line": {
             "colorbar": {
              "outlinewidth": 0,
              "ticks": ""
             }
            },
            "type": "parcoords"
           }
          ],
          "pie": [
           {
            "automargin": true,
            "type": "pie"
           }
          ],
          "scatter": [
           {
            "marker": {
             "colorbar": {
              "outlinewidth": 0,
              "ticks": ""
             }
            },
            "type": "scatter"
           }
          ],
          "scatter3d": [
           {
            "line": {
             "colorbar": {
              "outlinewidth": 0,
              "ticks": ""
             }
            },
            "marker": {
             "colorbar": {
              "outlinewidth": 0,
              "ticks": ""
             }
            },
            "type": "scatter3d"
           }
          ],
          "scattercarpet": [
           {
            "marker": {
             "colorbar": {
              "outlinewidth": 0,
              "ticks": ""
             }
            },
            "type": "scattercarpet"
           }
          ],
          "scattergeo": [
           {
            "marker": {
             "colorbar": {
              "outlinewidth": 0,
              "ticks": ""
             }
            },
            "type": "scattergeo"
           }
          ],
          "scattergl": [
           {
            "marker": {
             "colorbar": {
              "outlinewidth": 0,
              "ticks": ""
             }
            },
            "type": "scattergl"
           }
          ],
          "scattermapbox": [
           {
            "marker": {
             "colorbar": {
              "outlinewidth": 0,
              "ticks": ""
             }
            },
            "type": "scattermapbox"
           }
          ],
          "scatterpolar": [
           {
            "marker": {
             "colorbar": {
              "outlinewidth": 0,
              "ticks": ""
             }
            },
            "type": "scatterpolar"
           }
          ],
          "scatterpolargl": [
           {
            "marker": {
             "colorbar": {
              "outlinewidth": 0,
              "ticks": ""
             }
            },
            "type": "scatterpolargl"
           }
          ],
          "scatterternary": [
           {
            "marker": {
             "colorbar": {
              "outlinewidth": 0,
              "ticks": ""
             }
            },
            "type": "scatterternary"
           }
          ],
          "surface": [
           {
            "colorbar": {
             "outlinewidth": 0,
             "ticks": ""
            },
            "colorscale": [
             [
              0,
              "#0d0887"
             ],
             [
              0.1111111111111111,
              "#46039f"
             ],
             [
              0.2222222222222222,
              "#7201a8"
             ],
             [
              0.3333333333333333,
              "#9c179e"
             ],
             [
              0.4444444444444444,
              "#bd3786"
             ],
             [
              0.5555555555555556,
              "#d8576b"
             ],
             [
              0.6666666666666666,
              "#ed7953"
             ],
             [
              0.7777777777777778,
              "#fb9f3a"
             ],
             [
              0.8888888888888888,
              "#fdca26"
             ],
             [
              1,
              "#f0f921"
             ]
            ],
            "type": "surface"
           }
          ],
          "table": [
           {
            "cells": {
             "fill": {
              "color": "#EBF0F8"
             },
             "line": {
              "color": "white"
             }
            },
            "header": {
             "fill": {
              "color": "#C8D4E3"
             },
             "line": {
              "color": "white"
             }
            },
            "type": "table"
           }
          ]
         },
         "layout": {
          "annotationdefaults": {
           "arrowcolor": "#2a3f5f",
           "arrowhead": 0,
           "arrowwidth": 1
          },
          "coloraxis": {
           "colorbar": {
            "outlinewidth": 0,
            "ticks": ""
           }
          },
          "colorscale": {
           "diverging": [
            [
             0,
             "#8e0152"
            ],
            [
             0.1,
             "#c51b7d"
            ],
            [
             0.2,
             "#de77ae"
            ],
            [
             0.3,
             "#f1b6da"
            ],
            [
             0.4,
             "#fde0ef"
            ],
            [
             0.5,
             "#f7f7f7"
            ],
            [
             0.6,
             "#e6f5d0"
            ],
            [
             0.7,
             "#b8e186"
            ],
            [
             0.8,
             "#7fbc41"
            ],
            [
             0.9,
             "#4d9221"
            ],
            [
             1,
             "#276419"
            ]
           ],
           "sequential": [
            [
             0,
             "#0d0887"
            ],
            [
             0.1111111111111111,
             "#46039f"
            ],
            [
             0.2222222222222222,
             "#7201a8"
            ],
            [
             0.3333333333333333,
             "#9c179e"
            ],
            [
             0.4444444444444444,
             "#bd3786"
            ],
            [
             0.5555555555555556,
             "#d8576b"
            ],
            [
             0.6666666666666666,
             "#ed7953"
            ],
            [
             0.7777777777777778,
             "#fb9f3a"
            ],
            [
             0.8888888888888888,
             "#fdca26"
            ],
            [
             1,
             "#f0f921"
            ]
           ],
           "sequentialminus": [
            [
             0,
             "#0d0887"
            ],
            [
             0.1111111111111111,
             "#46039f"
            ],
            [
             0.2222222222222222,
             "#7201a8"
            ],
            [
             0.3333333333333333,
             "#9c179e"
            ],
            [
             0.4444444444444444,
             "#bd3786"
            ],
            [
             0.5555555555555556,
             "#d8576b"
            ],
            [
             0.6666666666666666,
             "#ed7953"
            ],
            [
             0.7777777777777778,
             "#fb9f3a"
            ],
            [
             0.8888888888888888,
             "#fdca26"
            ],
            [
             1,
             "#f0f921"
            ]
           ]
          },
          "colorway": [
           "#636efa",
           "#EF553B",
           "#00cc96",
           "#ab63fa",
           "#FFA15A",
           "#19d3f3",
           "#FF6692",
           "#B6E880",
           "#FF97FF",
           "#FECB52"
          ],
          "font": {
           "color": "#2a3f5f"
          },
          "geo": {
           "bgcolor": "white",
           "lakecolor": "white",
           "landcolor": "#E5ECF6",
           "showlakes": true,
           "showland": true,
           "subunitcolor": "white"
          },
          "hoverlabel": {
           "align": "left"
          },
          "hovermode": "closest",
          "mapbox": {
           "style": "light"
          },
          "paper_bgcolor": "white",
          "plot_bgcolor": "#E5ECF6",
          "polar": {
           "angularaxis": {
            "gridcolor": "white",
            "linecolor": "white",
            "ticks": ""
           },
           "bgcolor": "#E5ECF6",
           "radialaxis": {
            "gridcolor": "white",
            "linecolor": "white",
            "ticks": ""
           }
          },
          "scene": {
           "xaxis": {
            "backgroundcolor": "#E5ECF6",
            "gridcolor": "white",
            "gridwidth": 2,
            "linecolor": "white",
            "showbackground": true,
            "ticks": "",
            "zerolinecolor": "white"
           },
           "yaxis": {
            "backgroundcolor": "#E5ECF6",
            "gridcolor": "white",
            "gridwidth": 2,
            "linecolor": "white",
            "showbackground": true,
            "ticks": "",
            "zerolinecolor": "white"
           },
           "zaxis": {
            "backgroundcolor": "#E5ECF6",
            "gridcolor": "white",
            "gridwidth": 2,
            "linecolor": "white",
            "showbackground": true,
            "ticks": "",
            "zerolinecolor": "white"
           }
          },
          "shapedefaults": {
           "line": {
            "color": "#2a3f5f"
           }
          },
          "ternary": {
           "aaxis": {
            "gridcolor": "white",
            "linecolor": "white",
            "ticks": ""
           },
           "baxis": {
            "gridcolor": "white",
            "linecolor": "white",
            "ticks": ""
           },
           "bgcolor": "#E5ECF6",
           "caxis": {
            "gridcolor": "white",
            "linecolor": "white",
            "ticks": ""
           }
          },
          "title": {
           "x": 0.05
          },
          "xaxis": {
           "automargin": true,
           "gridcolor": "white",
           "linecolor": "white",
           "ticks": "",
           "title": {
            "standoff": 15
           },
           "zerolinecolor": "white",
           "zerolinewidth": 2
          },
          "yaxis": {
           "automargin": true,
           "gridcolor": "white",
           "linecolor": "white",
           "ticks": "",
           "title": {
            "standoff": 15
           },
           "zerolinecolor": "white",
           "zerolinewidth": 2
          }
         }
        },
        "title": {
         "text": "uti-rate of elevators"
        },
        "xaxis": {
         "title": {
          "text": "K-th simulation"
         }
        },
        "yaxis": {
         "title": {
          "text": "uti-rate"
         }
        }
       }
      },
      "text/html": [
       "<div>\n",
       "        \n",
       "        \n",
       "            <div id=\"a2b2cce2-138f-4e38-87a8-7bbe6e8cde78\" class=\"plotly-graph-div\" style=\"height:525px; width:100%;\"></div>\n",
       "            <script type=\"text/javascript\">\n",
       "                require([\"plotly\"], function(Plotly) {\n",
       "                    window.PLOTLYENV=window.PLOTLYENV || {};\n",
       "                    \n",
       "                if (document.getElementById(\"a2b2cce2-138f-4e38-87a8-7bbe6e8cde78\")) {\n",
       "                    Plotly.newPlot(\n",
       "                        'a2b2cce2-138f-4e38-87a8-7bbe6e8cde78',\n",
       "                        [{\"name\": \"elevator_0's uti-rate\", \"type\": \"scatter\", \"x\": [1, 2, 3, 4, 5, 6, 7, 8, 9, 10, 11, 12, 13, 14, 15, 16, 17, 18, 19, 20, 21, 22, 23, 24, 25, 26, 27, 28, 29, 30, 31, 32, 33, 34, 35, 36, 37, 38, 39, 40, 41, 42, 43, 44, 45, 46, 47, 48, 49, 50, 51, 52, 53, 54, 55, 56, 57, 58, 59, 60, 61, 62, 63, 64, 65, 66, 67, 68, 69, 70, 71, 72, 73, 74, 75, 76, 77, 78, 79, 80, 81, 82, 83, 84, 85, 86, 87, 88, 89, 90, 91, 92, 93, 94, 95, 96, 97, 98, 99, 100], \"y\": [0.9972826086956522, 0.963276836158192, 0.8621553884711779, 0.970873786407767, 0.9444444444444444, 0.9368131868131868, 0.9090909090909091, 0.9216216216216216, 0.9476309226932669, 0.9269662921348315, 0.8716417910447761, 0.8770053475935828, 0.9587912087912088, 0.9415041782729805, 0.9739130434782609, 0.967391304347826, 0.9651474530831099, 0.9946524064171123, 0.9380053908355795, 0.8564231738035264, 0.8786407766990292, 0.8132387706855791, 0.997134670487106, 0.8974358974358975, 0.9220183486238532, 0.9923469387755102, 0.963276836158192, 0.997229916897507, 0.8436657681940701, 0.994269340974212, 0.9728395061728395, 0.9712793733681462, 0.9970501474926253, 0.8533333333333334, 0.8882521489971347, 0.9972826086956522, 0.9411764705882353, 0.8635097493036211, 0.8879781420765027, 0.8123324396782842, 0.8590078328981723, 0.8010204081632653, 0.9972677595628415, 0.9007444168734491, 0.7952380952380952, 0.9481481481481482, 0.9697802197802198, 0.9539295392953929, 0.8980716253443526, 0.6768447837150128, 0.8413978494623656, 0.9654178674351584, 0.9860724233983287, 0.9803921568627451, 0.956989247311828, 0.8844086021505376, 0.931758530183727, 0.8781869688385269, 0.9427792915531336, 0.9388888888888889, 0.8090185676392573, 0.975609756097561, 0.8526912181303116, 0.8362282878411911, 0.9784366576819407, 0.8850574712643678, 0.8056265984654731, 0.9714285714285714, 0.8743718592964824, 0.9708994708994709, 0.8827930174563591, 0.8632707774798928, 0.9647058823529412, 0.9689265536723164, 0.9124668435013262, 0.8877805486284289, 0.8735955056179775, 0.9920424403183024, 0.9973262032085561, 0.8489010989010989, 0.9976744186046511, 0.9917808219178083, 0.9680232558139535, 0.9915966386554622, 0.9093484419263456, 0.9725, 0.9410112359550562, 0.9971590909090909, 0.9339080459770115, 0.9054054054054054, 0.9974489795918368, 0.9493333333333334, 0.9490084985835694, 0.9260273972602739, 0.9226666666666666, 0.9533678756476683, 0.859375, 0.963276836158192, 0.7983193277310925, 0.9351032448377581]}, {\"name\": \"elevator_1's uti-rate\", \"type\": \"scatter\", \"x\": [1, 2, 3, 4, 5, 6, 7, 8, 9, 10, 11, 12, 13, 14, 15, 16, 17, 18, 19, 20, 21, 22, 23, 24, 25, 26, 27, 28, 29, 30, 31, 32, 33, 34, 35, 36, 37, 38, 39, 40, 41, 42, 43, 44, 45, 46, 47, 48, 49, 50, 51, 52, 53, 54, 55, 56, 57, 58, 59, 60, 61, 62, 63, 64, 65, 66, 67, 68, 69, 70, 71, 72, 73, 74, 75, 76, 77, 78, 79, 80, 81, 82, 83, 84, 85, 86, 87, 88, 89, 90, 91, 92, 93, 94, 95, 96, 97, 98, 99, 100], \"y\": [0.8668478260869565, 0.9548022598870056, 0.9699248120300752, 0.8058252427184466, 0.9678362573099415, 0.7692307692307693, 0.9834710743801653, 0.9648648648648649, 0.7381546134663342, 0.9971910112359551, 0.9761194029850746, 0.9705882352941176, 0.9313186813186813, 0.935933147632312, 0.9623188405797102, 0.7847826086956522, 0.8981233243967829, 0.9251336898395722, 0.9137466307277629, 0.9722921914357683, 0.9733009708737864, 0.9976359338061466, 0.8911174785100286, 0.9658119658119658, 0.676605504587156, 0.8826530612244898, 0.9689265536723164, 0.8808864265927978, 0.9703504043126685, 0.9684813753581661, 0.8320987654320988, 0.8198433420365535, 0.9528023598820059, 0.888, 0.997134670487106, 0.8913043478260869, 0.9439775910364145, 0.9693593314763231, 0.9918032786885246, 0.9705093833780161, 0.95822454308094, 0.9566326530612245, 0.7486338797814208, 0.9975186104218362, 0.9976190476190476, 0.9209876543209876, 0.9725274725274725, 0.8672086720867209, 0.9586776859504132, 0.9923664122137404, 0.978494623655914, 0.9250720461095101, 0.9164345403899722, 0.9439775910364145, 0.9435483870967742, 0.8870967741935484, 0.9422572178477691, 0.9971671388101983, 0.888283378746594, 0.9777777777777777, 0.8647214854111406, 0.8617886178861789, 0.9405099150141643, 0.9478908188585607, 0.876010781671159, 0.9741379310344828, 0.9667519181585678, 0.8805194805194805, 0.9723618090452262, 0.8333333333333334, 0.9825436408977556, 0.9249329758713136, 0.861764705882353, 0.9519774011299436, 0.8275862068965517, 0.9625935162094763, 0.9466292134831461, 0.8938992042440318, 0.8716577540106952, 0.9972527472527473, 0.7302325581395349, 0.9424657534246575, 0.9593023255813954, 0.9439775910364145, 0.9235127478753541, 0.81, 0.9410112359550562, 0.8125, 0.9683908045977011, 0.9972972972972973, 0.826530612244898, 0.9493333333333334, 0.9688385269121813, 0.852054794520548, 0.8986666666666666, 0.7409326424870466, 0.9973958333333334, 0.9689265536723164, 0.969187675070028, 0.9203539823008849]}],\n",
       "                        {\"template\": {\"data\": {\"bar\": [{\"error_x\": {\"color\": \"#2a3f5f\"}, \"error_y\": {\"color\": \"#2a3f5f\"}, \"marker\": {\"line\": {\"color\": \"#E5ECF6\", \"width\": 0.5}}, \"type\": \"bar\"}], \"barpolar\": [{\"marker\": {\"line\": {\"color\": \"#E5ECF6\", \"width\": 0.5}}, \"type\": \"barpolar\"}], \"carpet\": [{\"aaxis\": {\"endlinecolor\": \"#2a3f5f\", \"gridcolor\": \"white\", \"linecolor\": \"white\", \"minorgridcolor\": \"white\", \"startlinecolor\": \"#2a3f5f\"}, \"baxis\": {\"endlinecolor\": \"#2a3f5f\", \"gridcolor\": \"white\", \"linecolor\": \"white\", \"minorgridcolor\": \"white\", \"startlinecolor\": \"#2a3f5f\"}, \"type\": \"carpet\"}], \"choropleth\": [{\"colorbar\": {\"outlinewidth\": 0, \"ticks\": \"\"}, \"type\": \"choropleth\"}], \"contour\": [{\"colorbar\": {\"outlinewidth\": 0, \"ticks\": \"\"}, \"colorscale\": [[0.0, \"#0d0887\"], [0.1111111111111111, \"#46039f\"], [0.2222222222222222, \"#7201a8\"], [0.3333333333333333, \"#9c179e\"], [0.4444444444444444, \"#bd3786\"], [0.5555555555555556, \"#d8576b\"], [0.6666666666666666, \"#ed7953\"], [0.7777777777777778, \"#fb9f3a\"], [0.8888888888888888, \"#fdca26\"], [1.0, \"#f0f921\"]], \"type\": \"contour\"}], \"contourcarpet\": [{\"colorbar\": {\"outlinewidth\": 0, \"ticks\": \"\"}, \"type\": \"contourcarpet\"}], \"heatmap\": [{\"colorbar\": {\"outlinewidth\": 0, \"ticks\": \"\"}, \"colorscale\": [[0.0, \"#0d0887\"], [0.1111111111111111, \"#46039f\"], [0.2222222222222222, \"#7201a8\"], [0.3333333333333333, \"#9c179e\"], [0.4444444444444444, \"#bd3786\"], [0.5555555555555556, \"#d8576b\"], [0.6666666666666666, \"#ed7953\"], [0.7777777777777778, \"#fb9f3a\"], [0.8888888888888888, \"#fdca26\"], [1.0, \"#f0f921\"]], \"type\": \"heatmap\"}], \"heatmapgl\": [{\"colorbar\": {\"outlinewidth\": 0, \"ticks\": \"\"}, \"colorscale\": [[0.0, \"#0d0887\"], [0.1111111111111111, \"#46039f\"], [0.2222222222222222, \"#7201a8\"], [0.3333333333333333, \"#9c179e\"], [0.4444444444444444, \"#bd3786\"], [0.5555555555555556, \"#d8576b\"], [0.6666666666666666, \"#ed7953\"], [0.7777777777777778, \"#fb9f3a\"], [0.8888888888888888, \"#fdca26\"], [1.0, \"#f0f921\"]], \"type\": \"heatmapgl\"}], \"histogram\": [{\"marker\": {\"colorbar\": {\"outlinewidth\": 0, \"ticks\": \"\"}}, \"type\": \"histogram\"}], \"histogram2d\": [{\"colorbar\": {\"outlinewidth\": 0, \"ticks\": \"\"}, \"colorscale\": [[0.0, \"#0d0887\"], [0.1111111111111111, \"#46039f\"], [0.2222222222222222, \"#7201a8\"], [0.3333333333333333, \"#9c179e\"], [0.4444444444444444, \"#bd3786\"], [0.5555555555555556, \"#d8576b\"], [0.6666666666666666, \"#ed7953\"], [0.7777777777777778, \"#fb9f3a\"], [0.8888888888888888, \"#fdca26\"], [1.0, \"#f0f921\"]], \"type\": \"histogram2d\"}], \"histogram2dcontour\": [{\"colorbar\": {\"outlinewidth\": 0, \"ticks\": \"\"}, \"colorscale\": [[0.0, \"#0d0887\"], [0.1111111111111111, \"#46039f\"], [0.2222222222222222, \"#7201a8\"], [0.3333333333333333, \"#9c179e\"], [0.4444444444444444, \"#bd3786\"], [0.5555555555555556, \"#d8576b\"], [0.6666666666666666, \"#ed7953\"], [0.7777777777777778, \"#fb9f3a\"], [0.8888888888888888, \"#fdca26\"], [1.0, \"#f0f921\"]], \"type\": \"histogram2dcontour\"}], \"mesh3d\": [{\"colorbar\": {\"outlinewidth\": 0, \"ticks\": \"\"}, \"type\": \"mesh3d\"}], \"parcoords\": [{\"line\": {\"colorbar\": {\"outlinewidth\": 0, \"ticks\": \"\"}}, \"type\": \"parcoords\"}], \"pie\": [{\"automargin\": true, \"type\": \"pie\"}], \"scatter\": [{\"marker\": {\"colorbar\": {\"outlinewidth\": 0, \"ticks\": \"\"}}, \"type\": \"scatter\"}], \"scatter3d\": [{\"line\": {\"colorbar\": {\"outlinewidth\": 0, \"ticks\": \"\"}}, \"marker\": {\"colorbar\": {\"outlinewidth\": 0, \"ticks\": \"\"}}, \"type\": \"scatter3d\"}], \"scattercarpet\": [{\"marker\": {\"colorbar\": {\"outlinewidth\": 0, \"ticks\": \"\"}}, \"type\": \"scattercarpet\"}], \"scattergeo\": [{\"marker\": {\"colorbar\": {\"outlinewidth\": 0, \"ticks\": \"\"}}, \"type\": \"scattergeo\"}], \"scattergl\": [{\"marker\": {\"colorbar\": {\"outlinewidth\": 0, \"ticks\": \"\"}}, \"type\": \"scattergl\"}], \"scattermapbox\": [{\"marker\": {\"colorbar\": {\"outlinewidth\": 0, \"ticks\": \"\"}}, \"type\": \"scattermapbox\"}], \"scatterpolar\": [{\"marker\": {\"colorbar\": {\"outlinewidth\": 0, \"ticks\": \"\"}}, \"type\": \"scatterpolar\"}], \"scatterpolargl\": [{\"marker\": {\"colorbar\": {\"outlinewidth\": 0, \"ticks\": \"\"}}, \"type\": \"scatterpolargl\"}], \"scatterternary\": [{\"marker\": {\"colorbar\": {\"outlinewidth\": 0, \"ticks\": \"\"}}, \"type\": \"scatterternary\"}], \"surface\": [{\"colorbar\": {\"outlinewidth\": 0, \"ticks\": \"\"}, \"colorscale\": [[0.0, \"#0d0887\"], [0.1111111111111111, \"#46039f\"], [0.2222222222222222, \"#7201a8\"], [0.3333333333333333, \"#9c179e\"], [0.4444444444444444, \"#bd3786\"], [0.5555555555555556, \"#d8576b\"], [0.6666666666666666, \"#ed7953\"], [0.7777777777777778, \"#fb9f3a\"], [0.8888888888888888, \"#fdca26\"], [1.0, \"#f0f921\"]], \"type\": \"surface\"}], \"table\": [{\"cells\": {\"fill\": {\"color\": \"#EBF0F8\"}, \"line\": {\"color\": \"white\"}}, \"header\": {\"fill\": {\"color\": \"#C8D4E3\"}, \"line\": {\"color\": \"white\"}}, \"type\": \"table\"}]}, \"layout\": {\"annotationdefaults\": {\"arrowcolor\": \"#2a3f5f\", \"arrowhead\": 0, \"arrowwidth\": 1}, \"coloraxis\": {\"colorbar\": {\"outlinewidth\": 0, \"ticks\": \"\"}}, \"colorscale\": {\"diverging\": [[0, \"#8e0152\"], [0.1, \"#c51b7d\"], [0.2, \"#de77ae\"], [0.3, \"#f1b6da\"], [0.4, \"#fde0ef\"], [0.5, \"#f7f7f7\"], [0.6, \"#e6f5d0\"], [0.7, \"#b8e186\"], [0.8, \"#7fbc41\"], [0.9, \"#4d9221\"], [1, \"#276419\"]], \"sequential\": [[0.0, \"#0d0887\"], [0.1111111111111111, \"#46039f\"], [0.2222222222222222, \"#7201a8\"], [0.3333333333333333, \"#9c179e\"], [0.4444444444444444, \"#bd3786\"], [0.5555555555555556, \"#d8576b\"], [0.6666666666666666, \"#ed7953\"], [0.7777777777777778, \"#fb9f3a\"], [0.8888888888888888, \"#fdca26\"], [1.0, \"#f0f921\"]], \"sequentialminus\": [[0.0, \"#0d0887\"], [0.1111111111111111, \"#46039f\"], [0.2222222222222222, \"#7201a8\"], [0.3333333333333333, \"#9c179e\"], [0.4444444444444444, \"#bd3786\"], [0.5555555555555556, \"#d8576b\"], [0.6666666666666666, \"#ed7953\"], [0.7777777777777778, \"#fb9f3a\"], [0.8888888888888888, \"#fdca26\"], [1.0, \"#f0f921\"]]}, \"colorway\": [\"#636efa\", \"#EF553B\", \"#00cc96\", \"#ab63fa\", \"#FFA15A\", \"#19d3f3\", \"#FF6692\", \"#B6E880\", \"#FF97FF\", \"#FECB52\"], \"font\": {\"color\": \"#2a3f5f\"}, \"geo\": {\"bgcolor\": \"white\", \"lakecolor\": \"white\", \"landcolor\": \"#E5ECF6\", \"showlakes\": true, \"showland\": true, \"subunitcolor\": \"white\"}, \"hoverlabel\": {\"align\": \"left\"}, \"hovermode\": \"closest\", \"mapbox\": {\"style\": \"light\"}, \"paper_bgcolor\": \"white\", \"plot_bgcolor\": \"#E5ECF6\", \"polar\": {\"angularaxis\": {\"gridcolor\": \"white\", \"linecolor\": \"white\", \"ticks\": \"\"}, \"bgcolor\": \"#E5ECF6\", \"radialaxis\": {\"gridcolor\": \"white\", \"linecolor\": \"white\", \"ticks\": \"\"}}, \"scene\": {\"xaxis\": {\"backgroundcolor\": \"#E5ECF6\", \"gridcolor\": \"white\", \"gridwidth\": 2, \"linecolor\": \"white\", \"showbackground\": true, \"ticks\": \"\", \"zerolinecolor\": \"white\"}, \"yaxis\": {\"backgroundcolor\": \"#E5ECF6\", \"gridcolor\": \"white\", \"gridwidth\": 2, \"linecolor\": \"white\", \"showbackground\": true, \"ticks\": \"\", \"zerolinecolor\": \"white\"}, \"zaxis\": {\"backgroundcolor\": \"#E5ECF6\", \"gridcolor\": \"white\", \"gridwidth\": 2, \"linecolor\": \"white\", \"showbackground\": true, \"ticks\": \"\", \"zerolinecolor\": \"white\"}}, \"shapedefaults\": {\"line\": {\"color\": \"#2a3f5f\"}}, \"ternary\": {\"aaxis\": {\"gridcolor\": \"white\", \"linecolor\": \"white\", \"ticks\": \"\"}, \"baxis\": {\"gridcolor\": \"white\", \"linecolor\": \"white\", \"ticks\": \"\"}, \"bgcolor\": \"#E5ECF6\", \"caxis\": {\"gridcolor\": \"white\", \"linecolor\": \"white\", \"ticks\": \"\"}}, \"title\": {\"x\": 0.05}, \"xaxis\": {\"automargin\": true, \"gridcolor\": \"white\", \"linecolor\": \"white\", \"ticks\": \"\", \"title\": {\"standoff\": 15}, \"zerolinecolor\": \"white\", \"zerolinewidth\": 2}, \"yaxis\": {\"automargin\": true, \"gridcolor\": \"white\", \"linecolor\": \"white\", \"ticks\": \"\", \"title\": {\"standoff\": 15}, \"zerolinecolor\": \"white\", \"zerolinewidth\": 2}}}, \"title\": {\"text\": \"uti-rate of elevators\"}, \"xaxis\": {\"title\": {\"text\": \"K-th simulation\"}}, \"yaxis\": {\"title\": {\"text\": \"uti-rate\"}}},\n",
       "                        {\"responsive\": true}\n",
       "                    ).then(function(){\n",
       "                            \n",
       "var gd = document.getElementById('a2b2cce2-138f-4e38-87a8-7bbe6e8cde78');\n",
       "var x = new MutationObserver(function (mutations, observer) {{\n",
       "        var display = window.getComputedStyle(gd).display;\n",
       "        if (!display || display === 'none') {{\n",
       "            console.log([gd, 'removed!']);\n",
       "            Plotly.purge(gd);\n",
       "            observer.disconnect();\n",
       "        }}\n",
       "}});\n",
       "\n",
       "// Listen for the removal of the full notebook cells\n",
       "var notebookContainer = gd.closest('#notebook-container');\n",
       "if (notebookContainer) {{\n",
       "    x.observe(notebookContainer, {childList: true});\n",
       "}}\n",
       "\n",
       "// Listen for the clearing of the current output cell\n",
       "var outputEl = gd.closest('.output');\n",
       "if (outputEl) {{\n",
       "    x.observe(outputEl, {childList: true});\n",
       "}}\n",
       "\n",
       "                        })\n",
       "                };\n",
       "                });\n",
       "            </script>\n",
       "        </div>"
      ]
     },
     "metadata": {},
     "output_type": "display_data"
    },
    {
     "data": {
      "application/vnd.plotly.v1+json": {
       "config": {
        "plotlyServerURL": "https://plot.ly"
       },
       "data": [
        {
         "name": "elevator_0's uti-rate",
         "type": "box",
         "y": [
          0.9972826086956522,
          0.963276836158192,
          0.8621553884711779,
          0.970873786407767,
          0.9444444444444444,
          0.9368131868131868,
          0.9090909090909091,
          0.9216216216216216,
          0.9476309226932669,
          0.9269662921348315,
          0.8716417910447761,
          0.8770053475935828,
          0.9587912087912088,
          0.9415041782729805,
          0.9739130434782609,
          0.967391304347826,
          0.9651474530831099,
          0.9946524064171123,
          0.9380053908355795,
          0.8564231738035264,
          0.8786407766990292,
          0.8132387706855791,
          0.997134670487106,
          0.8974358974358975,
          0.9220183486238532,
          0.9923469387755102,
          0.963276836158192,
          0.997229916897507,
          0.8436657681940701,
          0.994269340974212,
          0.9728395061728395,
          0.9712793733681462,
          0.9970501474926253,
          0.8533333333333334,
          0.8882521489971347,
          0.9972826086956522,
          0.9411764705882353,
          0.8635097493036211,
          0.8879781420765027,
          0.8123324396782842,
          0.8590078328981723,
          0.8010204081632653,
          0.9972677595628415,
          0.9007444168734491,
          0.7952380952380952,
          0.9481481481481482,
          0.9697802197802198,
          0.9539295392953929,
          0.8980716253443526,
          0.6768447837150128,
          0.8413978494623656,
          0.9654178674351584,
          0.9860724233983287,
          0.9803921568627451,
          0.956989247311828,
          0.8844086021505376,
          0.931758530183727,
          0.8781869688385269,
          0.9427792915531336,
          0.9388888888888889,
          0.8090185676392573,
          0.975609756097561,
          0.8526912181303116,
          0.8362282878411911,
          0.9784366576819407,
          0.8850574712643678,
          0.8056265984654731,
          0.9714285714285714,
          0.8743718592964824,
          0.9708994708994709,
          0.8827930174563591,
          0.8632707774798928,
          0.9647058823529412,
          0.9689265536723164,
          0.9124668435013262,
          0.8877805486284289,
          0.8735955056179775,
          0.9920424403183024,
          0.9973262032085561,
          0.8489010989010989,
          0.9976744186046511,
          0.9917808219178083,
          0.9680232558139535,
          0.9915966386554622,
          0.9093484419263456,
          0.9725,
          0.9410112359550562,
          0.9971590909090909,
          0.9339080459770115,
          0.9054054054054054,
          0.9974489795918368,
          0.9493333333333334,
          0.9490084985835694,
          0.9260273972602739,
          0.9226666666666666,
          0.9533678756476683,
          0.859375,
          0.963276836158192,
          0.7983193277310925,
          0.9351032448377581
         ]
        },
        {
         "name": "elevator_1's uti-rate",
         "type": "box",
         "y": [
          0.8668478260869565,
          0.9548022598870056,
          0.9699248120300752,
          0.8058252427184466,
          0.9678362573099415,
          0.7692307692307693,
          0.9834710743801653,
          0.9648648648648649,
          0.7381546134663342,
          0.9971910112359551,
          0.9761194029850746,
          0.9705882352941176,
          0.9313186813186813,
          0.935933147632312,
          0.9623188405797102,
          0.7847826086956522,
          0.8981233243967829,
          0.9251336898395722,
          0.9137466307277629,
          0.9722921914357683,
          0.9733009708737864,
          0.9976359338061466,
          0.8911174785100286,
          0.9658119658119658,
          0.676605504587156,
          0.8826530612244898,
          0.9689265536723164,
          0.8808864265927978,
          0.9703504043126685,
          0.9684813753581661,
          0.8320987654320988,
          0.8198433420365535,
          0.9528023598820059,
          0.888,
          0.997134670487106,
          0.8913043478260869,
          0.9439775910364145,
          0.9693593314763231,
          0.9918032786885246,
          0.9705093833780161,
          0.95822454308094,
          0.9566326530612245,
          0.7486338797814208,
          0.9975186104218362,
          0.9976190476190476,
          0.9209876543209876,
          0.9725274725274725,
          0.8672086720867209,
          0.9586776859504132,
          0.9923664122137404,
          0.978494623655914,
          0.9250720461095101,
          0.9164345403899722,
          0.9439775910364145,
          0.9435483870967742,
          0.8870967741935484,
          0.9422572178477691,
          0.9971671388101983,
          0.888283378746594,
          0.9777777777777777,
          0.8647214854111406,
          0.8617886178861789,
          0.9405099150141643,
          0.9478908188585607,
          0.876010781671159,
          0.9741379310344828,
          0.9667519181585678,
          0.8805194805194805,
          0.9723618090452262,
          0.8333333333333334,
          0.9825436408977556,
          0.9249329758713136,
          0.861764705882353,
          0.9519774011299436,
          0.8275862068965517,
          0.9625935162094763,
          0.9466292134831461,
          0.8938992042440318,
          0.8716577540106952,
          0.9972527472527473,
          0.7302325581395349,
          0.9424657534246575,
          0.9593023255813954,
          0.9439775910364145,
          0.9235127478753541,
          0.81,
          0.9410112359550562,
          0.8125,
          0.9683908045977011,
          0.9972972972972973,
          0.826530612244898,
          0.9493333333333334,
          0.9688385269121813,
          0.852054794520548,
          0.8986666666666666,
          0.7409326424870466,
          0.9973958333333334,
          0.9689265536723164,
          0.969187675070028,
          0.9203539823008849
         ]
        }
       ],
       "layout": {
        "template": {
         "data": {
          "bar": [
           {
            "error_x": {
             "color": "#2a3f5f"
            },
            "error_y": {
             "color": "#2a3f5f"
            },
            "marker": {
             "line": {
              "color": "#E5ECF6",
              "width": 0.5
             }
            },
            "type": "bar"
           }
          ],
          "barpolar": [
           {
            "marker": {
             "line": {
              "color": "#E5ECF6",
              "width": 0.5
             }
            },
            "type": "barpolar"
           }
          ],
          "carpet": [
           {
            "aaxis": {
             "endlinecolor": "#2a3f5f",
             "gridcolor": "white",
             "linecolor": "white",
             "minorgridcolor": "white",
             "startlinecolor": "#2a3f5f"
            },
            "baxis": {
             "endlinecolor": "#2a3f5f",
             "gridcolor": "white",
             "linecolor": "white",
             "minorgridcolor": "white",
             "startlinecolor": "#2a3f5f"
            },
            "type": "carpet"
           }
          ],
          "choropleth": [
           {
            "colorbar": {
             "outlinewidth": 0,
             "ticks": ""
            },
            "type": "choropleth"
           }
          ],
          "contour": [
           {
            "colorbar": {
             "outlinewidth": 0,
             "ticks": ""
            },
            "colorscale": [
             [
              0,
              "#0d0887"
             ],
             [
              0.1111111111111111,
              "#46039f"
             ],
             [
              0.2222222222222222,
              "#7201a8"
             ],
             [
              0.3333333333333333,
              "#9c179e"
             ],
             [
              0.4444444444444444,
              "#bd3786"
             ],
             [
              0.5555555555555556,
              "#d8576b"
             ],
             [
              0.6666666666666666,
              "#ed7953"
             ],
             [
              0.7777777777777778,
              "#fb9f3a"
             ],
             [
              0.8888888888888888,
              "#fdca26"
             ],
             [
              1,
              "#f0f921"
             ]
            ],
            "type": "contour"
           }
          ],
          "contourcarpet": [
           {
            "colorbar": {
             "outlinewidth": 0,
             "ticks": ""
            },
            "type": "contourcarpet"
           }
          ],
          "heatmap": [
           {
            "colorbar": {
             "outlinewidth": 0,
             "ticks": ""
            },
            "colorscale": [
             [
              0,
              "#0d0887"
             ],
             [
              0.1111111111111111,
              "#46039f"
             ],
             [
              0.2222222222222222,
              "#7201a8"
             ],
             [
              0.3333333333333333,
              "#9c179e"
             ],
             [
              0.4444444444444444,
              "#bd3786"
             ],
             [
              0.5555555555555556,
              "#d8576b"
             ],
             [
              0.6666666666666666,
              "#ed7953"
             ],
             [
              0.7777777777777778,
              "#fb9f3a"
             ],
             [
              0.8888888888888888,
              "#fdca26"
             ],
             [
              1,
              "#f0f921"
             ]
            ],
            "type": "heatmap"
           }
          ],
          "heatmapgl": [
           {
            "colorbar": {
             "outlinewidth": 0,
             "ticks": ""
            },
            "colorscale": [
             [
              0,
              "#0d0887"
             ],
             [
              0.1111111111111111,
              "#46039f"
             ],
             [
              0.2222222222222222,
              "#7201a8"
             ],
             [
              0.3333333333333333,
              "#9c179e"
             ],
             [
              0.4444444444444444,
              "#bd3786"
             ],
             [
              0.5555555555555556,
              "#d8576b"
             ],
             [
              0.6666666666666666,
              "#ed7953"
             ],
             [
              0.7777777777777778,
              "#fb9f3a"
             ],
             [
              0.8888888888888888,
              "#fdca26"
             ],
             [
              1,
              "#f0f921"
             ]
            ],
            "type": "heatmapgl"
           }
          ],
          "histogram": [
           {
            "marker": {
             "colorbar": {
              "outlinewidth": 0,
              "ticks": ""
             }
            },
            "type": "histogram"
           }
          ],
          "histogram2d": [
           {
            "colorbar": {
             "outlinewidth": 0,
             "ticks": ""
            },
            "colorscale": [
             [
              0,
              "#0d0887"
             ],
             [
              0.1111111111111111,
              "#46039f"
             ],
             [
              0.2222222222222222,
              "#7201a8"
             ],
             [
              0.3333333333333333,
              "#9c179e"
             ],
             [
              0.4444444444444444,
              "#bd3786"
             ],
             [
              0.5555555555555556,
              "#d8576b"
             ],
             [
              0.6666666666666666,
              "#ed7953"
             ],
             [
              0.7777777777777778,
              "#fb9f3a"
             ],
             [
              0.8888888888888888,
              "#fdca26"
             ],
             [
              1,
              "#f0f921"
             ]
            ],
            "type": "histogram2d"
           }
          ],
          "histogram2dcontour": [
           {
            "colorbar": {
             "outlinewidth": 0,
             "ticks": ""
            },
            "colorscale": [
             [
              0,
              "#0d0887"
             ],
             [
              0.1111111111111111,
              "#46039f"
             ],
             [
              0.2222222222222222,
              "#7201a8"
             ],
             [
              0.3333333333333333,
              "#9c179e"
             ],
             [
              0.4444444444444444,
              "#bd3786"
             ],
             [
              0.5555555555555556,
              "#d8576b"
             ],
             [
              0.6666666666666666,
              "#ed7953"
             ],
             [
              0.7777777777777778,
              "#fb9f3a"
             ],
             [
              0.8888888888888888,
              "#fdca26"
             ],
             [
              1,
              "#f0f921"
             ]
            ],
            "type": "histogram2dcontour"
           }
          ],
          "mesh3d": [
           {
            "colorbar": {
             "outlinewidth": 0,
             "ticks": ""
            },
            "type": "mesh3d"
           }
          ],
          "parcoords": [
           {
            "line": {
             "colorbar": {
              "outlinewidth": 0,
              "ticks": ""
             }
            },
            "type": "parcoords"
           }
          ],
          "pie": [
           {
            "automargin": true,
            "type": "pie"
           }
          ],
          "scatter": [
           {
            "marker": {
             "colorbar": {
              "outlinewidth": 0,
              "ticks": ""
             }
            },
            "type": "scatter"
           }
          ],
          "scatter3d": [
           {
            "line": {
             "colorbar": {
              "outlinewidth": 0,
              "ticks": ""
             }
            },
            "marker": {
             "colorbar": {
              "outlinewidth": 0,
              "ticks": ""
             }
            },
            "type": "scatter3d"
           }
          ],
          "scattercarpet": [
           {
            "marker": {
             "colorbar": {
              "outlinewidth": 0,
              "ticks": ""
             }
            },
            "type": "scattercarpet"
           }
          ],
          "scattergeo": [
           {
            "marker": {
             "colorbar": {
              "outlinewidth": 0,
              "ticks": ""
             }
            },
            "type": "scattergeo"
           }
          ],
          "scattergl": [
           {
            "marker": {
             "colorbar": {
              "outlinewidth": 0,
              "ticks": ""
             }
            },
            "type": "scattergl"
           }
          ],
          "scattermapbox": [
           {
            "marker": {
             "colorbar": {
              "outlinewidth": 0,
              "ticks": ""
             }
            },
            "type": "scattermapbox"
           }
          ],
          "scatterpolar": [
           {
            "marker": {
             "colorbar": {
              "outlinewidth": 0,
              "ticks": ""
             }
            },
            "type": "scatterpolar"
           }
          ],
          "scatterpolargl": [
           {
            "marker": {
             "colorbar": {
              "outlinewidth": 0,
              "ticks": ""
             }
            },
            "type": "scatterpolargl"
           }
          ],
          "scatterternary": [
           {
            "marker": {
             "colorbar": {
              "outlinewidth": 0,
              "ticks": ""
             }
            },
            "type": "scatterternary"
           }
          ],
          "surface": [
           {
            "colorbar": {
             "outlinewidth": 0,
             "ticks": ""
            },
            "colorscale": [
             [
              0,
              "#0d0887"
             ],
             [
              0.1111111111111111,
              "#46039f"
             ],
             [
              0.2222222222222222,
              "#7201a8"
             ],
             [
              0.3333333333333333,
              "#9c179e"
             ],
             [
              0.4444444444444444,
              "#bd3786"
             ],
             [
              0.5555555555555556,
              "#d8576b"
             ],
             [
              0.6666666666666666,
              "#ed7953"
             ],
             [
              0.7777777777777778,
              "#fb9f3a"
             ],
             [
              0.8888888888888888,
              "#fdca26"
             ],
             [
              1,
              "#f0f921"
             ]
            ],
            "type": "surface"
           }
          ],
          "table": [
           {
            "cells": {
             "fill": {
              "color": "#EBF0F8"
             },
             "line": {
              "color": "white"
             }
            },
            "header": {
             "fill": {
              "color": "#C8D4E3"
             },
             "line": {
              "color": "white"
             }
            },
            "type": "table"
           }
          ]
         },
         "layout": {
          "annotationdefaults": {
           "arrowcolor": "#2a3f5f",
           "arrowhead": 0,
           "arrowwidth": 1
          },
          "coloraxis": {
           "colorbar": {
            "outlinewidth": 0,
            "ticks": ""
           }
          },
          "colorscale": {
           "diverging": [
            [
             0,
             "#8e0152"
            ],
            [
             0.1,
             "#c51b7d"
            ],
            [
             0.2,
             "#de77ae"
            ],
            [
             0.3,
             "#f1b6da"
            ],
            [
             0.4,
             "#fde0ef"
            ],
            [
             0.5,
             "#f7f7f7"
            ],
            [
             0.6,
             "#e6f5d0"
            ],
            [
             0.7,
             "#b8e186"
            ],
            [
             0.8,
             "#7fbc41"
            ],
            [
             0.9,
             "#4d9221"
            ],
            [
             1,
             "#276419"
            ]
           ],
           "sequential": [
            [
             0,
             "#0d0887"
            ],
            [
             0.1111111111111111,
             "#46039f"
            ],
            [
             0.2222222222222222,
             "#7201a8"
            ],
            [
             0.3333333333333333,
             "#9c179e"
            ],
            [
             0.4444444444444444,
             "#bd3786"
            ],
            [
             0.5555555555555556,
             "#d8576b"
            ],
            [
             0.6666666666666666,
             "#ed7953"
            ],
            [
             0.7777777777777778,
             "#fb9f3a"
            ],
            [
             0.8888888888888888,
             "#fdca26"
            ],
            [
             1,
             "#f0f921"
            ]
           ],
           "sequentialminus": [
            [
             0,
             "#0d0887"
            ],
            [
             0.1111111111111111,
             "#46039f"
            ],
            [
             0.2222222222222222,
             "#7201a8"
            ],
            [
             0.3333333333333333,
             "#9c179e"
            ],
            [
             0.4444444444444444,
             "#bd3786"
            ],
            [
             0.5555555555555556,
             "#d8576b"
            ],
            [
             0.6666666666666666,
             "#ed7953"
            ],
            [
             0.7777777777777778,
             "#fb9f3a"
            ],
            [
             0.8888888888888888,
             "#fdca26"
            ],
            [
             1,
             "#f0f921"
            ]
           ]
          },
          "colorway": [
           "#636efa",
           "#EF553B",
           "#00cc96",
           "#ab63fa",
           "#FFA15A",
           "#19d3f3",
           "#FF6692",
           "#B6E880",
           "#FF97FF",
           "#FECB52"
          ],
          "font": {
           "color": "#2a3f5f"
          },
          "geo": {
           "bgcolor": "white",
           "lakecolor": "white",
           "landcolor": "#E5ECF6",
           "showlakes": true,
           "showland": true,
           "subunitcolor": "white"
          },
          "hoverlabel": {
           "align": "left"
          },
          "hovermode": "closest",
          "mapbox": {
           "style": "light"
          },
          "paper_bgcolor": "white",
          "plot_bgcolor": "#E5ECF6",
          "polar": {
           "angularaxis": {
            "gridcolor": "white",
            "linecolor": "white",
            "ticks": ""
           },
           "bgcolor": "#E5ECF6",
           "radialaxis": {
            "gridcolor": "white",
            "linecolor": "white",
            "ticks": ""
           }
          },
          "scene": {
           "xaxis": {
            "backgroundcolor": "#E5ECF6",
            "gridcolor": "white",
            "gridwidth": 2,
            "linecolor": "white",
            "showbackground": true,
            "ticks": "",
            "zerolinecolor": "white"
           },
           "yaxis": {
            "backgroundcolor": "#E5ECF6",
            "gridcolor": "white",
            "gridwidth": 2,
            "linecolor": "white",
            "showbackground": true,
            "ticks": "",
            "zerolinecolor": "white"
           },
           "zaxis": {
            "backgroundcolor": "#E5ECF6",
            "gridcolor": "white",
            "gridwidth": 2,
            "linecolor": "white",
            "showbackground": true,
            "ticks": "",
            "zerolinecolor": "white"
           }
          },
          "shapedefaults": {
           "line": {
            "color": "#2a3f5f"
           }
          },
          "ternary": {
           "aaxis": {
            "gridcolor": "white",
            "linecolor": "white",
            "ticks": ""
           },
           "baxis": {
            "gridcolor": "white",
            "linecolor": "white",
            "ticks": ""
           },
           "bgcolor": "#E5ECF6",
           "caxis": {
            "gridcolor": "white",
            "linecolor": "white",
            "ticks": ""
           }
          },
          "title": {
           "x": 0.05
          },
          "xaxis": {
           "automargin": true,
           "gridcolor": "white",
           "linecolor": "white",
           "ticks": "",
           "title": {
            "standoff": 15
           },
           "zerolinecolor": "white",
           "zerolinewidth": 2
          },
          "yaxis": {
           "automargin": true,
           "gridcolor": "white",
           "linecolor": "white",
           "ticks": "",
           "title": {
            "standoff": 15
           },
           "zerolinecolor": "white",
           "zerolinewidth": 2
          }
         }
        },
        "title": {
         "text": "uti-rate of elevators"
        },
        "yaxis": {
         "title": {
          "text": "uti-rate"
         }
        }
       }
      },
      "text/html": [
       "<div>\n",
       "        \n",
       "        \n",
       "            <div id=\"abd174b8-2820-489f-b230-7b4f4bf88850\" class=\"plotly-graph-div\" style=\"height:525px; width:100%;\"></div>\n",
       "            <script type=\"text/javascript\">\n",
       "                require([\"plotly\"], function(Plotly) {\n",
       "                    window.PLOTLYENV=window.PLOTLYENV || {};\n",
       "                    \n",
       "                if (document.getElementById(\"abd174b8-2820-489f-b230-7b4f4bf88850\")) {\n",
       "                    Plotly.newPlot(\n",
       "                        'abd174b8-2820-489f-b230-7b4f4bf88850',\n",
       "                        [{\"name\": \"elevator_0's uti-rate\", \"type\": \"box\", \"y\": [0.9972826086956522, 0.963276836158192, 0.8621553884711779, 0.970873786407767, 0.9444444444444444, 0.9368131868131868, 0.9090909090909091, 0.9216216216216216, 0.9476309226932669, 0.9269662921348315, 0.8716417910447761, 0.8770053475935828, 0.9587912087912088, 0.9415041782729805, 0.9739130434782609, 0.967391304347826, 0.9651474530831099, 0.9946524064171123, 0.9380053908355795, 0.8564231738035264, 0.8786407766990292, 0.8132387706855791, 0.997134670487106, 0.8974358974358975, 0.9220183486238532, 0.9923469387755102, 0.963276836158192, 0.997229916897507, 0.8436657681940701, 0.994269340974212, 0.9728395061728395, 0.9712793733681462, 0.9970501474926253, 0.8533333333333334, 0.8882521489971347, 0.9972826086956522, 0.9411764705882353, 0.8635097493036211, 0.8879781420765027, 0.8123324396782842, 0.8590078328981723, 0.8010204081632653, 0.9972677595628415, 0.9007444168734491, 0.7952380952380952, 0.9481481481481482, 0.9697802197802198, 0.9539295392953929, 0.8980716253443526, 0.6768447837150128, 0.8413978494623656, 0.9654178674351584, 0.9860724233983287, 0.9803921568627451, 0.956989247311828, 0.8844086021505376, 0.931758530183727, 0.8781869688385269, 0.9427792915531336, 0.9388888888888889, 0.8090185676392573, 0.975609756097561, 0.8526912181303116, 0.8362282878411911, 0.9784366576819407, 0.8850574712643678, 0.8056265984654731, 0.9714285714285714, 0.8743718592964824, 0.9708994708994709, 0.8827930174563591, 0.8632707774798928, 0.9647058823529412, 0.9689265536723164, 0.9124668435013262, 0.8877805486284289, 0.8735955056179775, 0.9920424403183024, 0.9973262032085561, 0.8489010989010989, 0.9976744186046511, 0.9917808219178083, 0.9680232558139535, 0.9915966386554622, 0.9093484419263456, 0.9725, 0.9410112359550562, 0.9971590909090909, 0.9339080459770115, 0.9054054054054054, 0.9974489795918368, 0.9493333333333334, 0.9490084985835694, 0.9260273972602739, 0.9226666666666666, 0.9533678756476683, 0.859375, 0.963276836158192, 0.7983193277310925, 0.9351032448377581]}, {\"name\": \"elevator_1's uti-rate\", \"type\": \"box\", \"y\": [0.8668478260869565, 0.9548022598870056, 0.9699248120300752, 0.8058252427184466, 0.9678362573099415, 0.7692307692307693, 0.9834710743801653, 0.9648648648648649, 0.7381546134663342, 0.9971910112359551, 0.9761194029850746, 0.9705882352941176, 0.9313186813186813, 0.935933147632312, 0.9623188405797102, 0.7847826086956522, 0.8981233243967829, 0.9251336898395722, 0.9137466307277629, 0.9722921914357683, 0.9733009708737864, 0.9976359338061466, 0.8911174785100286, 0.9658119658119658, 0.676605504587156, 0.8826530612244898, 0.9689265536723164, 0.8808864265927978, 0.9703504043126685, 0.9684813753581661, 0.8320987654320988, 0.8198433420365535, 0.9528023598820059, 0.888, 0.997134670487106, 0.8913043478260869, 0.9439775910364145, 0.9693593314763231, 0.9918032786885246, 0.9705093833780161, 0.95822454308094, 0.9566326530612245, 0.7486338797814208, 0.9975186104218362, 0.9976190476190476, 0.9209876543209876, 0.9725274725274725, 0.8672086720867209, 0.9586776859504132, 0.9923664122137404, 0.978494623655914, 0.9250720461095101, 0.9164345403899722, 0.9439775910364145, 0.9435483870967742, 0.8870967741935484, 0.9422572178477691, 0.9971671388101983, 0.888283378746594, 0.9777777777777777, 0.8647214854111406, 0.8617886178861789, 0.9405099150141643, 0.9478908188585607, 0.876010781671159, 0.9741379310344828, 0.9667519181585678, 0.8805194805194805, 0.9723618090452262, 0.8333333333333334, 0.9825436408977556, 0.9249329758713136, 0.861764705882353, 0.9519774011299436, 0.8275862068965517, 0.9625935162094763, 0.9466292134831461, 0.8938992042440318, 0.8716577540106952, 0.9972527472527473, 0.7302325581395349, 0.9424657534246575, 0.9593023255813954, 0.9439775910364145, 0.9235127478753541, 0.81, 0.9410112359550562, 0.8125, 0.9683908045977011, 0.9972972972972973, 0.826530612244898, 0.9493333333333334, 0.9688385269121813, 0.852054794520548, 0.8986666666666666, 0.7409326424870466, 0.9973958333333334, 0.9689265536723164, 0.969187675070028, 0.9203539823008849]}],\n",
       "                        {\"template\": {\"data\": {\"bar\": [{\"error_x\": {\"color\": \"#2a3f5f\"}, \"error_y\": {\"color\": \"#2a3f5f\"}, \"marker\": {\"line\": {\"color\": \"#E5ECF6\", \"width\": 0.5}}, \"type\": \"bar\"}], \"barpolar\": [{\"marker\": {\"line\": {\"color\": \"#E5ECF6\", \"width\": 0.5}}, \"type\": \"barpolar\"}], \"carpet\": [{\"aaxis\": {\"endlinecolor\": \"#2a3f5f\", \"gridcolor\": \"white\", \"linecolor\": \"white\", \"minorgridcolor\": \"white\", \"startlinecolor\": \"#2a3f5f\"}, \"baxis\": {\"endlinecolor\": \"#2a3f5f\", \"gridcolor\": \"white\", \"linecolor\": \"white\", \"minorgridcolor\": \"white\", \"startlinecolor\": \"#2a3f5f\"}, \"type\": \"carpet\"}], \"choropleth\": [{\"colorbar\": {\"outlinewidth\": 0, \"ticks\": \"\"}, \"type\": \"choropleth\"}], \"contour\": [{\"colorbar\": {\"outlinewidth\": 0, \"ticks\": \"\"}, \"colorscale\": [[0.0, \"#0d0887\"], [0.1111111111111111, \"#46039f\"], [0.2222222222222222, \"#7201a8\"], [0.3333333333333333, \"#9c179e\"], [0.4444444444444444, \"#bd3786\"], [0.5555555555555556, \"#d8576b\"], [0.6666666666666666, \"#ed7953\"], [0.7777777777777778, \"#fb9f3a\"], [0.8888888888888888, \"#fdca26\"], [1.0, \"#f0f921\"]], \"type\": \"contour\"}], \"contourcarpet\": [{\"colorbar\": {\"outlinewidth\": 0, \"ticks\": \"\"}, \"type\": \"contourcarpet\"}], \"heatmap\": [{\"colorbar\": {\"outlinewidth\": 0, \"ticks\": \"\"}, \"colorscale\": [[0.0, \"#0d0887\"], [0.1111111111111111, \"#46039f\"], [0.2222222222222222, \"#7201a8\"], [0.3333333333333333, \"#9c179e\"], [0.4444444444444444, \"#bd3786\"], [0.5555555555555556, \"#d8576b\"], [0.6666666666666666, \"#ed7953\"], [0.7777777777777778, \"#fb9f3a\"], [0.8888888888888888, \"#fdca26\"], [1.0, \"#f0f921\"]], \"type\": \"heatmap\"}], \"heatmapgl\": [{\"colorbar\": {\"outlinewidth\": 0, \"ticks\": \"\"}, \"colorscale\": [[0.0, \"#0d0887\"], [0.1111111111111111, \"#46039f\"], [0.2222222222222222, \"#7201a8\"], [0.3333333333333333, \"#9c179e\"], [0.4444444444444444, \"#bd3786\"], [0.5555555555555556, \"#d8576b\"], [0.6666666666666666, \"#ed7953\"], [0.7777777777777778, \"#fb9f3a\"], [0.8888888888888888, \"#fdca26\"], [1.0, \"#f0f921\"]], \"type\": \"heatmapgl\"}], \"histogram\": [{\"marker\": {\"colorbar\": {\"outlinewidth\": 0, \"ticks\": \"\"}}, \"type\": \"histogram\"}], \"histogram2d\": [{\"colorbar\": {\"outlinewidth\": 0, \"ticks\": \"\"}, \"colorscale\": [[0.0, \"#0d0887\"], [0.1111111111111111, \"#46039f\"], [0.2222222222222222, \"#7201a8\"], [0.3333333333333333, \"#9c179e\"], [0.4444444444444444, \"#bd3786\"], [0.5555555555555556, \"#d8576b\"], [0.6666666666666666, \"#ed7953\"], [0.7777777777777778, \"#fb9f3a\"], [0.8888888888888888, \"#fdca26\"], [1.0, \"#f0f921\"]], \"type\": \"histogram2d\"}], \"histogram2dcontour\": [{\"colorbar\": {\"outlinewidth\": 0, \"ticks\": \"\"}, \"colorscale\": [[0.0, \"#0d0887\"], [0.1111111111111111, \"#46039f\"], [0.2222222222222222, \"#7201a8\"], [0.3333333333333333, \"#9c179e\"], [0.4444444444444444, \"#bd3786\"], [0.5555555555555556, \"#d8576b\"], [0.6666666666666666, \"#ed7953\"], [0.7777777777777778, \"#fb9f3a\"], [0.8888888888888888, \"#fdca26\"], [1.0, \"#f0f921\"]], \"type\": \"histogram2dcontour\"}], \"mesh3d\": [{\"colorbar\": {\"outlinewidth\": 0, \"ticks\": \"\"}, \"type\": \"mesh3d\"}], \"parcoords\": [{\"line\": {\"colorbar\": {\"outlinewidth\": 0, \"ticks\": \"\"}}, \"type\": \"parcoords\"}], \"pie\": [{\"automargin\": true, \"type\": \"pie\"}], \"scatter\": [{\"marker\": {\"colorbar\": {\"outlinewidth\": 0, \"ticks\": \"\"}}, \"type\": \"scatter\"}], \"scatter3d\": [{\"line\": {\"colorbar\": {\"outlinewidth\": 0, \"ticks\": \"\"}}, \"marker\": {\"colorbar\": {\"outlinewidth\": 0, \"ticks\": \"\"}}, \"type\": \"scatter3d\"}], \"scattercarpet\": [{\"marker\": {\"colorbar\": {\"outlinewidth\": 0, \"ticks\": \"\"}}, \"type\": \"scattercarpet\"}], \"scattergeo\": [{\"marker\": {\"colorbar\": {\"outlinewidth\": 0, \"ticks\": \"\"}}, \"type\": \"scattergeo\"}], \"scattergl\": [{\"marker\": {\"colorbar\": {\"outlinewidth\": 0, \"ticks\": \"\"}}, \"type\": \"scattergl\"}], \"scattermapbox\": [{\"marker\": {\"colorbar\": {\"outlinewidth\": 0, \"ticks\": \"\"}}, \"type\": \"scattermapbox\"}], \"scatterpolar\": [{\"marker\": {\"colorbar\": {\"outlinewidth\": 0, \"ticks\": \"\"}}, \"type\": \"scatterpolar\"}], \"scatterpolargl\": [{\"marker\": {\"colorbar\": {\"outlinewidth\": 0, \"ticks\": \"\"}}, \"type\": \"scatterpolargl\"}], \"scatterternary\": [{\"marker\": {\"colorbar\": {\"outlinewidth\": 0, \"ticks\": \"\"}}, \"type\": \"scatterternary\"}], \"surface\": [{\"colorbar\": {\"outlinewidth\": 0, \"ticks\": \"\"}, \"colorscale\": [[0.0, \"#0d0887\"], [0.1111111111111111, \"#46039f\"], [0.2222222222222222, \"#7201a8\"], [0.3333333333333333, \"#9c179e\"], [0.4444444444444444, \"#bd3786\"], [0.5555555555555556, \"#d8576b\"], [0.6666666666666666, \"#ed7953\"], [0.7777777777777778, \"#fb9f3a\"], [0.8888888888888888, \"#fdca26\"], [1.0, \"#f0f921\"]], \"type\": \"surface\"}], \"table\": [{\"cells\": {\"fill\": {\"color\": \"#EBF0F8\"}, \"line\": {\"color\": \"white\"}}, \"header\": {\"fill\": {\"color\": \"#C8D4E3\"}, \"line\": {\"color\": \"white\"}}, \"type\": \"table\"}]}, \"layout\": {\"annotationdefaults\": {\"arrowcolor\": \"#2a3f5f\", \"arrowhead\": 0, \"arrowwidth\": 1}, \"coloraxis\": {\"colorbar\": {\"outlinewidth\": 0, \"ticks\": \"\"}}, \"colorscale\": {\"diverging\": [[0, \"#8e0152\"], [0.1, \"#c51b7d\"], [0.2, \"#de77ae\"], [0.3, \"#f1b6da\"], [0.4, \"#fde0ef\"], [0.5, \"#f7f7f7\"], [0.6, \"#e6f5d0\"], [0.7, \"#b8e186\"], [0.8, \"#7fbc41\"], [0.9, \"#4d9221\"], [1, \"#276419\"]], \"sequential\": [[0.0, \"#0d0887\"], [0.1111111111111111, \"#46039f\"], [0.2222222222222222, \"#7201a8\"], [0.3333333333333333, \"#9c179e\"], [0.4444444444444444, \"#bd3786\"], [0.5555555555555556, \"#d8576b\"], [0.6666666666666666, \"#ed7953\"], [0.7777777777777778, \"#fb9f3a\"], [0.8888888888888888, \"#fdca26\"], [1.0, \"#f0f921\"]], \"sequentialminus\": [[0.0, \"#0d0887\"], [0.1111111111111111, \"#46039f\"], [0.2222222222222222, \"#7201a8\"], [0.3333333333333333, \"#9c179e\"], [0.4444444444444444, \"#bd3786\"], [0.5555555555555556, \"#d8576b\"], [0.6666666666666666, \"#ed7953\"], [0.7777777777777778, \"#fb9f3a\"], [0.8888888888888888, \"#fdca26\"], [1.0, \"#f0f921\"]]}, \"colorway\": [\"#636efa\", \"#EF553B\", \"#00cc96\", \"#ab63fa\", \"#FFA15A\", \"#19d3f3\", \"#FF6692\", \"#B6E880\", \"#FF97FF\", \"#FECB52\"], \"font\": {\"color\": \"#2a3f5f\"}, \"geo\": {\"bgcolor\": \"white\", \"lakecolor\": \"white\", \"landcolor\": \"#E5ECF6\", \"showlakes\": true, \"showland\": true, \"subunitcolor\": \"white\"}, \"hoverlabel\": {\"align\": \"left\"}, \"hovermode\": \"closest\", \"mapbox\": {\"style\": \"light\"}, \"paper_bgcolor\": \"white\", \"plot_bgcolor\": \"#E5ECF6\", \"polar\": {\"angularaxis\": {\"gridcolor\": \"white\", \"linecolor\": \"white\", \"ticks\": \"\"}, \"bgcolor\": \"#E5ECF6\", \"radialaxis\": {\"gridcolor\": \"white\", \"linecolor\": \"white\", \"ticks\": \"\"}}, \"scene\": {\"xaxis\": {\"backgroundcolor\": \"#E5ECF6\", \"gridcolor\": \"white\", \"gridwidth\": 2, \"linecolor\": \"white\", \"showbackground\": true, \"ticks\": \"\", \"zerolinecolor\": \"white\"}, \"yaxis\": {\"backgroundcolor\": \"#E5ECF6\", \"gridcolor\": \"white\", \"gridwidth\": 2, \"linecolor\": \"white\", \"showbackground\": true, \"ticks\": \"\", \"zerolinecolor\": \"white\"}, \"zaxis\": {\"backgroundcolor\": \"#E5ECF6\", \"gridcolor\": \"white\", \"gridwidth\": 2, \"linecolor\": \"white\", \"showbackground\": true, \"ticks\": \"\", \"zerolinecolor\": \"white\"}}, \"shapedefaults\": {\"line\": {\"color\": \"#2a3f5f\"}}, \"ternary\": {\"aaxis\": {\"gridcolor\": \"white\", \"linecolor\": \"white\", \"ticks\": \"\"}, \"baxis\": {\"gridcolor\": \"white\", \"linecolor\": \"white\", \"ticks\": \"\"}, \"bgcolor\": \"#E5ECF6\", \"caxis\": {\"gridcolor\": \"white\", \"linecolor\": \"white\", \"ticks\": \"\"}}, \"title\": {\"x\": 0.05}, \"xaxis\": {\"automargin\": true, \"gridcolor\": \"white\", \"linecolor\": \"white\", \"ticks\": \"\", \"title\": {\"standoff\": 15}, \"zerolinecolor\": \"white\", \"zerolinewidth\": 2}, \"yaxis\": {\"automargin\": true, \"gridcolor\": \"white\", \"linecolor\": \"white\", \"ticks\": \"\", \"title\": {\"standoff\": 15}, \"zerolinecolor\": \"white\", \"zerolinewidth\": 2}}}, \"title\": {\"text\": \"uti-rate of elevators\"}, \"yaxis\": {\"title\": {\"text\": \"uti-rate\"}}},\n",
       "                        {\"responsive\": true}\n",
       "                    ).then(function(){\n",
       "                            \n",
       "var gd = document.getElementById('abd174b8-2820-489f-b230-7b4f4bf88850');\n",
       "var x = new MutationObserver(function (mutations, observer) {{\n",
       "        var display = window.getComputedStyle(gd).display;\n",
       "        if (!display || display === 'none') {{\n",
       "            console.log([gd, 'removed!']);\n",
       "            Plotly.purge(gd);\n",
       "            observer.disconnect();\n",
       "        }}\n",
       "}});\n",
       "\n",
       "// Listen for the removal of the full notebook cells\n",
       "var notebookContainer = gd.closest('#notebook-container');\n",
       "if (notebookContainer) {{\n",
       "    x.observe(notebookContainer, {childList: true});\n",
       "}}\n",
       "\n",
       "// Listen for the clearing of the current output cell\n",
       "var outputEl = gd.closest('.output');\n",
       "if (outputEl) {{\n",
       "    x.observe(outputEl, {childList: true});\n",
       "}}\n",
       "\n",
       "                        })\n",
       "                };\n",
       "                });\n",
       "            </script>\n",
       "        </div>"
      ]
     },
     "metadata": {},
     "output_type": "display_data"
    }
   ],
   "source": [
    "if __name__ == '__main__' :\n",
    "    #simulat K times\n",
    "    K = 100\n",
    "    count = 0\n",
    "    mwt_list = []\n",
    "    mrt_list = []\n",
    "    time_list = []\n",
    "    lo_0_list = []\n",
    "    lo_1_list = []\n",
    "    x = list(range(1, K + 1))\n",
    "    while count < K :\n",
    "        result = simulate()\n",
    "        # if some bugs happened QAQ\n",
    "        if not result[0] :\n",
    "            continue\n",
    "        \n",
    "        count += 1\n",
    "        data = result[1]\n",
    "        mwt = data[0]; mrt = data[1]\n",
    "        time = data[2]\n",
    "        lo_0 = data[3]; lo_1 = data[4]\n",
    "        print(\n",
    "            f'complete ({count}/{K}) simulations\\n'\n",
    "            f'(mean_wt, mean_rt, total_time, uti_rate_0, uti_rate_1) = '\n",
    "            f'({mwt:.3f}, {mrt:.3f}, {time}, {lo_0:.3f}, {lo_1:.3f})'\n",
    "        )\n",
    "        mwt_list.append(mwt)\n",
    "        mrt_list.append(mrt)\n",
    "        time_list.append(time)\n",
    "        lo_0_list.append(lo_0)\n",
    "        lo_1_list.append(lo_1)\n",
    "        \n",
    "    #make graphs\n",
    "    fig1 = go.Figure()\n",
    "    fig1.add_trace(go.Scatter(x = x, y = mwt_list, name = 'mean waiting time'));\n",
    "    fig1.add_trace(go.Scatter(x = x, y = mrt_list, name = 'mean riding time'));\n",
    "    fig1.add_trace(go.Scatter(x = x, y = list(map(add, mwt_list, mrt_list)),\n",
    "                              name = 'mean Ws(mwt + mrt)'));\n",
    "    fig1.update_layout(title = 'WT, RT and Ws',\n",
    "                       xaxis_title = 'K-th simulation',\n",
    "                       yaxis_title = 'time(s)');\n",
    "    box1 = go.Figure()\n",
    "    box1.add_trace(go.Box(y = mwt_list, name = 'mean waiting time'));\n",
    "    box1.add_trace(go.Box(y = mrt_list, name = 'mean riding time'));\n",
    "    box1.add_trace(go.Box(y = list(map(add, mwt_list, mrt_list)),\n",
    "                          name = 'mean Ws(mwt + mrt)'));\n",
    "    box1.update_layout(title = 'WT, RT and Ws',\n",
    "                       yaxis_title = 'time(s)');\n",
    "    \n",
    "    fig2 = go.Figure()\n",
    "    fig2.add_trace(go.Scatter(x = x, y = time_list, name = 'total time'));\n",
    "    fig2.update_layout(title = f'total time for {NUM_OF_PS} passenger groups',\n",
    "                       xaxis_title = 'K-th simulation',\n",
    "                       yaxis_title = 'time(s)');\n",
    "    box2 = go.Figure()\n",
    "    box2.add_trace(go.Box(y = time_list, name = 'total time'));\n",
    "    box2.update_layout(title = f'total time for {NUM_OF_PS} passenger groups',\n",
    "                       yaxis_title = 'time(s)');\n",
    "    \n",
    "    fig3 = go.Figure()\n",
    "    fig3.add_trace(go.Scatter(x = x, y = lo_0_list,\n",
    "                              name = 'elevator_0\\'s uti-rate'));\n",
    "    fig3.add_trace(go.Scatter(x = x, y = lo_1_list,\n",
    "                              name = 'elevator_1\\'s uti-rate'));\n",
    "    fig3.update_layout(title = 'uti-rate of elevators',\n",
    "                       xaxis_title = 'K-th simulation',\n",
    "                       yaxis_title = 'uti-rate');\n",
    "    box3 = go.Figure()\n",
    "    box3.add_trace(go.Box(y = lo_0_list,\n",
    "                          name = 'elevator_0\\'s uti-rate'));\n",
    "    box3.add_trace(go.Box(y = lo_1_list,\n",
    "                          name = 'elevator_1\\'s uti-rate'));\n",
    "    box3.update_layout(title = 'uti-rate of elevators',\n",
    "                       yaxis_title = 'uti-rate');\n",
    "    \n",
    "    fig1.show()\n",
    "    box1.show()\n",
    "    fig2.show()\n",
    "    box2.show()\n",
    "    fig3.show()\n",
    "    box3.show()"
   ]
  }
 ],
 "metadata": {
  "kernelspec": {
   "display_name": "Python 3",
   "language": "python",
   "name": "python3"
  },
  "language_info": {
   "codemirror_mode": {
    "name": "ipython",
    "version": 3
   },
   "file_extension": ".py",
   "mimetype": "text/x-python",
   "name": "python",
   "nbconvert_exporter": "python",
   "pygments_lexer": "ipython3",
   "version": "3.7.3"
  }
 },
 "nbformat": 4,
 "nbformat_minor": 2
}
